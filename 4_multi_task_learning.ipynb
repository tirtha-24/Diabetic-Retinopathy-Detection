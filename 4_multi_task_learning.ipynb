{
  "nbformat": 4,
  "nbformat_minor": 0,
  "metadata": {
    "accelerator": "GPU",
    "colab": {
      "name": "4_multi_task_learning.ipynb",
      "provenance": [],
      "collapsed_sections": [],
      "toc_visible": true
    },
    "kernelspec": {
      "display_name": "Python 3",
      "language": "python",
      "name": "python3"
    },
    "language_info": {
      "codemirror_mode": {
        "name": "ipython",
        "version": 3
      },
      "file_extension": ".py",
      "mimetype": "text/x-python",
      "name": "python",
      "nbconvert_exporter": "python",
      "pygments_lexer": "ipython3",
      "version": "3.6.5"
    }
  },
  "cells": [
    {
      "cell_type": "markdown",
      "metadata": {
        "id": "WcarqQUXNrGB"
      },
      "source": [
        "#  **MULTI-TASK LEARNING**\n"
      ]
    },
    {
      "cell_type": "code",
      "metadata": {
        "colab": {
          "base_uri": "https://localhost:8080/"
        },
        "id": "2WM3_SsE291t",
        "outputId": "788cd767-ebdc-4431-c6a0-97f82d083585"
      },
      "source": [
        "from google.colab import drive\n",
        "drive.mount('/content/drive')"
      ],
      "execution_count": null,
      "outputs": [
        {
          "output_type": "stream",
          "text": [
            "Mounted at /content/drive\n"
          ],
          "name": "stdout"
        }
      ]
    },
    {
      "cell_type": "code",
      "metadata": {
        "colab": {
          "base_uri": "https://localhost:8080/"
        },
        "id": "s0-OQReUNxm9",
        "outputId": "a30c9f04-562b-437e-b52e-08300aacf0dc"
      },
      "source": [
        "# Research Kernel Link - https://arxiv.org/pdf/2003.02261.pdf\n",
        "\n",
        "import pandas as pd\n",
        "import numpy as np\n",
        "import itertools\n",
        "import os\n",
        "import sys\n",
        "from prettytable import PrettyTable\n",
        "import pickle\n",
        "import multiprocessing\n",
        "from multiprocessing.pool import ThreadPool\n",
        "from tqdm import tqdm_notebook\n",
        "print(multiprocessing.cpu_count(),\" CPU cores\")\n",
        "\n",
        "import seaborn as sns\n",
        "%matplotlib inline\n",
        "import matplotlib.pyplot as plt\n",
        "plt.rcParams[\"axes.grid\"] = False\n",
        "\n",
        "from sklearn.metrics import confusion_matrix, cohen_kappa_score,accuracy_score\n",
        "from sklearn.preprocessing import MultiLabelBinarizer\n",
        "from sklearn.model_selection import train_test_split\n",
        "\n",
        "from PIL import Image\n",
        "import cv2\n",
        "\n",
        "import keras\n",
        "from keras import applications\n",
        "from keras.preprocessing.image import ImageDataGenerator\n",
        "from keras import optimizers,Model,Sequential\n",
        "from keras.layers import Input,GlobalAveragePooling2D,Dropout,Dense,Activation,BatchNormalization,GlobalMaxPooling2D,concatenate,Flatten\n",
        "from keras.callbacks import EarlyStopping,ReduceLROnPlateau,Callback\n",
        "from keras.initializers import random_normal\n",
        "from keras.models import load_model\n",
        "from keras.losses import binary_crossentropy,categorical_crossentropy,mean_squared_error\n",
        "from keras import backend as K\n",
        "\n",
        "import tensorflow as tf\n",
        "#import shap\n",
        "\n",
        "# Colab Libs...\n",
        "from pydrive.auth import GoogleAuth\n",
        "from pydrive.drive import GoogleDrive\n",
        "from google.colab import auth\n",
        "from oauth2client.client import GoogleCredentials"
      ],
      "execution_count": null,
      "outputs": [
        {
          "output_type": "stream",
          "text": [
            "2  CPU cores\n"
          ],
          "name": "stdout"
        }
      ]
    },
    {
      "cell_type": "markdown",
      "metadata": {
        "id": "3ghH0prCN6_F"
      },
      "source": [
        "## **Setup Colab Environment**\n"
      ]
    },
    {
      "cell_type": "code",
      "metadata": {
        "id": "YSpwm4uBCwe3"
      },
      "source": [
        "'''\n",
        "The codes below uses Authentication URL to allow loading of Files and Images from Google Drive to Colab Memory\n",
        "'''"
      ],
      "execution_count": null,
      "outputs": []
    },
    {
      "cell_type": "code",
      "metadata": {
        "id": "DaZG-E-IOE7F"
      },
      "source": [
        "# Importing Libraries\n",
        "#ref - https://buomsoo-kim.github.io/colab/2018/04/16/Importing-files-from-Google-Drive-in-Google-Colab.md/\n",
        "\n",
        "auth.authenticate_user()\n",
        "gauth = GoogleAuth()\n",
        "gauth.credentials = GoogleCredentials.get_application_default()\n",
        "drive = GoogleDrive(gauth)"
      ],
      "execution_count": null,
      "outputs": []
    },
    {
      "cell_type": "code",
      "metadata": {
        "colab": {
          "base_uri": "https://localhost:8080/"
        },
        "id": "hmdV3sZDOOsH",
        "outputId": "406daf9f-6d3b-45b6-a8f4-e08f5a9f10ca"
      },
      "source": [
        "import os\n",
        "os.chdir('/content/drive/MyDrive/PROJECTS/Deep learning/Diabetic retinopathy detection/dataset/aptos2019-blindness-detection')\n",
        "print(\"We are currently in the folder of \",os.getcwd())"
      ],
      "execution_count": null,
      "outputs": [
        {
          "output_type": "stream",
          "text": [
            "We are currently in the folder of  /content/drive/MyDrive/PROJECTS/Deep learning/Diabetic retinopathy detection/dataset/aptos2019-blindness-detection\n"
          ],
          "name": "stdout"
        }
      ]
    },
    {
      "cell_type": "markdown",
      "metadata": {
        "id": "iqbNUH2r6dTa"
      },
      "source": [
        "## **Load data and preprocess**\n"
      ]
    },
    {
      "cell_type": "code",
      "metadata": {
        "id": "kG55l44tCzV1"
      },
      "source": [
        "'''\n",
        "Loading Train and Validation Data from Previously split Train/Test data\n",
        "'''"
      ],
      "execution_count": null,
      "outputs": []
    },
    {
      "cell_type": "code",
      "metadata": {
        "id": "a1y2H02GOQXu"
      },
      "source": [
        "def load_data():\n",
        "    file = open('df_train_train', 'rb')\n",
        "    df_train_train = pickle.load(file)\n",
        "    file.close()\n",
        "\n",
        "    file = open('df_train_test', 'rb')\n",
        "    df_train_test = pickle.load(file)\n",
        "    file.close()\n",
        "    \n",
        "    return df_train_train,df_train_test"
      ],
      "execution_count": null,
      "outputs": []
    },
    {
      "cell_type": "code",
      "metadata": {
        "colab": {
          "base_uri": "https://localhost:8080/",
          "height": 269
        },
        "id": "AsdpEXif7Cto",
        "outputId": "e96913ad-1293-441f-9754-cbf1f82bc138"
      },
      "source": [
        "df_train_train,df_train_test = load_data()\n",
        "print(df_train_train.shape,df_train_test.shape,'\\n')\n",
        "df_train_train.head(6)"
      ],
      "execution_count": null,
      "outputs": [
        {
          "output_type": "stream",
          "text": [
            "(2929, 4) (733, 4) \n",
            "\n"
          ],
          "name": "stdout"
        },
        {
          "output_type": "execute_result",
          "data": {
            "text/html": [
              "<div>\n",
              "<style scoped>\n",
              "    .dataframe tbody tr th:only-of-type {\n",
              "        vertical-align: middle;\n",
              "    }\n",
              "\n",
              "    .dataframe tbody tr th {\n",
              "        vertical-align: top;\n",
              "    }\n",
              "\n",
              "    .dataframe thead th {\n",
              "        text-align: right;\n",
              "    }\n",
              "</style>\n",
              "<table border=\"1\" class=\"dataframe\">\n",
              "  <thead>\n",
              "    <tr style=\"text-align: right;\">\n",
              "      <th></th>\n",
              "      <th>id_code</th>\n",
              "      <th>diagnosis</th>\n",
              "      <th>file_path</th>\n",
              "      <th>file_name</th>\n",
              "    </tr>\n",
              "  </thead>\n",
              "  <tbody>\n",
              "    <tr>\n",
              "      <th>684</th>\n",
              "      <td>30cab14951ac</td>\n",
              "      <td>1</td>\n",
              "      <td>/content/drive/MyDrive/PROJECTS/Deep learning/...</td>\n",
              "      <td>30cab14951ac.png</td>\n",
              "    </tr>\n",
              "    <tr>\n",
              "      <th>1332</th>\n",
              "      <td>5ca73d28f17f</td>\n",
              "      <td>0</td>\n",
              "      <td>/content/drive/MyDrive/PROJECTS/Deep learning/...</td>\n",
              "      <td>5ca73d28f17f.png</td>\n",
              "    </tr>\n",
              "    <tr>\n",
              "      <th>768</th>\n",
              "      <td>3710ff45299c</td>\n",
              "      <td>0</td>\n",
              "      <td>/content/drive/MyDrive/PROJECTS/Deep learning/...</td>\n",
              "      <td>3710ff45299c.png</td>\n",
              "    </tr>\n",
              "    <tr>\n",
              "      <th>2019</th>\n",
              "      <td>8dfff47b06b7</td>\n",
              "      <td>2</td>\n",
              "      <td>/content/drive/MyDrive/PROJECTS/Deep learning/...</td>\n",
              "      <td>8dfff47b06b7.png</td>\n",
              "    </tr>\n",
              "    <tr>\n",
              "      <th>683</th>\n",
              "      <td>30941b65348b</td>\n",
              "      <td>1</td>\n",
              "      <td>/content/drive/MyDrive/PROJECTS/Deep learning/...</td>\n",
              "      <td>30941b65348b.png</td>\n",
              "    </tr>\n",
              "    <tr>\n",
              "      <th>3638</th>\n",
              "      <td>fe3f62695b2d</td>\n",
              "      <td>0</td>\n",
              "      <td>/content/drive/MyDrive/PROJECTS/Deep learning/...</td>\n",
              "      <td>fe3f62695b2d.png</td>\n",
              "    </tr>\n",
              "  </tbody>\n",
              "</table>\n",
              "</div>"
            ],
            "text/plain": [
              "           id_code  ...         file_name\n",
              "684   30cab14951ac  ...  30cab14951ac.png\n",
              "1332  5ca73d28f17f  ...  5ca73d28f17f.png\n",
              "768   3710ff45299c  ...  3710ff45299c.png\n",
              "2019  8dfff47b06b7  ...  8dfff47b06b7.png\n",
              "683   30941b65348b  ...  30941b65348b.png\n",
              "3638  fe3f62695b2d  ...  fe3f62695b2d.png\n",
              "\n",
              "[6 rows x 4 columns]"
            ]
          },
          "metadata": {
            "tags": []
          },
          "execution_count": 7
        }
      ]
    },
    {
      "cell_type": "code",
      "metadata": {
        "colab": {
          "base_uri": "https://localhost:8080/"
        },
        "id": "cwTSL-XLIYPv",
        "outputId": "fbb3e403-9d9f-408b-de39-4801b296a825"
      },
      "source": [
        "print(len(os.listdir(\"./train_images_resized_preprocessed/\")),len(os.listdir(\"./test_images_resized_preprocessed/\")))"
      ],
      "execution_count": null,
      "outputs": [
        {
          "output_type": "stream",
          "text": [
            "2929 733\n"
          ],
          "name": "stdout"
        }
      ]
    },
    {
      "cell_type": "code",
      "metadata": {
        "id": "L_-O--AhOXXD"
      },
      "source": [
        "def crop_image_from_gray(img,tol=7):\n",
        "    if img.ndim ==2:\n",
        "        mask = img>tol\n",
        "        return img[np.ix_(mask.any(1),mask.any(0))]\n",
        "    elif img.ndim==3:\n",
        "        gray_img = cv2.cvtColor(img, cv2.COLOR_RGB2GRAY)\n",
        "        mask = gray_img>tol\n",
        "        \n",
        "        check_shape = img[:,:,0][np.ix_(mask.any(1),mask.any(0))].shape[0]\n",
        "        if (check_shape == 0): # image is too dark so that we crop out everything,\n",
        "            return img # return original image\n",
        "        else:\n",
        "            img1=img[:,:,0][np.ix_(mask.any(1),mask.any(0))]\n",
        "            img2=img[:,:,1][np.ix_(mask.any(1),mask.any(0))]\n",
        "            img3=img[:,:,2][np.ix_(mask.any(1),mask.any(0))]\n",
        "    #         print(img1.shape,img2.shape,img3.shape)\n",
        "            img = np.stack([img1,img2,img3],axis=-1)\n",
        "    #         print(img.shape)\n",
        "        return img\n",
        "\n",
        "def circle_crop(img, sigmaX = 30):   \n",
        "    \"\"\"\n",
        "    Create circular crop around image centre    \n",
        "    \"\"\"    \n",
        "    img = crop_image_from_gray(img)    \n",
        "    img = cv2.cvtColor(img, cv2.COLOR_BGR2RGB)\n",
        "    \n",
        "    height, width, depth = img.shape    \n",
        "    \n",
        "    x = int(width/2)\n",
        "    y = int(height/2)\n",
        "    r = np.amin((x,y))\n",
        "    \n",
        "    circle_img = np.zeros((height, width), np.uint8)\n",
        "    cv2.circle(circle_img, (x,y), int(r), 1, thickness=-1)\n",
        "    img = cv2.bitwise_and(img, img, mask=circle_img)\n",
        "    img = crop_image_from_gray(img)\n",
        "    img=cv2.addWeighted(img,4, cv2.GaussianBlur( img , (0,0) , sigmaX) ,-4 ,128)\n",
        "    return img \n",
        "\n",
        "def preprocess_image(file):\n",
        "    input_filepath = os.path.join('./','train_images','{}.png'.format(file))\n",
        "    output_filepath = os.path.join('./','train_images_resized_preprocessed','{}.png'.format(file))\n",
        "    \n",
        "    img = cv2.imread(input_filepath)\n",
        "    img = circle_crop(img) \n",
        "    cv2.imwrite(output_filepath, cv2.resize(img, (IMG_SIZE,IMG_SIZE)))"
      ],
      "execution_count": null,
      "outputs": []
    },
    {
      "cell_type": "code",
      "metadata": {
        "id": "AtOr6J0xr1n1",
        "colab": {
          "base_uri": "https://localhost:8080/",
          "height": 252
        },
        "outputId": "7293ae54-9a5f-4674-f5fd-2737761271ac"
      },
      "source": [
        "df_train_new_train,df_train_valid = train_test_split(df_train_train,test_size = 0.2)\n",
        "print(df_train_new_train.shape,df_train_valid.shape)\n",
        "#df_train_new_train.tail(6)\n",
        "df_train_valid.tail(6)"
      ],
      "execution_count": null,
      "outputs": [
        {
          "output_type": "stream",
          "text": [
            "(2343, 4) (586, 4)\n"
          ],
          "name": "stdout"
        },
        {
          "output_type": "execute_result",
          "data": {
            "text/html": [
              "<div>\n",
              "<style scoped>\n",
              "    .dataframe tbody tr th:only-of-type {\n",
              "        vertical-align: middle;\n",
              "    }\n",
              "\n",
              "    .dataframe tbody tr th {\n",
              "        vertical-align: top;\n",
              "    }\n",
              "\n",
              "    .dataframe thead th {\n",
              "        text-align: right;\n",
              "    }\n",
              "</style>\n",
              "<table border=\"1\" class=\"dataframe\">\n",
              "  <thead>\n",
              "    <tr style=\"text-align: right;\">\n",
              "      <th></th>\n",
              "      <th>id_code</th>\n",
              "      <th>diagnosis</th>\n",
              "      <th>file_path</th>\n",
              "      <th>file_name</th>\n",
              "    </tr>\n",
              "  </thead>\n",
              "  <tbody>\n",
              "    <tr>\n",
              "      <th>2013</th>\n",
              "      <td>8d9516ea3587</td>\n",
              "      <td>0</td>\n",
              "      <td>/content/drive/MyDrive/PROJECTS/Deep learning/...</td>\n",
              "      <td>8d9516ea3587.png</td>\n",
              "    </tr>\n",
              "    <tr>\n",
              "      <th>1407</th>\n",
              "      <td>6298468d7d75</td>\n",
              "      <td>1</td>\n",
              "      <td>/content/drive/MyDrive/PROJECTS/Deep learning/...</td>\n",
              "      <td>6298468d7d75.png</td>\n",
              "    </tr>\n",
              "    <tr>\n",
              "      <th>376</th>\n",
              "      <td>1bb0ddfe753a</td>\n",
              "      <td>1</td>\n",
              "      <td>/content/drive/MyDrive/PROJECTS/Deep learning/...</td>\n",
              "      <td>1bb0ddfe753a.png</td>\n",
              "    </tr>\n",
              "    <tr>\n",
              "      <th>1952</th>\n",
              "      <td>898f0bc8acfa</td>\n",
              "      <td>0</td>\n",
              "      <td>/content/drive/MyDrive/PROJECTS/Deep learning/...</td>\n",
              "      <td>898f0bc8acfa.png</td>\n",
              "    </tr>\n",
              "    <tr>\n",
              "      <th>319</th>\n",
              "      <td>18323d8f2470</td>\n",
              "      <td>2</td>\n",
              "      <td>/content/drive/MyDrive/PROJECTS/Deep learning/...</td>\n",
              "      <td>18323d8f2470.png</td>\n",
              "    </tr>\n",
              "    <tr>\n",
              "      <th>2839</th>\n",
              "      <td>c561bcd519e9</td>\n",
              "      <td>2</td>\n",
              "      <td>/content/drive/MyDrive/PROJECTS/Deep learning/...</td>\n",
              "      <td>c561bcd519e9.png</td>\n",
              "    </tr>\n",
              "  </tbody>\n",
              "</table>\n",
              "</div>"
            ],
            "text/plain": [
              "           id_code  ...         file_name\n",
              "2013  8d9516ea3587  ...  8d9516ea3587.png\n",
              "1407  6298468d7d75  ...  6298468d7d75.png\n",
              "376   1bb0ddfe753a  ...  1bb0ddfe753a.png\n",
              "1952  898f0bc8acfa  ...  898f0bc8acfa.png\n",
              "319   18323d8f2470  ...  18323d8f2470.png\n",
              "2839  c561bcd519e9  ...  c561bcd519e9.png\n",
              "\n",
              "[6 rows x 4 columns]"
            ]
          },
          "metadata": {
            "tags": []
          },
          "execution_count": 12
        }
      ]
    },
    {
      "cell_type": "code",
      "metadata": {
        "id": "RNQreh09seSp"
      },
      "source": [
        "\n",
        "file = open('/content/drive/MyDrive/PROJECTS/Deep learning/Diabetic retinopathy detection/dataset/aptos2019-blindness-detection/df_train_new_train', 'wb')\n",
        "pickle.dump(df_train_new_train, file)\n",
        "file.close()\n",
        "\n",
        "file = open('/content/drive/MyDrive/PROJECTS/Deep learning/Diabetic retinopathy detection/dataset/aptos2019-blindness-detection/df_train_valid', 'wb')\n",
        "pickle.dump(df_train_valid, file)\n",
        "file.close()\n",
        "\n",
        "\n",
        "file = open('/content/drive/MyDrive/PROJECTS/Deep learning/Diabetic retinopathy detection/dataset/aptos2019-blindness-detection/df_train_new_train', 'rb')\n",
        "df_train_new_train = pickle.load(file)\n",
        "file.close()\n",
        "\n",
        "file = open('/content/drive/MyDrive/PROJECTS/Deep learning/Diabetic retinopathy detection/dataset/aptos2019-blindness-detection/df_train_valid', 'rb')\n",
        "df_train_valid = pickle.load(file)\n",
        "file.close()"
      ],
      "execution_count": null,
      "outputs": []
    },
    {
      "cell_type": "code",
      "metadata": {
        "id": "xviDidlMLQtM"
      },
      "source": [
        "'''\n",
        "Defining Global Variables to be used in this notebook\n",
        "'''\n",
        "FACTOR = 4\n",
        "BATCH_SIZE = 8 * FACTOR\n",
        "IMG_SIZE = 512\n",
        "EPOCHS = 20\n",
        "WARMUP_EPOCHS = 5\n",
        "LEARNING_RATE = 1e-4 * FACTOR\n",
        "WARMUP_LEARNING_RATE = 1e-3 * FACTOR\n",
        "HEIGHT = 320\n",
        "WIDTH = 320\n",
        "CANAL = 3\n",
        "N_CLASSES = df_train_train['diagnosis'].nunique()\n",
        "ES_PATIENCE = 5\n",
        "RLROP_PATIENCE = 3\n",
        "DECAY_DROP = 0.5\n",
        "\n",
        "LR_WARMUP_EPOCHS_1st = 2\n",
        "LR_WARMUP_EPOCHS_2nd = 5\n",
        "STEP_SIZE = len(df_train_train) // BATCH_SIZE\n",
        "TOTAL_STEPS_1st = WARMUP_EPOCHS * STEP_SIZE\n",
        "TOTAL_STEPS_2nd = EPOCHS * STEP_SIZE\n",
        "WARMUP_STEPS_1st = LR_WARMUP_EPOCHS_1st * STEP_SIZE\n",
        "WARMUP_STEPS_2nd = LR_WARMUP_EPOCHS_2nd * STEP_SIZE"
      ],
      "execution_count": null,
      "outputs": []
    },
    {
      "cell_type": "markdown",
      "metadata": {
        "id": "YQQrFrG8CrSS"
      },
      "source": [
        "## **Custom Image Data generator**\n"
      ]
    },
    {
      "cell_type": "code",
      "metadata": {
        "colab": {
          "base_uri": "https://localhost:8080/",
          "height": 52
        },
        "id": "tnKuoUQUC5Pc",
        "outputId": "42ea5c4e-5e96-4543-8a47-98b9df0e177e"
      },
      "source": [
        "'''\n",
        "This Function creates a custom Image Data generator, \n",
        "Since this is a Multi Output Model, a custom Image data generator is used (which yeild's outputs to next iterator)\n",
        "'''"
      ],
      "execution_count": null,
      "outputs": [
        {
          "output_type": "execute_result",
          "data": {
            "application/vnd.google.colaboratory.intrinsic+json": {
              "type": "string"
            },
            "text/plain": [
              "\"\\nThis Function creates a custom Image Data generator, \\nSince this is a Multi Output Model, a custom Image data generator is used (which yeild's outputs to next iterator)\\n\""
            ]
          },
          "metadata": {
            "tags": []
          },
          "execution_count": 11
        }
      ]
    },
    {
      "cell_type": "code",
      "metadata": {
        "id": "-tlnoyOdJ0MM"
      },
      "source": [
        "# custom generator ref - https://classifai.net/blog/multiple-outputs-keras/\n",
        "# ref - https://stackoverflow.com/questions/54143458/convert-categorical-data-back-to-numbers-using-keras-utils-to-categorical\n",
        "\n",
        "def multiple_outputs(generator,dataframe, image_dir, batch_size, height,width, subset):\n",
        "    gen = generator.flow_from_dataframe(\n",
        "        dataframe = dataframe,\n",
        "        x_col = \"file_name\",\n",
        "        y_col = \"diagnosis\",\n",
        "        directory = image_dir,\n",
        "        target_size=(height, width),\n",
        "        batch_size=batch_size)\n",
        "        #class_mode='categorical',\n",
        "        #subset=subset)\n",
        "    \n",
        "    mlb = MultiLabelBinarizer(classes = range(N_CLASSES))\n",
        "    \n",
        "    while True:\n",
        "        gnext = gen.next()\n",
        "        yield gnext[0], [np.argmax(gnext[1],axis = -1),gnext[1],mlb.fit_transform([list(range(x+1)) for x in np.argmax(gnext[1],axis = -1)])]"
      ],
      "execution_count": null,
      "outputs": []
    },
    {
      "cell_type": "code",
      "metadata": {
        "id": "n8YzFFqHK15Q"
      },
      "source": [
        "train_datagen=ImageDataGenerator(rescale=1./255, rotation_range=360,brightness_range=[0.5, 1.5],\n",
        "                                     zoom_range=[1, 1.2],horizontal_flip=True,\n",
        "                                     vertical_flip=True,fill_mode='constant',cval=0.0)\n",
        "\n",
        "\n",
        "\n",
        "train_generator = multiple_outputs(generator = train_datagen,dataframe = df_train_train,\n",
        "                                   image_dir=\"./train_images_resized_preprocessed/\",\n",
        "                                   batch_size=BATCH_SIZE,height = HEIGHT,width = WIDTH,\n",
        "                                   subset='training')                               \n",
        "     \n",
        "valid_datagen=ImageDataGenerator(rescale=1./255, rotation_range=360,brightness_range=[0.5, 1.5],\n",
        "                                     zoom_range=[1, 1.2],horizontal_flip=True,\n",
        "                                     vertical_flip=True,fill_mode='constant',cval=0.0)\n",
        "\n",
        "valid_generator = multiple_outputs(generator = valid_datagen,dataframe = df_train_test,\n",
        "                                   image_dir=\"./test_images_resized_preprocessed/\",\n",
        "                                   batch_size=BATCH_SIZE,height = HEIGHT,width = WIDTH,\n",
        "                                   subset='validation')"
      ],
      "execution_count": null,
      "outputs": []
    },
    {
      "cell_type": "markdown",
      "metadata": {
        "id": "VCFNVYNoOdhB"
      },
      "source": [
        "##**Stage 1 (Pre Training) using ResNet50**\n"
      ]
    },
    {
      "cell_type": "code",
      "metadata": {
        "id": "Mwx2DeXP8MCO"
      },
      "source": [
        "'''Implementing this Stage 1 as mentioned in the Research paper'''\n",
        "\n",
        "input_tensor = Input(shape=(HEIGHT, WIDTH, CANAL))\n",
        "base_model = applications.ResNet50(weights='imagenet', include_top=False,input_tensor=input_tensor)\n",
        "#base_model.load_weights('/content/drive/MyDrive/PROJECTS/Deep learning/Diabetic retinopathy detection/weights/resnet50_weights_tf_dim_ordering_tf_kernels_notop.h5')\n",
        "\n",
        "x1 = GlobalAveragePooling2D()(base_model.output)\n",
        "x1 = BatchNormalization()(x1)\n",
        "\n",
        "x2 = GlobalMaxPooling2D()(base_model.output)\n",
        "x2 = BatchNormalization()(x2)\n",
        "\n",
        "x = concatenate([x1,x2])\n",
        "\n",
        "# Regression Head\n",
        "xr = Dense(2048, activation='relu')(x)\n",
        "xr = Dropout(0.5)(xr)\n",
        "xr = Dense(1,activation = 'linear',name = 'regression_output')(xr)\n",
        "\n",
        "# Classification Head\n",
        "xc = Dense(2048, activation='relu')(x)\n",
        "xc = Dropout(0.5)(xc)\n",
        "xc = Dense(N_CLASSES,activation = 'softmax',name = 'classification_output')(xc)\n",
        "\n",
        "# Ordinal Regression Head\n",
        "xo = Dense(2048, activation='relu')(x)\n",
        "xo = Dropout(0.5)(xo)\n",
        "xo = Dense(N_CLASSES,activation = 'softmax',name = 'ordinal_regression_output')(xo)\n",
        "\n",
        "model = Model(inputs = [input_tensor], outputs = [xr,xc,xo])"
      ],
      "execution_count": null,
      "outputs": []
    },
    {
      "cell_type": "code",
      "metadata": {
        "colab": {
          "base_uri": "https://localhost:8080/"
        },
        "id": "DehalZUM9Sf1",
        "outputId": "dc0aaf99-2102-4c7f-b5e2-15eef7041f50"
      },
      "source": [
        "# Train all Layers\n",
        "\n",
        "for layer in model.layers:\n",
        "    layer.trainable = True\n",
        "model.summary()"
      ],
      "execution_count": null,
      "outputs": [
        {
          "output_type": "stream",
          "text": [
            "Model: \"model_1\"\n",
            "__________________________________________________________________________________________________\n",
            "Layer (type)                    Output Shape         Param #     Connected to                     \n",
            "==================================================================================================\n",
            "input_2 (InputLayer)            [(None, 320, 320, 3) 0                                            \n",
            "__________________________________________________________________________________________________\n",
            "conv1_pad (ZeroPadding2D)       (None, 326, 326, 3)  0           input_2[0][0]                    \n",
            "__________________________________________________________________________________________________\n",
            "conv1_conv (Conv2D)             (None, 160, 160, 64) 9472        conv1_pad[0][0]                  \n",
            "__________________________________________________________________________________________________\n",
            "conv1_bn (BatchNormalization)   (None, 160, 160, 64) 256         conv1_conv[0][0]                 \n",
            "__________________________________________________________________________________________________\n",
            "conv1_relu (Activation)         (None, 160, 160, 64) 0           conv1_bn[0][0]                   \n",
            "__________________________________________________________________________________________________\n",
            "pool1_pad (ZeroPadding2D)       (None, 162, 162, 64) 0           conv1_relu[0][0]                 \n",
            "__________________________________________________________________________________________________\n",
            "pool1_pool (MaxPooling2D)       (None, 80, 80, 64)   0           pool1_pad[0][0]                  \n",
            "__________________________________________________________________________________________________\n",
            "conv2_block1_1_conv (Conv2D)    (None, 80, 80, 64)   4160        pool1_pool[0][0]                 \n",
            "__________________________________________________________________________________________________\n",
            "conv2_block1_1_bn (BatchNormali (None, 80, 80, 64)   256         conv2_block1_1_conv[0][0]        \n",
            "__________________________________________________________________________________________________\n",
            "conv2_block1_1_relu (Activation (None, 80, 80, 64)   0           conv2_block1_1_bn[0][0]          \n",
            "__________________________________________________________________________________________________\n",
            "conv2_block1_2_conv (Conv2D)    (None, 80, 80, 64)   36928       conv2_block1_1_relu[0][0]        \n",
            "__________________________________________________________________________________________________\n",
            "conv2_block1_2_bn (BatchNormali (None, 80, 80, 64)   256         conv2_block1_2_conv[0][0]        \n",
            "__________________________________________________________________________________________________\n",
            "conv2_block1_2_relu (Activation (None, 80, 80, 64)   0           conv2_block1_2_bn[0][0]          \n",
            "__________________________________________________________________________________________________\n",
            "conv2_block1_0_conv (Conv2D)    (None, 80, 80, 256)  16640       pool1_pool[0][0]                 \n",
            "__________________________________________________________________________________________________\n",
            "conv2_block1_3_conv (Conv2D)    (None, 80, 80, 256)  16640       conv2_block1_2_relu[0][0]        \n",
            "__________________________________________________________________________________________________\n",
            "conv2_block1_0_bn (BatchNormali (None, 80, 80, 256)  1024        conv2_block1_0_conv[0][0]        \n",
            "__________________________________________________________________________________________________\n",
            "conv2_block1_3_bn (BatchNormali (None, 80, 80, 256)  1024        conv2_block1_3_conv[0][0]        \n",
            "__________________________________________________________________________________________________\n",
            "conv2_block1_add (Add)          (None, 80, 80, 256)  0           conv2_block1_0_bn[0][0]          \n",
            "                                                                 conv2_block1_3_bn[0][0]          \n",
            "__________________________________________________________________________________________________\n",
            "conv2_block1_out (Activation)   (None, 80, 80, 256)  0           conv2_block1_add[0][0]           \n",
            "__________________________________________________________________________________________________\n",
            "conv2_block2_1_conv (Conv2D)    (None, 80, 80, 64)   16448       conv2_block1_out[0][0]           \n",
            "__________________________________________________________________________________________________\n",
            "conv2_block2_1_bn (BatchNormali (None, 80, 80, 64)   256         conv2_block2_1_conv[0][0]        \n",
            "__________________________________________________________________________________________________\n",
            "conv2_block2_1_relu (Activation (None, 80, 80, 64)   0           conv2_block2_1_bn[0][0]          \n",
            "__________________________________________________________________________________________________\n",
            "conv2_block2_2_conv (Conv2D)    (None, 80, 80, 64)   36928       conv2_block2_1_relu[0][0]        \n",
            "__________________________________________________________________________________________________\n",
            "conv2_block2_2_bn (BatchNormali (None, 80, 80, 64)   256         conv2_block2_2_conv[0][0]        \n",
            "__________________________________________________________________________________________________\n",
            "conv2_block2_2_relu (Activation (None, 80, 80, 64)   0           conv2_block2_2_bn[0][0]          \n",
            "__________________________________________________________________________________________________\n",
            "conv2_block2_3_conv (Conv2D)    (None, 80, 80, 256)  16640       conv2_block2_2_relu[0][0]        \n",
            "__________________________________________________________________________________________________\n",
            "conv2_block2_3_bn (BatchNormali (None, 80, 80, 256)  1024        conv2_block2_3_conv[0][0]        \n",
            "__________________________________________________________________________________________________\n",
            "conv2_block2_add (Add)          (None, 80, 80, 256)  0           conv2_block1_out[0][0]           \n",
            "                                                                 conv2_block2_3_bn[0][0]          \n",
            "__________________________________________________________________________________________________\n",
            "conv2_block2_out (Activation)   (None, 80, 80, 256)  0           conv2_block2_add[0][0]           \n",
            "__________________________________________________________________________________________________\n",
            "conv2_block3_1_conv (Conv2D)    (None, 80, 80, 64)   16448       conv2_block2_out[0][0]           \n",
            "__________________________________________________________________________________________________\n",
            "conv2_block3_1_bn (BatchNormali (None, 80, 80, 64)   256         conv2_block3_1_conv[0][0]        \n",
            "__________________________________________________________________________________________________\n",
            "conv2_block3_1_relu (Activation (None, 80, 80, 64)   0           conv2_block3_1_bn[0][0]          \n",
            "__________________________________________________________________________________________________\n",
            "conv2_block3_2_conv (Conv2D)    (None, 80, 80, 64)   36928       conv2_block3_1_relu[0][0]        \n",
            "__________________________________________________________________________________________________\n",
            "conv2_block3_2_bn (BatchNormali (None, 80, 80, 64)   256         conv2_block3_2_conv[0][0]        \n",
            "__________________________________________________________________________________________________\n",
            "conv2_block3_2_relu (Activation (None, 80, 80, 64)   0           conv2_block3_2_bn[0][0]          \n",
            "__________________________________________________________________________________________________\n",
            "conv2_block3_3_conv (Conv2D)    (None, 80, 80, 256)  16640       conv2_block3_2_relu[0][0]        \n",
            "__________________________________________________________________________________________________\n",
            "conv2_block3_3_bn (BatchNormali (None, 80, 80, 256)  1024        conv2_block3_3_conv[0][0]        \n",
            "__________________________________________________________________________________________________\n",
            "conv2_block3_add (Add)          (None, 80, 80, 256)  0           conv2_block2_out[0][0]           \n",
            "                                                                 conv2_block3_3_bn[0][0]          \n",
            "__________________________________________________________________________________________________\n",
            "conv2_block3_out (Activation)   (None, 80, 80, 256)  0           conv2_block3_add[0][0]           \n",
            "__________________________________________________________________________________________________\n",
            "conv3_block1_1_conv (Conv2D)    (None, 40, 40, 128)  32896       conv2_block3_out[0][0]           \n",
            "__________________________________________________________________________________________________\n",
            "conv3_block1_1_bn (BatchNormali (None, 40, 40, 128)  512         conv3_block1_1_conv[0][0]        \n",
            "__________________________________________________________________________________________________\n",
            "conv3_block1_1_relu (Activation (None, 40, 40, 128)  0           conv3_block1_1_bn[0][0]          \n",
            "__________________________________________________________________________________________________\n",
            "conv3_block1_2_conv (Conv2D)    (None, 40, 40, 128)  147584      conv3_block1_1_relu[0][0]        \n",
            "__________________________________________________________________________________________________\n",
            "conv3_block1_2_bn (BatchNormali (None, 40, 40, 128)  512         conv3_block1_2_conv[0][0]        \n",
            "__________________________________________________________________________________________________\n",
            "conv3_block1_2_relu (Activation (None, 40, 40, 128)  0           conv3_block1_2_bn[0][0]          \n",
            "__________________________________________________________________________________________________\n",
            "conv3_block1_0_conv (Conv2D)    (None, 40, 40, 512)  131584      conv2_block3_out[0][0]           \n",
            "__________________________________________________________________________________________________\n",
            "conv3_block1_3_conv (Conv2D)    (None, 40, 40, 512)  66048       conv3_block1_2_relu[0][0]        \n",
            "__________________________________________________________________________________________________\n",
            "conv3_block1_0_bn (BatchNormali (None, 40, 40, 512)  2048        conv3_block1_0_conv[0][0]        \n",
            "__________________________________________________________________________________________________\n",
            "conv3_block1_3_bn (BatchNormali (None, 40, 40, 512)  2048        conv3_block1_3_conv[0][0]        \n",
            "__________________________________________________________________________________________________\n",
            "conv3_block1_add (Add)          (None, 40, 40, 512)  0           conv3_block1_0_bn[0][0]          \n",
            "                                                                 conv3_block1_3_bn[0][0]          \n",
            "__________________________________________________________________________________________________\n",
            "conv3_block1_out (Activation)   (None, 40, 40, 512)  0           conv3_block1_add[0][0]           \n",
            "__________________________________________________________________________________________________\n",
            "conv3_block2_1_conv (Conv2D)    (None, 40, 40, 128)  65664       conv3_block1_out[0][0]           \n",
            "__________________________________________________________________________________________________\n",
            "conv3_block2_1_bn (BatchNormali (None, 40, 40, 128)  512         conv3_block2_1_conv[0][0]        \n",
            "__________________________________________________________________________________________________\n",
            "conv3_block2_1_relu (Activation (None, 40, 40, 128)  0           conv3_block2_1_bn[0][0]          \n",
            "__________________________________________________________________________________________________\n",
            "conv3_block2_2_conv (Conv2D)    (None, 40, 40, 128)  147584      conv3_block2_1_relu[0][0]        \n",
            "__________________________________________________________________________________________________\n",
            "conv3_block2_2_bn (BatchNormali (None, 40, 40, 128)  512         conv3_block2_2_conv[0][0]        \n",
            "__________________________________________________________________________________________________\n",
            "conv3_block2_2_relu (Activation (None, 40, 40, 128)  0           conv3_block2_2_bn[0][0]          \n",
            "__________________________________________________________________________________________________\n",
            "conv3_block2_3_conv (Conv2D)    (None, 40, 40, 512)  66048       conv3_block2_2_relu[0][0]        \n",
            "__________________________________________________________________________________________________\n",
            "conv3_block2_3_bn (BatchNormali (None, 40, 40, 512)  2048        conv3_block2_3_conv[0][0]        \n",
            "__________________________________________________________________________________________________\n",
            "conv3_block2_add (Add)          (None, 40, 40, 512)  0           conv3_block1_out[0][0]           \n",
            "                                                                 conv3_block2_3_bn[0][0]          \n",
            "__________________________________________________________________________________________________\n",
            "conv3_block2_out (Activation)   (None, 40, 40, 512)  0           conv3_block2_add[0][0]           \n",
            "__________________________________________________________________________________________________\n",
            "conv3_block3_1_conv (Conv2D)    (None, 40, 40, 128)  65664       conv3_block2_out[0][0]           \n",
            "__________________________________________________________________________________________________\n",
            "conv3_block3_1_bn (BatchNormali (None, 40, 40, 128)  512         conv3_block3_1_conv[0][0]        \n",
            "__________________________________________________________________________________________________\n",
            "conv3_block3_1_relu (Activation (None, 40, 40, 128)  0           conv3_block3_1_bn[0][0]          \n",
            "__________________________________________________________________________________________________\n",
            "conv3_block3_2_conv (Conv2D)    (None, 40, 40, 128)  147584      conv3_block3_1_relu[0][0]        \n",
            "__________________________________________________________________________________________________\n",
            "conv3_block3_2_bn (BatchNormali (None, 40, 40, 128)  512         conv3_block3_2_conv[0][0]        \n",
            "__________________________________________________________________________________________________\n",
            "conv3_block3_2_relu (Activation (None, 40, 40, 128)  0           conv3_block3_2_bn[0][0]          \n",
            "__________________________________________________________________________________________________\n",
            "conv3_block3_3_conv (Conv2D)    (None, 40, 40, 512)  66048       conv3_block3_2_relu[0][0]        \n",
            "__________________________________________________________________________________________________\n",
            "conv3_block3_3_bn (BatchNormali (None, 40, 40, 512)  2048        conv3_block3_3_conv[0][0]        \n",
            "__________________________________________________________________________________________________\n",
            "conv3_block3_add (Add)          (None, 40, 40, 512)  0           conv3_block2_out[0][0]           \n",
            "                                                                 conv3_block3_3_bn[0][0]          \n",
            "__________________________________________________________________________________________________\n",
            "conv3_block3_out (Activation)   (None, 40, 40, 512)  0           conv3_block3_add[0][0]           \n",
            "__________________________________________________________________________________________________\n",
            "conv3_block4_1_conv (Conv2D)    (None, 40, 40, 128)  65664       conv3_block3_out[0][0]           \n",
            "__________________________________________________________________________________________________\n",
            "conv3_block4_1_bn (BatchNormali (None, 40, 40, 128)  512         conv3_block4_1_conv[0][0]        \n",
            "__________________________________________________________________________________________________\n",
            "conv3_block4_1_relu (Activation (None, 40, 40, 128)  0           conv3_block4_1_bn[0][0]          \n",
            "__________________________________________________________________________________________________\n",
            "conv3_block4_2_conv (Conv2D)    (None, 40, 40, 128)  147584      conv3_block4_1_relu[0][0]        \n",
            "__________________________________________________________________________________________________\n",
            "conv3_block4_2_bn (BatchNormali (None, 40, 40, 128)  512         conv3_block4_2_conv[0][0]        \n",
            "__________________________________________________________________________________________________\n",
            "conv3_block4_2_relu (Activation (None, 40, 40, 128)  0           conv3_block4_2_bn[0][0]          \n",
            "__________________________________________________________________________________________________\n",
            "conv3_block4_3_conv (Conv2D)    (None, 40, 40, 512)  66048       conv3_block4_2_relu[0][0]        \n",
            "__________________________________________________________________________________________________\n",
            "conv3_block4_3_bn (BatchNormali (None, 40, 40, 512)  2048        conv3_block4_3_conv[0][0]        \n",
            "__________________________________________________________________________________________________\n",
            "conv3_block4_add (Add)          (None, 40, 40, 512)  0           conv3_block3_out[0][0]           \n",
            "                                                                 conv3_block4_3_bn[0][0]          \n",
            "__________________________________________________________________________________________________\n",
            "conv3_block4_out (Activation)   (None, 40, 40, 512)  0           conv3_block4_add[0][0]           \n",
            "__________________________________________________________________________________________________\n",
            "conv4_block1_1_conv (Conv2D)    (None, 20, 20, 256)  131328      conv3_block4_out[0][0]           \n",
            "__________________________________________________________________________________________________\n",
            "conv4_block1_1_bn (BatchNormali (None, 20, 20, 256)  1024        conv4_block1_1_conv[0][0]        \n",
            "__________________________________________________________________________________________________\n",
            "conv4_block1_1_relu (Activation (None, 20, 20, 256)  0           conv4_block1_1_bn[0][0]          \n",
            "__________________________________________________________________________________________________\n",
            "conv4_block1_2_conv (Conv2D)    (None, 20, 20, 256)  590080      conv4_block1_1_relu[0][0]        \n",
            "__________________________________________________________________________________________________\n",
            "conv4_block1_2_bn (BatchNormali (None, 20, 20, 256)  1024        conv4_block1_2_conv[0][0]        \n",
            "__________________________________________________________________________________________________\n",
            "conv4_block1_2_relu (Activation (None, 20, 20, 256)  0           conv4_block1_2_bn[0][0]          \n",
            "__________________________________________________________________________________________________\n",
            "conv4_block1_0_conv (Conv2D)    (None, 20, 20, 1024) 525312      conv3_block4_out[0][0]           \n",
            "__________________________________________________________________________________________________\n",
            "conv4_block1_3_conv (Conv2D)    (None, 20, 20, 1024) 263168      conv4_block1_2_relu[0][0]        \n",
            "__________________________________________________________________________________________________\n",
            "conv4_block1_0_bn (BatchNormali (None, 20, 20, 1024) 4096        conv4_block1_0_conv[0][0]        \n",
            "__________________________________________________________________________________________________\n",
            "conv4_block1_3_bn (BatchNormali (None, 20, 20, 1024) 4096        conv4_block1_3_conv[0][0]        \n",
            "__________________________________________________________________________________________________\n",
            "conv4_block1_add (Add)          (None, 20, 20, 1024) 0           conv4_block1_0_bn[0][0]          \n",
            "                                                                 conv4_block1_3_bn[0][0]          \n",
            "__________________________________________________________________________________________________\n",
            "conv4_block1_out (Activation)   (None, 20, 20, 1024) 0           conv4_block1_add[0][0]           \n",
            "__________________________________________________________________________________________________\n",
            "conv4_block2_1_conv (Conv2D)    (None, 20, 20, 256)  262400      conv4_block1_out[0][0]           \n",
            "__________________________________________________________________________________________________\n",
            "conv4_block2_1_bn (BatchNormali (None, 20, 20, 256)  1024        conv4_block2_1_conv[0][0]        \n",
            "__________________________________________________________________________________________________\n",
            "conv4_block2_1_relu (Activation (None, 20, 20, 256)  0           conv4_block2_1_bn[0][0]          \n",
            "__________________________________________________________________________________________________\n",
            "conv4_block2_2_conv (Conv2D)    (None, 20, 20, 256)  590080      conv4_block2_1_relu[0][0]        \n",
            "__________________________________________________________________________________________________\n",
            "conv4_block2_2_bn (BatchNormali (None, 20, 20, 256)  1024        conv4_block2_2_conv[0][0]        \n",
            "__________________________________________________________________________________________________\n",
            "conv4_block2_2_relu (Activation (None, 20, 20, 256)  0           conv4_block2_2_bn[0][0]          \n",
            "__________________________________________________________________________________________________\n",
            "conv4_block2_3_conv (Conv2D)    (None, 20, 20, 1024) 263168      conv4_block2_2_relu[0][0]        \n",
            "__________________________________________________________________________________________________\n",
            "conv4_block2_3_bn (BatchNormali (None, 20, 20, 1024) 4096        conv4_block2_3_conv[0][0]        \n",
            "__________________________________________________________________________________________________\n",
            "conv4_block2_add (Add)          (None, 20, 20, 1024) 0           conv4_block1_out[0][0]           \n",
            "                                                                 conv4_block2_3_bn[0][0]          \n",
            "__________________________________________________________________________________________________\n",
            "conv4_block2_out (Activation)   (None, 20, 20, 1024) 0           conv4_block2_add[0][0]           \n",
            "__________________________________________________________________________________________________\n",
            "conv4_block3_1_conv (Conv2D)    (None, 20, 20, 256)  262400      conv4_block2_out[0][0]           \n",
            "__________________________________________________________________________________________________\n",
            "conv4_block3_1_bn (BatchNormali (None, 20, 20, 256)  1024        conv4_block3_1_conv[0][0]        \n",
            "__________________________________________________________________________________________________\n",
            "conv4_block3_1_relu (Activation (None, 20, 20, 256)  0           conv4_block3_1_bn[0][0]          \n",
            "__________________________________________________________________________________________________\n",
            "conv4_block3_2_conv (Conv2D)    (None, 20, 20, 256)  590080      conv4_block3_1_relu[0][0]        \n",
            "__________________________________________________________________________________________________\n",
            "conv4_block3_2_bn (BatchNormali (None, 20, 20, 256)  1024        conv4_block3_2_conv[0][0]        \n",
            "__________________________________________________________________________________________________\n",
            "conv4_block3_2_relu (Activation (None, 20, 20, 256)  0           conv4_block3_2_bn[0][0]          \n",
            "__________________________________________________________________________________________________\n",
            "conv4_block3_3_conv (Conv2D)    (None, 20, 20, 1024) 263168      conv4_block3_2_relu[0][0]        \n",
            "__________________________________________________________________________________________________\n",
            "conv4_block3_3_bn (BatchNormali (None, 20, 20, 1024) 4096        conv4_block3_3_conv[0][0]        \n",
            "__________________________________________________________________________________________________\n",
            "conv4_block3_add (Add)          (None, 20, 20, 1024) 0           conv4_block2_out[0][0]           \n",
            "                                                                 conv4_block3_3_bn[0][0]          \n",
            "__________________________________________________________________________________________________\n",
            "conv4_block3_out (Activation)   (None, 20, 20, 1024) 0           conv4_block3_add[0][0]           \n",
            "__________________________________________________________________________________________________\n",
            "conv4_block4_1_conv (Conv2D)    (None, 20, 20, 256)  262400      conv4_block3_out[0][0]           \n",
            "__________________________________________________________________________________________________\n",
            "conv4_block4_1_bn (BatchNormali (None, 20, 20, 256)  1024        conv4_block4_1_conv[0][0]        \n",
            "__________________________________________________________________________________________________\n",
            "conv4_block4_1_relu (Activation (None, 20, 20, 256)  0           conv4_block4_1_bn[0][0]          \n",
            "__________________________________________________________________________________________________\n",
            "conv4_block4_2_conv (Conv2D)    (None, 20, 20, 256)  590080      conv4_block4_1_relu[0][0]        \n",
            "__________________________________________________________________________________________________\n",
            "conv4_block4_2_bn (BatchNormali (None, 20, 20, 256)  1024        conv4_block4_2_conv[0][0]        \n",
            "__________________________________________________________________________________________________\n",
            "conv4_block4_2_relu (Activation (None, 20, 20, 256)  0           conv4_block4_2_bn[0][0]          \n",
            "__________________________________________________________________________________________________\n",
            "conv4_block4_3_conv (Conv2D)    (None, 20, 20, 1024) 263168      conv4_block4_2_relu[0][0]        \n",
            "__________________________________________________________________________________________________\n",
            "conv4_block4_3_bn (BatchNormali (None, 20, 20, 1024) 4096        conv4_block4_3_conv[0][0]        \n",
            "__________________________________________________________________________________________________\n",
            "conv4_block4_add (Add)          (None, 20, 20, 1024) 0           conv4_block3_out[0][0]           \n",
            "                                                                 conv4_block4_3_bn[0][0]          \n",
            "__________________________________________________________________________________________________\n",
            "conv4_block4_out (Activation)   (None, 20, 20, 1024) 0           conv4_block4_add[0][0]           \n",
            "__________________________________________________________________________________________________\n",
            "conv4_block5_1_conv (Conv2D)    (None, 20, 20, 256)  262400      conv4_block4_out[0][0]           \n",
            "__________________________________________________________________________________________________\n",
            "conv4_block5_1_bn (BatchNormali (None, 20, 20, 256)  1024        conv4_block5_1_conv[0][0]        \n",
            "__________________________________________________________________________________________________\n",
            "conv4_block5_1_relu (Activation (None, 20, 20, 256)  0           conv4_block5_1_bn[0][0]          \n",
            "__________________________________________________________________________________________________\n",
            "conv4_block5_2_conv (Conv2D)    (None, 20, 20, 256)  590080      conv4_block5_1_relu[0][0]        \n",
            "__________________________________________________________________________________________________\n",
            "conv4_block5_2_bn (BatchNormali (None, 20, 20, 256)  1024        conv4_block5_2_conv[0][0]        \n",
            "__________________________________________________________________________________________________\n",
            "conv4_block5_2_relu (Activation (None, 20, 20, 256)  0           conv4_block5_2_bn[0][0]          \n",
            "__________________________________________________________________________________________________\n",
            "conv4_block5_3_conv (Conv2D)    (None, 20, 20, 1024) 263168      conv4_block5_2_relu[0][0]        \n",
            "__________________________________________________________________________________________________\n",
            "conv4_block5_3_bn (BatchNormali (None, 20, 20, 1024) 4096        conv4_block5_3_conv[0][0]        \n",
            "__________________________________________________________________________________________________\n",
            "conv4_block5_add (Add)          (None, 20, 20, 1024) 0           conv4_block4_out[0][0]           \n",
            "                                                                 conv4_block5_3_bn[0][0]          \n",
            "__________________________________________________________________________________________________\n",
            "conv4_block5_out (Activation)   (None, 20, 20, 1024) 0           conv4_block5_add[0][0]           \n",
            "__________________________________________________________________________________________________\n",
            "conv4_block6_1_conv (Conv2D)    (None, 20, 20, 256)  262400      conv4_block5_out[0][0]           \n",
            "__________________________________________________________________________________________________\n",
            "conv4_block6_1_bn (BatchNormali (None, 20, 20, 256)  1024        conv4_block6_1_conv[0][0]        \n",
            "__________________________________________________________________________________________________\n",
            "conv4_block6_1_relu (Activation (None, 20, 20, 256)  0           conv4_block6_1_bn[0][0]          \n",
            "__________________________________________________________________________________________________\n",
            "conv4_block6_2_conv (Conv2D)    (None, 20, 20, 256)  590080      conv4_block6_1_relu[0][0]        \n",
            "__________________________________________________________________________________________________\n",
            "conv4_block6_2_bn (BatchNormali (None, 20, 20, 256)  1024        conv4_block6_2_conv[0][0]        \n",
            "__________________________________________________________________________________________________\n",
            "conv4_block6_2_relu (Activation (None, 20, 20, 256)  0           conv4_block6_2_bn[0][0]          \n",
            "__________________________________________________________________________________________________\n",
            "conv4_block6_3_conv (Conv2D)    (None, 20, 20, 1024) 263168      conv4_block6_2_relu[0][0]        \n",
            "__________________________________________________________________________________________________\n",
            "conv4_block6_3_bn (BatchNormali (None, 20, 20, 1024) 4096        conv4_block6_3_conv[0][0]        \n",
            "__________________________________________________________________________________________________\n",
            "conv4_block6_add (Add)          (None, 20, 20, 1024) 0           conv4_block5_out[0][0]           \n",
            "                                                                 conv4_block6_3_bn[0][0]          \n",
            "__________________________________________________________________________________________________\n",
            "conv4_block6_out (Activation)   (None, 20, 20, 1024) 0           conv4_block6_add[0][0]           \n",
            "__________________________________________________________________________________________________\n",
            "conv5_block1_1_conv (Conv2D)    (None, 10, 10, 512)  524800      conv4_block6_out[0][0]           \n",
            "__________________________________________________________________________________________________\n",
            "conv5_block1_1_bn (BatchNormali (None, 10, 10, 512)  2048        conv5_block1_1_conv[0][0]        \n",
            "__________________________________________________________________________________________________\n",
            "conv5_block1_1_relu (Activation (None, 10, 10, 512)  0           conv5_block1_1_bn[0][0]          \n",
            "__________________________________________________________________________________________________\n",
            "conv5_block1_2_conv (Conv2D)    (None, 10, 10, 512)  2359808     conv5_block1_1_relu[0][0]        \n",
            "__________________________________________________________________________________________________\n",
            "conv5_block1_2_bn (BatchNormali (None, 10, 10, 512)  2048        conv5_block1_2_conv[0][0]        \n",
            "__________________________________________________________________________________________________\n",
            "conv5_block1_2_relu (Activation (None, 10, 10, 512)  0           conv5_block1_2_bn[0][0]          \n",
            "__________________________________________________________________________________________________\n",
            "conv5_block1_0_conv (Conv2D)    (None, 10, 10, 2048) 2099200     conv4_block6_out[0][0]           \n",
            "__________________________________________________________________________________________________\n",
            "conv5_block1_3_conv (Conv2D)    (None, 10, 10, 2048) 1050624     conv5_block1_2_relu[0][0]        \n",
            "__________________________________________________________________________________________________\n",
            "conv5_block1_0_bn (BatchNormali (None, 10, 10, 2048) 8192        conv5_block1_0_conv[0][0]        \n",
            "__________________________________________________________________________________________________\n",
            "conv5_block1_3_bn (BatchNormali (None, 10, 10, 2048) 8192        conv5_block1_3_conv[0][0]        \n",
            "__________________________________________________________________________________________________\n",
            "conv5_block1_add (Add)          (None, 10, 10, 2048) 0           conv5_block1_0_bn[0][0]          \n",
            "                                                                 conv5_block1_3_bn[0][0]          \n",
            "__________________________________________________________________________________________________\n",
            "conv5_block1_out (Activation)   (None, 10, 10, 2048) 0           conv5_block1_add[0][0]           \n",
            "__________________________________________________________________________________________________\n",
            "conv5_block2_1_conv (Conv2D)    (None, 10, 10, 512)  1049088     conv5_block1_out[0][0]           \n",
            "__________________________________________________________________________________________________\n",
            "conv5_block2_1_bn (BatchNormali (None, 10, 10, 512)  2048        conv5_block2_1_conv[0][0]        \n",
            "__________________________________________________________________________________________________\n",
            "conv5_block2_1_relu (Activation (None, 10, 10, 512)  0           conv5_block2_1_bn[0][0]          \n",
            "__________________________________________________________________________________________________\n",
            "conv5_block2_2_conv (Conv2D)    (None, 10, 10, 512)  2359808     conv5_block2_1_relu[0][0]        \n",
            "__________________________________________________________________________________________________\n",
            "conv5_block2_2_bn (BatchNormali (None, 10, 10, 512)  2048        conv5_block2_2_conv[0][0]        \n",
            "__________________________________________________________________________________________________\n",
            "conv5_block2_2_relu (Activation (None, 10, 10, 512)  0           conv5_block2_2_bn[0][0]          \n",
            "__________________________________________________________________________________________________\n",
            "conv5_block2_3_conv (Conv2D)    (None, 10, 10, 2048) 1050624     conv5_block2_2_relu[0][0]        \n",
            "__________________________________________________________________________________________________\n",
            "conv5_block2_3_bn (BatchNormali (None, 10, 10, 2048) 8192        conv5_block2_3_conv[0][0]        \n",
            "__________________________________________________________________________________________________\n",
            "conv5_block2_add (Add)          (None, 10, 10, 2048) 0           conv5_block1_out[0][0]           \n",
            "                                                                 conv5_block2_3_bn[0][0]          \n",
            "__________________________________________________________________________________________________\n",
            "conv5_block2_out (Activation)   (None, 10, 10, 2048) 0           conv5_block2_add[0][0]           \n",
            "__________________________________________________________________________________________________\n",
            "conv5_block3_1_conv (Conv2D)    (None, 10, 10, 512)  1049088     conv5_block2_out[0][0]           \n",
            "__________________________________________________________________________________________________\n",
            "conv5_block3_1_bn (BatchNormali (None, 10, 10, 512)  2048        conv5_block3_1_conv[0][0]        \n",
            "__________________________________________________________________________________________________\n",
            "conv5_block3_1_relu (Activation (None, 10, 10, 512)  0           conv5_block3_1_bn[0][0]          \n",
            "__________________________________________________________________________________________________\n",
            "conv5_block3_2_conv (Conv2D)    (None, 10, 10, 512)  2359808     conv5_block3_1_relu[0][0]        \n",
            "__________________________________________________________________________________________________\n",
            "conv5_block3_2_bn (BatchNormali (None, 10, 10, 512)  2048        conv5_block3_2_conv[0][0]        \n",
            "__________________________________________________________________________________________________\n",
            "conv5_block3_2_relu (Activation (None, 10, 10, 512)  0           conv5_block3_2_bn[0][0]          \n",
            "__________________________________________________________________________________________________\n",
            "conv5_block3_3_conv (Conv2D)    (None, 10, 10, 2048) 1050624     conv5_block3_2_relu[0][0]        \n",
            "__________________________________________________________________________________________________\n",
            "conv5_block3_3_bn (BatchNormali (None, 10, 10, 2048) 8192        conv5_block3_3_conv[0][0]        \n",
            "__________________________________________________________________________________________________\n",
            "conv5_block3_add (Add)          (None, 10, 10, 2048) 0           conv5_block2_out[0][0]           \n",
            "                                                                 conv5_block3_3_bn[0][0]          \n",
            "__________________________________________________________________________________________________\n",
            "conv5_block3_out (Activation)   (None, 10, 10, 2048) 0           conv5_block3_add[0][0]           \n",
            "__________________________________________________________________________________________________\n",
            "global_average_pooling2d_1 (Glo (None, 2048)         0           conv5_block3_out[0][0]           \n",
            "__________________________________________________________________________________________________\n",
            "global_max_pooling2d_1 (GlobalM (None, 2048)         0           conv5_block3_out[0][0]           \n",
            "__________________________________________________________________________________________________\n",
            "batch_normalization_2 (BatchNor (None, 2048)         8192        global_average_pooling2d_1[0][0] \n",
            "__________________________________________________________________________________________________\n",
            "batch_normalization_3 (BatchNor (None, 2048)         8192        global_max_pooling2d_1[0][0]     \n",
            "__________________________________________________________________________________________________\n",
            "concatenate_1 (Concatenate)     (None, 4096)         0           batch_normalization_2[0][0]      \n",
            "                                                                 batch_normalization_3[0][0]      \n",
            "__________________________________________________________________________________________________\n",
            "dense_3 (Dense)                 (None, 2048)         8390656     concatenate_1[0][0]              \n",
            "__________________________________________________________________________________________________\n",
            "dense_4 (Dense)                 (None, 2048)         8390656     concatenate_1[0][0]              \n",
            "__________________________________________________________________________________________________\n",
            "dense_5 (Dense)                 (None, 2048)         8390656     concatenate_1[0][0]              \n",
            "__________________________________________________________________________________________________\n",
            "dropout_3 (Dropout)             (None, 2048)         0           dense_3[0][0]                    \n",
            "__________________________________________________________________________________________________\n",
            "dropout_4 (Dropout)             (None, 2048)         0           dense_4[0][0]                    \n",
            "__________________________________________________________________________________________________\n",
            "dropout_5 (Dropout)             (None, 2048)         0           dense_5[0][0]                    \n",
            "__________________________________________________________________________________________________\n",
            "regression_output (Dense)       (None, 1)            2049        dropout_3[0][0]                  \n",
            "__________________________________________________________________________________________________\n",
            "classification_output (Dense)   (None, 5)            10245       dropout_4[0][0]                  \n",
            "__________________________________________________________________________________________________\n",
            "ordinal_regression_output (Dens (None, 5)            10245       dropout_5[0][0]                  \n",
            "==================================================================================================\n",
            "Total params: 48,798,603\n",
            "Trainable params: 48,737,291\n",
            "Non-trainable params: 61,312\n",
            "__________________________________________________________________________________________________\n"
          ],
          "name": "stdout"
        }
      ]
    },
    {
      "cell_type": "code",
      "metadata": {
        "colab": {
          "base_uri": "https://localhost:8080/"
        },
        "id": "i4NV7v51KIeR",
        "outputId": "f0dc5711-ae3a-4d0f-c067-25ac4ec569dd"
      },
      "source": [
        "STEP_SIZE_TRAIN = len(df_train_train)//BATCH_SIZE\n",
        "STEP_SIZE_VALID = len(df_train_test)//BATCH_SIZE\n",
        "print(STEP_SIZE_TRAIN,STEP_SIZE_VALID)"
      ],
      "execution_count": null,
      "outputs": [
        {
          "output_type": "stream",
          "text": [
            "91 22\n"
          ],
          "name": "stdout"
        }
      ]
    },
    {
      "cell_type": "code",
      "metadata": {
        "id": "AGk1j-cmEkCo"
      },
      "source": [
        "''' This Code part includes Class & Function Implementatin of the Cosine Learning Rate Scheduler'''\n",
        "\n",
        "# ref  - https://github.com/dimitreOliveira/APTOS2019BlindnessDetection/blob/master/Best%20solution%20(Bronze%20medal%20-%20163rd%20place)/233%20-%20EfficientNetB5-Reg-Img224%200%2C5data%20Fold1.ipynb\n",
        "\n",
        "def cosine_decay_with_warmup(global_step,\n",
        "                             learning_rate_base,\n",
        "                             total_steps,\n",
        "                             warmup_learning_rate=0.0,\n",
        "                             warmup_steps=0,\n",
        "                             hold_base_rate_steps=0):\n",
        "    \"\"\"\n",
        "    Cosine decay schedule with warm up period.\n",
        "    In this schedule, the learning rate grows linearly from warmup_learning_rate\n",
        "    to learning_rate_base for warmup_steps, then transitions to a cosine decay\n",
        "    schedule.\n",
        "    :param global_step {int}: global step.\n",
        "    :param learning_rate_base {float}: base learning rate.\n",
        "    :param total_steps {int}: total number of training steps.\n",
        "    :param warmup_learning_rate {float}: initial learning rate for warm up. (default: {0.0}).\n",
        "    :param warmup_steps {int}: number of warmup steps. (default: {0}).\n",
        "    :param hold_base_rate_steps {int}: Optional number of steps to hold base learning rate before decaying. (default: {0}).\n",
        "    :param global_step {int}: global step.\n",
        "    :Returns : a float representing learning rate.\n",
        "    :Raises ValueError: if warmup_learning_rate is larger than learning_rate_base, or if warmup_steps is larger than total_steps.\n",
        "    \"\"\"\n",
        "\n",
        "    if total_steps < warmup_steps:\n",
        "        raise ValueError('total_steps must be larger or equal to warmup_steps.')\n",
        "    learning_rate = 0.5 * learning_rate_base * (1 + np.cos(\n",
        "        np.pi *\n",
        "        (global_step - warmup_steps - hold_base_rate_steps\n",
        "         ) / float(total_steps - warmup_steps - hold_base_rate_steps)))\n",
        "    if hold_base_rate_steps > 0:\n",
        "        learning_rate = np.where(global_step > warmup_steps + hold_base_rate_steps,\n",
        "                                 learning_rate, learning_rate_base)\n",
        "    if warmup_steps > 0:\n",
        "        if learning_rate_base < warmup_learning_rate:\n",
        "            raise ValueError('learning_rate_base must be larger or equal to warmup_learning_rate.')\n",
        "        slope = (learning_rate_base - warmup_learning_rate) / warmup_steps\n",
        "        warmup_rate = slope * global_step + warmup_learning_rate\n",
        "        learning_rate = np.where(global_step < warmup_steps, warmup_rate,\n",
        "                                 learning_rate)\n",
        "    return np.where(global_step > total_steps, 0.0, learning_rate)\n",
        "\n",
        "\n",
        "class WarmUpCosineDecayScheduler(Callback):\n",
        "    \"\"\"Cosine decay with warmup learning rate scheduler\"\"\"\n",
        "\n",
        "    def __init__(self,\n",
        "                 learning_rate_base,\n",
        "                 total_steps,\n",
        "                 global_step_init=0,\n",
        "                 warmup_learning_rate=0.0,\n",
        "                 warmup_steps=0,\n",
        "                 hold_base_rate_steps=0,\n",
        "                 verbose=0):\n",
        "        \"\"\"\n",
        "        Constructor for cosine decay with warmup learning rate scheduler.\n",
        "        :param learning_rate_base {float}: base learning rate.\n",
        "        :param total_steps {int}: total number of training steps.\n",
        "        :param global_step_init {int}: initial global step, e.g. from previous checkpoint.\n",
        "        :param warmup_learning_rate {float}: initial learning rate for warm up. (default: {0.0}).\n",
        "        :param warmup_steps {int}: number of warmup steps. (default: {0}).\n",
        "        :param hold_base_rate_steps {int}: Optional number of steps to hold base learning rate before decaying. (default: {0}).\n",
        "        :param verbose {int}: quiet, 1: update messages. (default: {0}).\n",
        "        \"\"\"\n",
        "\n",
        "        super(WarmUpCosineDecayScheduler, self).__init__()\n",
        "        self.learning_rate_base = learning_rate_base\n",
        "        self.total_steps = total_steps\n",
        "        self.global_step = global_step_init\n",
        "        self.warmup_learning_rate = warmup_learning_rate\n",
        "        self.warmup_steps = warmup_steps\n",
        "        self.hold_base_rate_steps = hold_base_rate_steps\n",
        "        self.verbose = verbose\n",
        "        self.learning_rates = []\n",
        "\n",
        "    def on_batch_end(self, batch, logs=None):\n",
        "        self.global_step = self.global_step + 1\n",
        "        lr = K.get_value(self.model.optimizer.lr)\n",
        "        self.learning_rates.append(lr)\n",
        "\n",
        "    def on_batch_begin(self, batch, logs=None):\n",
        "        lr = cosine_decay_with_warmup(global_step=self.global_step,\n",
        "                                      learning_rate_base=self.learning_rate_base,\n",
        "                                      total_steps=self.total_steps,\n",
        "                                      warmup_learning_rate=self.warmup_learning_rate,\n",
        "                                      warmup_steps=self.warmup_steps,\n",
        "                                      hold_base_rate_steps=self.hold_base_rate_steps)\n",
        "        K.set_value(self.model.optimizer.lr, lr)\n",
        "        if self.verbose > 0:\n",
        "            print('\\nBatch %02d: setting learning rate to %s.' % (self.global_step + 1, lr))"
      ],
      "execution_count": null,
      "outputs": []
    },
    {
      "cell_type": "code",
      "metadata": {
        "id": "yzSnpqUmFYtD"
      },
      "source": [
        "# Use Cosine LR Scheduler as callback\n",
        "\n",
        "cosine_lr = WarmUpCosineDecayScheduler(learning_rate_base = LEARNING_RATE,\n",
        "                                       total_steps=TOTAL_STEPS_1st,\n",
        "                                       warmup_learning_rate=0.0,\n",
        "                                       warmup_steps=TOTAL_STEPS_1st,\n",
        "                                       hold_base_rate_steps=(2 * STEP_SIZE))\n",
        "\n",
        "callback_list = [cosine_lr]"
      ],
      "execution_count": null,
      "outputs": []
    },
    {
      "cell_type": "code",
      "metadata": {
        "colab": {
          "base_uri": "https://localhost:8080/"
        },
        "id": "Aki2wj75JNuA",
        "outputId": "3b09f606-993c-4fcc-853c-08b847abd529"
      },
      "source": [
        "# ref - https://keras.io/getting-started/functional-api-guide/\n",
        "\n",
        "model.compile(optimizer = optimizers.SGD(lr=LEARNING_RATE),\n",
        "              loss={'regression_output': 'mean_absolute_error', \n",
        "                    'classification_output': 'categorical_crossentropy',\n",
        "                    'ordinal_regression_output' : 'binary_crossentropy'\n",
        "                    },\n",
        "              metrics = ['accuracy'])\n",
        "\n",
        "history = model.fit_generator(generator=train_generator,\n",
        "                              steps_per_epoch=STEP_SIZE_TRAIN,\n",
        "                              validation_data=valid_generator,\n",
        "                              validation_steps=STEP_SIZE_VALID,\n",
        "                              epochs=20,\n",
        "                              callbacks = callback_list,\n",
        "                              verbose=1).history\n",
        "\n",
        "model.save(\"model_pre_training.h5\")\n",
        "f = open(\"history_pre_training\",\"wb\")\n",
        "pickle.dump(history,f)\n",
        "f.close()"
      ],
      "execution_count": null,
      "outputs": [
        {
          "output_type": "stream",
          "text": [
            "/usr/local/lib/python3.7/dist-packages/tensorflow/python/keras/engine/training.py:1844: UserWarning: `Model.fit_generator` is deprecated and will be removed in a future version. Please use `Model.fit`, which supports generators.\n",
            "  warnings.warn('`Model.fit_generator` is deprecated and '\n"
          ],
          "name": "stderr"
        },
        {
          "output_type": "stream",
          "text": [
            "Found 2929 validated image filenames belonging to 5 classes.\n",
            "Epoch 1/20\n",
            " 6/91 [>.............................] - ETA: 2:07 - loss: 5.8013 - regression_output_loss: 1.8857 - classification_output_loss: 2.9081 - ordinal_regression_output_loss: 1.0076 - regression_output_accuracy: 0.3097 - classification_output_accuracy: 0.1114 - ordinal_regression_output_accuracy: 0.0732WARNING:tensorflow:Callback method `on_train_batch_end` is slow compared to the batch time (batch time: 0.6274s vs `on_train_batch_end` time: 0.8640s). Check your callbacks.\n",
            "91/91 [==============================] - ETA: 0s - loss: 5.8902 - regression_output_loss: 1.9261 - classification_output_loss: 2.9180 - ordinal_regression_output_loss: 1.0461 - regression_output_accuracy: 0.3325 - classification_output_accuracy: 0.1230 - ordinal_regression_output_accuracy: 0.0683Found 733 validated image filenames belonging to 5 classes.\n",
            "91/91 [==============================] - 815s 9s/step - loss: 5.8880 - regression_output_loss: 1.9252 - classification_output_loss: 2.9168 - ordinal_regression_output_loss: 1.0461 - regression_output_accuracy: 0.3324 - classification_output_accuracy: 0.1231 - ordinal_regression_output_accuracy: 0.0682 - val_loss: 3.7741 - val_regression_output_loss: 1.1305 - val_classification_output_loss: 1.7341 - val_ordinal_regression_output_loss: 0.9096 - val_regression_output_accuracy: 0.1151 - val_classification_output_accuracy: 0.1165 - val_ordinal_regression_output_accuracy: 0.0000e+00\n",
            "Epoch 2/20\n",
            "91/91 [==============================] - 167s 2s/step - loss: 4.6748 - regression_output_loss: 1.4835 - classification_output_loss: 2.2304 - ordinal_regression_output_loss: 0.9610 - regression_output_accuracy: 0.3144 - classification_output_accuracy: 0.2267 - ordinal_regression_output_accuracy: 0.0874 - val_loss: 3.8760 - val_regression_output_loss: 1.3521 - val_classification_output_loss: 1.6503 - val_ordinal_regression_output_loss: 0.8736 - val_regression_output_accuracy: 0.1151 - val_classification_output_accuracy: 0.3636 - val_ordinal_regression_output_accuracy: 0.0270\n",
            "Epoch 3/20\n",
            "91/91 [==============================] - 164s 2s/step - loss: 3.5555 - regression_output_loss: 1.2968 - classification_output_loss: 1.4643 - ordinal_regression_output_loss: 0.7944 - regression_output_accuracy: 0.3439 - classification_output_accuracy: 0.4712 - ordinal_regression_output_accuracy: 0.1993 - val_loss: 3.7215 - val_regression_output_loss: 1.3021 - val_classification_output_loss: 1.7851 - val_ordinal_regression_output_loss: 0.6343 - val_regression_output_accuracy: 0.1165 - val_classification_output_accuracy: 0.3920 - val_ordinal_regression_output_accuracy: 0.8168\n",
            "Epoch 4/20\n",
            "91/91 [==============================] - 163s 2s/step - loss: 3.1227 - regression_output_loss: 1.2247 - classification_output_loss: 1.2655 - ordinal_regression_output_loss: 0.6325 - regression_output_accuracy: 0.3466 - classification_output_accuracy: 0.5748 - ordinal_regression_output_accuracy: 0.4009 - val_loss: 3.8191 - val_regression_output_loss: 1.3285 - val_classification_output_loss: 1.8983 - val_ordinal_regression_output_loss: 0.5923 - val_regression_output_accuracy: 0.1278 - val_classification_output_accuracy: 0.4815 - val_ordinal_regression_output_accuracy: 0.9844\n",
            "Epoch 5/20\n",
            "91/91 [==============================] - 160s 2s/step - loss: 2.8534 - regression_output_loss: 1.1929 - classification_output_loss: 1.1411 - ordinal_regression_output_loss: 0.5194 - regression_output_accuracy: 0.3481 - classification_output_accuracy: 0.6333 - ordinal_regression_output_accuracy: 0.5703 - val_loss: 3.7984 - val_regression_output_loss: 1.4040 - val_classification_output_loss: 1.7497 - val_ordinal_regression_output_loss: 0.6447 - val_regression_output_accuracy: 0.1236 - val_classification_output_accuracy: 0.4858 - val_ordinal_regression_output_accuracy: 0.9787\n",
            "Epoch 6/20\n",
            "91/91 [==============================] - 161s 2s/step - loss: 2.6816 - regression_output_loss: 1.1607 - classification_output_loss: 1.0778 - ordinal_regression_output_loss: 0.4431 - regression_output_accuracy: 0.3656 - classification_output_accuracy: 0.6314 - ordinal_regression_output_accuracy: 0.6889 - val_loss: 3.5108 - val_regression_output_loss: 1.3195 - val_classification_output_loss: 1.6058 - val_ordinal_regression_output_loss: 0.5854 - val_regression_output_accuracy: 0.1591 - val_classification_output_accuracy: 0.4986 - val_ordinal_regression_output_accuracy: 0.9446\n",
            "Epoch 7/20\n",
            "91/91 [==============================] - 161s 2s/step - loss: 2.6913 - regression_output_loss: 1.1779 - classification_output_loss: 1.0649 - ordinal_regression_output_loss: 0.4484 - regression_output_accuracy: 0.3783 - classification_output_accuracy: 0.6350 - ordinal_regression_output_accuracy: 0.6792 - val_loss: 3.1765 - val_regression_output_loss: 1.2223 - val_classification_output_loss: 1.4190 - val_ordinal_regression_output_loss: 0.5353 - val_regression_output_accuracy: 0.2273 - val_classification_output_accuracy: 0.5241 - val_ordinal_regression_output_accuracy: 0.9588\n",
            "Epoch 8/20\n",
            "91/91 [==============================] - 163s 2s/step - loss: 2.7164 - regression_output_loss: 1.2109 - classification_output_loss: 1.0599 - ordinal_regression_output_loss: 0.4456 - regression_output_accuracy: 0.3709 - classification_output_accuracy: 0.6330 - ordinal_regression_output_accuracy: 0.6870 - val_loss: 2.8297 - val_regression_output_loss: 1.1013 - val_classification_output_loss: 1.2402 - val_ordinal_regression_output_loss: 0.4882 - val_regression_output_accuracy: 0.3139 - val_classification_output_accuracy: 0.5611 - val_ordinal_regression_output_accuracy: 0.9290\n",
            "Epoch 9/20\n",
            "91/91 [==============================] - 162s 2s/step - loss: 2.7595 - regression_output_loss: 1.2287 - classification_output_loss: 1.0745 - ordinal_regression_output_loss: 0.4563 - regression_output_accuracy: 0.3590 - classification_output_accuracy: 0.6342 - ordinal_regression_output_accuracy: 0.6938 - val_loss: 2.6925 - val_regression_output_loss: 1.1427 - val_classification_output_loss: 1.1145 - val_ordinal_regression_output_loss: 0.4353 - val_regression_output_accuracy: 0.4190 - val_classification_output_accuracy: 0.6264 - val_ordinal_regression_output_accuracy: 0.9276\n",
            "Epoch 10/20\n",
            "91/91 [==============================] - 160s 2s/step - loss: 2.6923 - regression_output_loss: 1.1728 - classification_output_loss: 1.0706 - ordinal_regression_output_loss: 0.4490 - regression_output_accuracy: 0.3756 - classification_output_accuracy: 0.6317 - ordinal_regression_output_accuracy: 0.6785 - val_loss: 2.4998 - val_regression_output_loss: 1.0647 - val_classification_output_loss: 1.0358 - val_ordinal_regression_output_loss: 0.3994 - val_regression_output_accuracy: 0.4517 - val_classification_output_accuracy: 0.6804 - val_ordinal_regression_output_accuracy: 0.9318\n",
            "Epoch 11/20\n",
            "91/91 [==============================] - 160s 2s/step - loss: 2.6512 - regression_output_loss: 1.1785 - classification_output_loss: 1.0305 - ordinal_regression_output_loss: 0.4422 - regression_output_accuracy: 0.3537 - classification_output_accuracy: 0.6403 - ordinal_regression_output_accuracy: 0.6891 - val_loss: 2.1222 - val_regression_output_loss: 0.8159 - val_classification_output_loss: 0.9486 - val_ordinal_regression_output_loss: 0.3577 - val_regression_output_accuracy: 0.4503 - val_classification_output_accuracy: 0.6918 - val_ordinal_regression_output_accuracy: 0.8864\n",
            "Epoch 12/20\n",
            "91/91 [==============================] - 160s 2s/step - loss: 2.6641 - regression_output_loss: 1.2120 - classification_output_loss: 1.0063 - ordinal_regression_output_loss: 0.4458 - regression_output_accuracy: 0.3788 - classification_output_accuracy: 0.6632 - ordinal_regression_output_accuracy: 0.7028 - val_loss: 2.0407 - val_regression_output_loss: 0.8179 - val_classification_output_loss: 0.8748 - val_ordinal_regression_output_loss: 0.3480 - val_regression_output_accuracy: 0.4119 - val_classification_output_accuracy: 0.7244 - val_ordinal_regression_output_accuracy: 0.8281\n",
            "Epoch 13/20\n",
            "91/91 [==============================] - 159s 2s/step - loss: 2.6651 - regression_output_loss: 1.1945 - classification_output_loss: 1.0354 - ordinal_regression_output_loss: 0.4352 - regression_output_accuracy: 0.3870 - classification_output_accuracy: 0.6447 - ordinal_regression_output_accuracy: 0.6939 - val_loss: 1.9492 - val_regression_output_loss: 0.7640 - val_classification_output_loss: 0.8376 - val_ordinal_regression_output_loss: 0.3476 - val_regression_output_accuracy: 0.4205 - val_classification_output_accuracy: 0.7159 - val_ordinal_regression_output_accuracy: 0.7997\n",
            "Epoch 14/20\n",
            "91/91 [==============================] - 159s 2s/step - loss: 2.7792 - regression_output_loss: 1.2324 - classification_output_loss: 1.0970 - ordinal_regression_output_loss: 0.4498 - regression_output_accuracy: 0.3601 - classification_output_accuracy: 0.6408 - ordinal_regression_output_accuracy: 0.6873 - val_loss: 1.9047 - val_regression_output_loss: 0.7657 - val_classification_output_loss: 0.7888 - val_ordinal_regression_output_loss: 0.3502 - val_regression_output_accuracy: 0.4489 - val_classification_output_accuracy: 0.7259 - val_ordinal_regression_output_accuracy: 0.7798\n",
            "Epoch 15/20\n",
            "91/91 [==============================] - 159s 2s/step - loss: 2.7408 - regression_output_loss: 1.2201 - classification_output_loss: 1.0708 - ordinal_regression_output_loss: 0.4500 - regression_output_accuracy: 0.3869 - classification_output_accuracy: 0.6479 - ordinal_regression_output_accuracy: 0.6999 - val_loss: 1.9289 - val_regression_output_loss: 0.7731 - val_classification_output_loss: 0.8167 - val_ordinal_regression_output_loss: 0.3392 - val_regression_output_accuracy: 0.4276 - val_classification_output_accuracy: 0.7230 - val_ordinal_regression_output_accuracy: 0.7898\n",
            "Epoch 16/20\n",
            "91/91 [==============================] - 158s 2s/step - loss: 2.6805 - regression_output_loss: 1.1824 - classification_output_loss: 1.0504 - ordinal_regression_output_loss: 0.4477 - regression_output_accuracy: 0.3751 - classification_output_accuracy: 0.6481 - ordinal_regression_output_accuracy: 0.6892 - val_loss: 1.9218 - val_regression_output_loss: 0.7508 - val_classification_output_loss: 0.8164 - val_ordinal_regression_output_loss: 0.3546 - val_regression_output_accuracy: 0.4432 - val_classification_output_accuracy: 0.7188 - val_ordinal_regression_output_accuracy: 0.7727\n",
            "Epoch 17/20\n",
            "91/91 [==============================] - 156s 2s/step - loss: 2.7101 - regression_output_loss: 1.1882 - classification_output_loss: 1.0731 - ordinal_regression_output_loss: 0.4488 - regression_output_accuracy: 0.3746 - classification_output_accuracy: 0.6375 - ordinal_regression_output_accuracy: 0.7054 - val_loss: 1.9395 - val_regression_output_loss: 0.7763 - val_classification_output_loss: 0.8191 - val_ordinal_regression_output_loss: 0.3442 - val_regression_output_accuracy: 0.4332 - val_classification_output_accuracy: 0.7102 - val_ordinal_regression_output_accuracy: 0.8026\n",
            "Epoch 18/20\n",
            "91/91 [==============================] - 158s 2s/step - loss: 2.7511 - regression_output_loss: 1.2358 - classification_output_loss: 1.0555 - ordinal_regression_output_loss: 0.4598 - regression_output_accuracy: 0.3698 - classification_output_accuracy: 0.6424 - ordinal_regression_output_accuracy: 0.6739 - val_loss: 1.9261 - val_regression_output_loss: 0.7788 - val_classification_output_loss: 0.8047 - val_ordinal_regression_output_loss: 0.3426 - val_regression_output_accuracy: 0.4233 - val_classification_output_accuracy: 0.7088 - val_ordinal_regression_output_accuracy: 0.7699\n",
            "Epoch 19/20\n",
            "91/91 [==============================] - 158s 2s/step - loss: 2.7058 - regression_output_loss: 1.2094 - classification_output_loss: 1.0497 - ordinal_regression_output_loss: 0.4467 - regression_output_accuracy: 0.3597 - classification_output_accuracy: 0.6333 - ordinal_regression_output_accuracy: 0.6981 - val_loss: 1.9142 - val_regression_output_loss: 0.7784 - val_classification_output_loss: 0.7974 - val_ordinal_regression_output_loss: 0.3384 - val_regression_output_accuracy: 0.4006 - val_classification_output_accuracy: 0.7159 - val_ordinal_regression_output_accuracy: 0.8125\n",
            "Epoch 20/20\n",
            "91/91 [==============================] - 158s 2s/step - loss: 2.7096 - regression_output_loss: 1.1571 - classification_output_loss: 1.0890 - ordinal_regression_output_loss: 0.4634 - regression_output_accuracy: 0.3666 - classification_output_accuracy: 0.6502 - ordinal_regression_output_accuracy: 0.6765 - val_loss: 1.9503 - val_regression_output_loss: 0.7833 - val_classification_output_loss: 0.8215 - val_ordinal_regression_output_loss: 0.3455 - val_regression_output_accuracy: 0.4020 - val_classification_output_accuracy: 0.7145 - val_ordinal_regression_output_accuracy: 0.7955\n"
          ],
          "name": "stdout"
        }
      ]
    },
    {
      "cell_type": "code",
      "metadata": {
        "colab": {
          "base_uri": "https://localhost:8080/",
          "height": 350
        },
        "id": "j2rduAwJeWFF",
        "outputId": "ebda794d-18dd-4117-db34-04bed4d331bd"
      },
      "source": [
        "plt.figure(figsize=(8,5))\n",
        "plt.plot(history['regression_output_loss'])\n",
        "plt.plot(history['val_regression_output_loss'])\n",
        "plt.title('Regression Model Loss - Pre Training')\n",
        "plt.ylabel('Loss (MAE)')\n",
        "plt.xlabel('Epoch')\n",
        "plt.legend(['Train', 'Validation'], loc='best')\n",
        "plt.xticks(range(1,21))\n",
        "plt.gca().ticklabel_format(axis='both', style='plain', useOffset=False)\n",
        "plt.show()"
      ],
      "execution_count": null,
      "outputs": [
        {
          "output_type": "display_data",
          "data": {
            "image/png": "[encoded data removed]",
            "text/plain": [
              "<Figure size 576x360 with 1 Axes>"
            ]
          },
          "metadata": {
            "tags": [],
            "needs_background": "light"
          }
        }
      ]
    },
    {
      "cell_type": "code",
      "metadata": {
        "colab": {
          "base_uri": "https://localhost:8080/",
          "height": 350
        },
        "id": "-MhYaj8VfbGo",
        "outputId": "3de84138-04f4-482d-de16-3fa125c16551"
      },
      "source": [
        "plt.figure(figsize=(8,5))\n",
        "plt.plot(history['classification_output_loss'])\n",
        "plt.plot(history['val_classification_output_loss'])\n",
        "plt.title('Classification Model Loss - Pre Training')\n",
        "plt.ylabel('Loss (Categorical Cross Entropy)')\n",
        "plt.xlabel('Epoch')\n",
        "plt.legend(['Train', 'Validation'], loc='best')\n",
        "plt.xticks(range(1,21))\n",
        "plt.gca().ticklabel_format(axis='both', style='plain', useOffset=False)\n",
        "plt.show()"
      ],
      "execution_count": null,
      "outputs": [
        {
          "output_type": "display_data",
          "data": {
            "image/png": "[encoded data removed]",
            "text/plain": [
              "<Figure size 576x360 with 1 Axes>"
            ]
          },
          "metadata": {
            "tags": [],
            "needs_background": "light"
          }
        }
      ]
    },
    {
      "cell_type": "code",
      "metadata": {
        "colab": {
          "base_uri": "https://localhost:8080/",
          "height": 350
        },
        "id": "Cr75LfqLfbs1",
        "outputId": "c208ca2a-aeec-40d1-acb6-9902e9a9f62d"
      },
      "source": [
        "plt.figure(figsize=(8,5))\n",
        "plt.plot(history['ordinal_regression_output_loss'])\n",
        "plt.plot(history['val_ordinal_regression_output_loss'])\n",
        "plt.title('Ordinal Regression Model Loss - Pre Training')\n",
        "plt.ylabel('Loss (Binary Cross Entropy)')\n",
        "plt.xlabel('Epoch')\n",
        "plt.legend(['Train', 'Validation'], loc='best')\n",
        "plt.xticks(range(1,21))\n",
        "plt.gca().ticklabel_format(axis='both', style='plain', useOffset=False)\n",
        "plt.show()"
      ],
      "execution_count": null,
      "outputs": [
        {
          "output_type": "display_data",
          "data": {
            "image/png": "[encoded data removed]",
            "text/plain": [
              "<Figure size 576x360 with 1 Axes>"
            ]
          },
          "metadata": {
            "tags": [],
            "needs_background": "light"
          }
        }
      ]
    },
    {
      "cell_type": "markdown",
      "metadata": {
        "id": "WnYIX-05RkIb"
      },
      "source": [
        "## **Stage 2 (Main Training)**\n"
      ]
    },
    {
      "cell_type": "code",
      "metadata": {
        "colab": {
          "base_uri": "https://localhost:8080/"
        },
        "id": "CF2lgRdKQPbn",
        "outputId": "8d5bb300-38b9-4588-fe6b-e4c0a0dbd0cc"
      },
      "source": [
        "# Freezing the Encoder Layers Training..(Only Last 14 layers are trainable) for 5 Epochs (Warming up the Weights for Main Training)\n",
        "\n",
        "for layer in model.layers:\n",
        "    layer.trainable = False\n",
        "\n",
        "for i in range(-14,0):\n",
        "  model.layers[i].trainable = True\n",
        "\n",
        "model.summary()"
      ],
      "execution_count": null,
      "outputs": [
        {
          "output_type": "stream",
          "text": [
            "Model: \"model_1\"\n",
            "__________________________________________________________________________________________________\n",
            "Layer (type)                    Output Shape         Param #     Connected to                     \n",
            "==================================================================================================\n",
            "input_2 (InputLayer)            [(None, 320, 320, 3) 0                                            \n",
            "__________________________________________________________________________________________________\n",
            "conv1_pad (ZeroPadding2D)       (None, 326, 326, 3)  0           input_2[0][0]                    \n",
            "__________________________________________________________________________________________________\n",
            "conv1_conv (Conv2D)             (None, 160, 160, 64) 9472        conv1_pad[0][0]                  \n",
            "__________________________________________________________________________________________________\n",
            "conv1_bn (BatchNormalization)   (None, 160, 160, 64) 256         conv1_conv[0][0]                 \n",
            "__________________________________________________________________________________________________\n",
            "conv1_relu (Activation)         (None, 160, 160, 64) 0           conv1_bn[0][0]                   \n",
            "__________________________________________________________________________________________________\n",
            "pool1_pad (ZeroPadding2D)       (None, 162, 162, 64) 0           conv1_relu[0][0]                 \n",
            "__________________________________________________________________________________________________\n",
            "pool1_pool (MaxPooling2D)       (None, 80, 80, 64)   0           pool1_pad[0][0]                  \n",
            "__________________________________________________________________________________________________\n",
            "conv2_block1_1_conv (Conv2D)    (None, 80, 80, 64)   4160        pool1_pool[0][0]                 \n",
            "__________________________________________________________________________________________________\n",
            "conv2_block1_1_bn (BatchNormali (None, 80, 80, 64)   256         conv2_block1_1_conv[0][0]        \n",
            "__________________________________________________________________________________________________\n",
            "conv2_block1_1_relu (Activation (None, 80, 80, 64)   0           conv2_block1_1_bn[0][0]          \n",
            "__________________________________________________________________________________________________\n",
            "conv2_block1_2_conv (Conv2D)    (None, 80, 80, 64)   36928       conv2_block1_1_relu[0][0]        \n",
            "__________________________________________________________________________________________________\n",
            "conv2_block1_2_bn (BatchNormali (None, 80, 80, 64)   256         conv2_block1_2_conv[0][0]        \n",
            "__________________________________________________________________________________________________\n",
            "conv2_block1_2_relu (Activation (None, 80, 80, 64)   0           conv2_block1_2_bn[0][0]          \n",
            "__________________________________________________________________________________________________\n",
            "conv2_block1_0_conv (Conv2D)    (None, 80, 80, 256)  16640       pool1_pool[0][0]                 \n",
            "__________________________________________________________________________________________________\n",
            "conv2_block1_3_conv (Conv2D)    (None, 80, 80, 256)  16640       conv2_block1_2_relu[0][0]        \n",
            "__________________________________________________________________________________________________\n",
            "conv2_block1_0_bn (BatchNormali (None, 80, 80, 256)  1024        conv2_block1_0_conv[0][0]        \n",
            "__________________________________________________________________________________________________\n",
            "conv2_block1_3_bn (BatchNormali (None, 80, 80, 256)  1024        conv2_block1_3_conv[0][0]        \n",
            "__________________________________________________________________________________________________\n",
            "conv2_block1_add (Add)          (None, 80, 80, 256)  0           conv2_block1_0_bn[0][0]          \n",
            "                                                                 conv2_block1_3_bn[0][0]          \n",
            "__________________________________________________________________________________________________\n",
            "conv2_block1_out (Activation)   (None, 80, 80, 256)  0           conv2_block1_add[0][0]           \n",
            "__________________________________________________________________________________________________\n",
            "conv2_block2_1_conv (Conv2D)    (None, 80, 80, 64)   16448       conv2_block1_out[0][0]           \n",
            "__________________________________________________________________________________________________\n",
            "conv2_block2_1_bn (BatchNormali (None, 80, 80, 64)   256         conv2_block2_1_conv[0][0]        \n",
            "__________________________________________________________________________________________________\n",
            "conv2_block2_1_relu (Activation (None, 80, 80, 64)   0           conv2_block2_1_bn[0][0]          \n",
            "__________________________________________________________________________________________________\n",
            "conv2_block2_2_conv (Conv2D)    (None, 80, 80, 64)   36928       conv2_block2_1_relu[0][0]        \n",
            "__________________________________________________________________________________________________\n",
            "conv2_block2_2_bn (BatchNormali (None, 80, 80, 64)   256         conv2_block2_2_conv[0][0]        \n",
            "__________________________________________________________________________________________________\n",
            "conv2_block2_2_relu (Activation (None, 80, 80, 64)   0           conv2_block2_2_bn[0][0]          \n",
            "__________________________________________________________________________________________________\n",
            "conv2_block2_3_conv (Conv2D)    (None, 80, 80, 256)  16640       conv2_block2_2_relu[0][0]        \n",
            "__________________________________________________________________________________________________\n",
            "conv2_block2_3_bn (BatchNormali (None, 80, 80, 256)  1024        conv2_block2_3_conv[0][0]        \n",
            "__________________________________________________________________________________________________\n",
            "conv2_block2_add (Add)          (None, 80, 80, 256)  0           conv2_block1_out[0][0]           \n",
            "                                                                 conv2_block2_3_bn[0][0]          \n",
            "__________________________________________________________________________________________________\n",
            "conv2_block2_out (Activation)   (None, 80, 80, 256)  0           conv2_block2_add[0][0]           \n",
            "__________________________________________________________________________________________________\n",
            "conv2_block3_1_conv (Conv2D)    (None, 80, 80, 64)   16448       conv2_block2_out[0][0]           \n",
            "__________________________________________________________________________________________________\n",
            "conv2_block3_1_bn (BatchNormali (None, 80, 80, 64)   256         conv2_block3_1_conv[0][0]        \n",
            "__________________________________________________________________________________________________\n",
            "conv2_block3_1_relu (Activation (None, 80, 80, 64)   0           conv2_block3_1_bn[0][0]          \n",
            "__________________________________________________________________________________________________\n",
            "conv2_block3_2_conv (Conv2D)    (None, 80, 80, 64)   36928       conv2_block3_1_relu[0][0]        \n",
            "__________________________________________________________________________________________________\n",
            "conv2_block3_2_bn (BatchNormali (None, 80, 80, 64)   256         conv2_block3_2_conv[0][0]        \n",
            "__________________________________________________________________________________________________\n",
            "conv2_block3_2_relu (Activation (None, 80, 80, 64)   0           conv2_block3_2_bn[0][0]          \n",
            "__________________________________________________________________________________________________\n",
            "conv2_block3_3_conv (Conv2D)    (None, 80, 80, 256)  16640       conv2_block3_2_relu[0][0]        \n",
            "__________________________________________________________________________________________________\n",
            "conv2_block3_3_bn (BatchNormali (None, 80, 80, 256)  1024        conv2_block3_3_conv[0][0]        \n",
            "__________________________________________________________________________________________________\n",
            "conv2_block3_add (Add)          (None, 80, 80, 256)  0           conv2_block2_out[0][0]           \n",
            "                                                                 conv2_block3_3_bn[0][0]          \n",
            "__________________________________________________________________________________________________\n",
            "conv2_block3_out (Activation)   (None, 80, 80, 256)  0           conv2_block3_add[0][0]           \n",
            "__________________________________________________________________________________________________\n",
            "conv3_block1_1_conv (Conv2D)    (None, 40, 40, 128)  32896       conv2_block3_out[0][0]           \n",
            "__________________________________________________________________________________________________\n",
            "conv3_block1_1_bn (BatchNormali (None, 40, 40, 128)  512         conv3_block1_1_conv[0][0]        \n",
            "__________________________________________________________________________________________________\n",
            "conv3_block1_1_relu (Activation (None, 40, 40, 128)  0           conv3_block1_1_bn[0][0]          \n",
            "__________________________________________________________________________________________________\n",
            "conv3_block1_2_conv (Conv2D)    (None, 40, 40, 128)  147584      conv3_block1_1_relu[0][0]        \n",
            "__________________________________________________________________________________________________\n",
            "conv3_block1_2_bn (BatchNormali (None, 40, 40, 128)  512         conv3_block1_2_conv[0][0]        \n",
            "__________________________________________________________________________________________________\n",
            "conv3_block1_2_relu (Activation (None, 40, 40, 128)  0           conv3_block1_2_bn[0][0]          \n",
            "__________________________________________________________________________________________________\n",
            "conv3_block1_0_conv (Conv2D)    (None, 40, 40, 512)  131584      conv2_block3_out[0][0]           \n",
            "__________________________________________________________________________________________________\n",
            "conv3_block1_3_conv (Conv2D)    (None, 40, 40, 512)  66048       conv3_block1_2_relu[0][0]        \n",
            "__________________________________________________________________________________________________\n",
            "conv3_block1_0_bn (BatchNormali (None, 40, 40, 512)  2048        conv3_block1_0_conv[0][0]        \n",
            "__________________________________________________________________________________________________\n",
            "conv3_block1_3_bn (BatchNormali (None, 40, 40, 512)  2048        conv3_block1_3_conv[0][0]        \n",
            "__________________________________________________________________________________________________\n",
            "conv3_block1_add (Add)          (None, 40, 40, 512)  0           conv3_block1_0_bn[0][0]          \n",
            "                                                                 conv3_block1_3_bn[0][0]          \n",
            "__________________________________________________________________________________________________\n",
            "conv3_block1_out (Activation)   (None, 40, 40, 512)  0           conv3_block1_add[0][0]           \n",
            "__________________________________________________________________________________________________\n",
            "conv3_block2_1_conv (Conv2D)    (None, 40, 40, 128)  65664       conv3_block1_out[0][0]           \n",
            "__________________________________________________________________________________________________\n",
            "conv3_block2_1_bn (BatchNormali (None, 40, 40, 128)  512         conv3_block2_1_conv[0][0]        \n",
            "__________________________________________________________________________________________________\n",
            "conv3_block2_1_relu (Activation (None, 40, 40, 128)  0           conv3_block2_1_bn[0][0]          \n",
            "__________________________________________________________________________________________________\n",
            "conv3_block2_2_conv (Conv2D)    (None, 40, 40, 128)  147584      conv3_block2_1_relu[0][0]        \n",
            "__________________________________________________________________________________________________\n",
            "conv3_block2_2_bn (BatchNormali (None, 40, 40, 128)  512         conv3_block2_2_conv[0][0]        \n",
            "__________________________________________________________________________________________________\n",
            "conv3_block2_2_relu (Activation (None, 40, 40, 128)  0           conv3_block2_2_bn[0][0]          \n",
            "__________________________________________________________________________________________________\n",
            "conv3_block2_3_conv (Conv2D)    (None, 40, 40, 512)  66048       conv3_block2_2_relu[0][0]        \n",
            "__________________________________________________________________________________________________\n",
            "conv3_block2_3_bn (BatchNormali (None, 40, 40, 512)  2048        conv3_block2_3_conv[0][0]        \n",
            "__________________________________________________________________________________________________\n",
            "conv3_block2_add (Add)          (None, 40, 40, 512)  0           conv3_block1_out[0][0]           \n",
            "                                                                 conv3_block2_3_bn[0][0]          \n",
            "__________________________________________________________________________________________________\n",
            "conv3_block2_out (Activation)   (None, 40, 40, 512)  0           conv3_block2_add[0][0]           \n",
            "__________________________________________________________________________________________________\n",
            "conv3_block3_1_conv (Conv2D)    (None, 40, 40, 128)  65664       conv3_block2_out[0][0]           \n",
            "__________________________________________________________________________________________________\n",
            "conv3_block3_1_bn (BatchNormali (None, 40, 40, 128)  512         conv3_block3_1_conv[0][0]        \n",
            "__________________________________________________________________________________________________\n",
            "conv3_block3_1_relu (Activation (None, 40, 40, 128)  0           conv3_block3_1_bn[0][0]          \n",
            "__________________________________________________________________________________________________\n",
            "conv3_block3_2_conv (Conv2D)    (None, 40, 40, 128)  147584      conv3_block3_1_relu[0][0]        \n",
            "__________________________________________________________________________________________________\n",
            "conv3_block3_2_bn (BatchNormali (None, 40, 40, 128)  512         conv3_block3_2_conv[0][0]        \n",
            "__________________________________________________________________________________________________\n",
            "conv3_block3_2_relu (Activation (None, 40, 40, 128)  0           conv3_block3_2_bn[0][0]          \n",
            "__________________________________________________________________________________________________\n",
            "conv3_block3_3_conv (Conv2D)    (None, 40, 40, 512)  66048       conv3_block3_2_relu[0][0]        \n",
            "__________________________________________________________________________________________________\n",
            "conv3_block3_3_bn (BatchNormali (None, 40, 40, 512)  2048        conv3_block3_3_conv[0][0]        \n",
            "__________________________________________________________________________________________________\n",
            "conv3_block3_add (Add)          (None, 40, 40, 512)  0           conv3_block2_out[0][0]           \n",
            "                                                                 conv3_block3_3_bn[0][0]          \n",
            "__________________________________________________________________________________________________\n",
            "conv3_block3_out (Activation)   (None, 40, 40, 512)  0           conv3_block3_add[0][0]           \n",
            "__________________________________________________________________________________________________\n",
            "conv3_block4_1_conv (Conv2D)    (None, 40, 40, 128)  65664       conv3_block3_out[0][0]           \n",
            "__________________________________________________________________________________________________\n",
            "conv3_block4_1_bn (BatchNormali (None, 40, 40, 128)  512         conv3_block4_1_conv[0][0]        \n",
            "__________________________________________________________________________________________________\n",
            "conv3_block4_1_relu (Activation (None, 40, 40, 128)  0           conv3_block4_1_bn[0][0]          \n",
            "__________________________________________________________________________________________________\n",
            "conv3_block4_2_conv (Conv2D)    (None, 40, 40, 128)  147584      conv3_block4_1_relu[0][0]        \n",
            "__________________________________________________________________________________________________\n",
            "conv3_block4_2_bn (BatchNormali (None, 40, 40, 128)  512         conv3_block4_2_conv[0][0]        \n",
            "__________________________________________________________________________________________________\n",
            "conv3_block4_2_relu (Activation (None, 40, 40, 128)  0           conv3_block4_2_bn[0][0]          \n",
            "__________________________________________________________________________________________________\n",
            "conv3_block4_3_conv (Conv2D)    (None, 40, 40, 512)  66048       conv3_block4_2_relu[0][0]        \n",
            "__________________________________________________________________________________________________\n",
            "conv3_block4_3_bn (BatchNormali (None, 40, 40, 512)  2048        conv3_block4_3_conv[0][0]        \n",
            "__________________________________________________________________________________________________\n",
            "conv3_block4_add (Add)          (None, 40, 40, 512)  0           conv3_block3_out[0][0]           \n",
            "                                                                 conv3_block4_3_bn[0][0]          \n",
            "__________________________________________________________________________________________________\n",
            "conv3_block4_out (Activation)   (None, 40, 40, 512)  0           conv3_block4_add[0][0]           \n",
            "__________________________________________________________________________________________________\n",
            "conv4_block1_1_conv (Conv2D)    (None, 20, 20, 256)  131328      conv3_block4_out[0][0]           \n",
            "__________________________________________________________________________________________________\n",
            "conv4_block1_1_bn (BatchNormali (None, 20, 20, 256)  1024        conv4_block1_1_conv[0][0]        \n",
            "__________________________________________________________________________________________________\n",
            "conv4_block1_1_relu (Activation (None, 20, 20, 256)  0           conv4_block1_1_bn[0][0]          \n",
            "__________________________________________________________________________________________________\n",
            "conv4_block1_2_conv (Conv2D)    (None, 20, 20, 256)  590080      conv4_block1_1_relu[0][0]        \n",
            "__________________________________________________________________________________________________\n",
            "conv4_block1_2_bn (BatchNormali (None, 20, 20, 256)  1024        conv4_block1_2_conv[0][0]        \n",
            "__________________________________________________________________________________________________\n",
            "conv4_block1_2_relu (Activation (None, 20, 20, 256)  0           conv4_block1_2_bn[0][0]          \n",
            "__________________________________________________________________________________________________\n",
            "conv4_block1_0_conv (Conv2D)    (None, 20, 20, 1024) 525312      conv3_block4_out[0][0]           \n",
            "__________________________________________________________________________________________________\n",
            "conv4_block1_3_conv (Conv2D)    (None, 20, 20, 1024) 263168      conv4_block1_2_relu[0][0]        \n",
            "__________________________________________________________________________________________________\n",
            "conv4_block1_0_bn (BatchNormali (None, 20, 20, 1024) 4096        conv4_block1_0_conv[0][0]        \n",
            "__________________________________________________________________________________________________\n",
            "conv4_block1_3_bn (BatchNormali (None, 20, 20, 1024) 4096        conv4_block1_3_conv[0][0]        \n",
            "__________________________________________________________________________________________________\n",
            "conv4_block1_add (Add)          (None, 20, 20, 1024) 0           conv4_block1_0_bn[0][0]          \n",
            "                                                                 conv4_block1_3_bn[0][0]          \n",
            "__________________________________________________________________________________________________\n",
            "conv4_block1_out (Activation)   (None, 20, 20, 1024) 0           conv4_block1_add[0][0]           \n",
            "__________________________________________________________________________________________________\n",
            "conv4_block2_1_conv (Conv2D)    (None, 20, 20, 256)  262400      conv4_block1_out[0][0]           \n",
            "__________________________________________________________________________________________________\n",
            "conv4_block2_1_bn (BatchNormali (None, 20, 20, 256)  1024        conv4_block2_1_conv[0][0]        \n",
            "__________________________________________________________________________________________________\n",
            "conv4_block2_1_relu (Activation (None, 20, 20, 256)  0           conv4_block2_1_bn[0][0]          \n",
            "__________________________________________________________________________________________________\n",
            "conv4_block2_2_conv (Conv2D)    (None, 20, 20, 256)  590080      conv4_block2_1_relu[0][0]        \n",
            "__________________________________________________________________________________________________\n",
            "conv4_block2_2_bn (BatchNormali (None, 20, 20, 256)  1024        conv4_block2_2_conv[0][0]        \n",
            "__________________________________________________________________________________________________\n",
            "conv4_block2_2_relu (Activation (None, 20, 20, 256)  0           conv4_block2_2_bn[0][0]          \n",
            "__________________________________________________________________________________________________\n",
            "conv4_block2_3_conv (Conv2D)    (None, 20, 20, 1024) 263168      conv4_block2_2_relu[0][0]        \n",
            "__________________________________________________________________________________________________\n",
            "conv4_block2_3_bn (BatchNormali (None, 20, 20, 1024) 4096        conv4_block2_3_conv[0][0]        \n",
            "__________________________________________________________________________________________________\n",
            "conv4_block2_add (Add)          (None, 20, 20, 1024) 0           conv4_block1_out[0][0]           \n",
            "                                                                 conv4_block2_3_bn[0][0]          \n",
            "__________________________________________________________________________________________________\n",
            "conv4_block2_out (Activation)   (None, 20, 20, 1024) 0           conv4_block2_add[0][0]           \n",
            "__________________________________________________________________________________________________\n",
            "conv4_block3_1_conv (Conv2D)    (None, 20, 20, 256)  262400      conv4_block2_out[0][0]           \n",
            "__________________________________________________________________________________________________\n",
            "conv4_block3_1_bn (BatchNormali (None, 20, 20, 256)  1024        conv4_block3_1_conv[0][0]        \n",
            "__________________________________________________________________________________________________\n",
            "conv4_block3_1_relu (Activation (None, 20, 20, 256)  0           conv4_block3_1_bn[0][0]          \n",
            "__________________________________________________________________________________________________\n",
            "conv4_block3_2_conv (Conv2D)    (None, 20, 20, 256)  590080      conv4_block3_1_relu[0][0]        \n",
            "__________________________________________________________________________________________________\n",
            "conv4_block3_2_bn (BatchNormali (None, 20, 20, 256)  1024        conv4_block3_2_conv[0][0]        \n",
            "__________________________________________________________________________________________________\n",
            "conv4_block3_2_relu (Activation (None, 20, 20, 256)  0           conv4_block3_2_bn[0][0]          \n",
            "__________________________________________________________________________________________________\n",
            "conv4_block3_3_conv (Conv2D)    (None, 20, 20, 1024) 263168      conv4_block3_2_relu[0][0]        \n",
            "__________________________________________________________________________________________________\n",
            "conv4_block3_3_bn (BatchNormali (None, 20, 20, 1024) 4096        conv4_block3_3_conv[0][0]        \n",
            "__________________________________________________________________________________________________\n",
            "conv4_block3_add (Add)          (None, 20, 20, 1024) 0           conv4_block2_out[0][0]           \n",
            "                                                                 conv4_block3_3_bn[0][0]          \n",
            "__________________________________________________________________________________________________\n",
            "conv4_block3_out (Activation)   (None, 20, 20, 1024) 0           conv4_block3_add[0][0]           \n",
            "__________________________________________________________________________________________________\n",
            "conv4_block4_1_conv (Conv2D)    (None, 20, 20, 256)  262400      conv4_block3_out[0][0]           \n",
            "__________________________________________________________________________________________________\n",
            "conv4_block4_1_bn (BatchNormali (None, 20, 20, 256)  1024        conv4_block4_1_conv[0][0]        \n",
            "__________________________________________________________________________________________________\n",
            "conv4_block4_1_relu (Activation (None, 20, 20, 256)  0           conv4_block4_1_bn[0][0]          \n",
            "__________________________________________________________________________________________________\n",
            "conv4_block4_2_conv (Conv2D)    (None, 20, 20, 256)  590080      conv4_block4_1_relu[0][0]        \n",
            "__________________________________________________________________________________________________\n",
            "conv4_block4_2_bn (BatchNormali (None, 20, 20, 256)  1024        conv4_block4_2_conv[0][0]        \n",
            "__________________________________________________________________________________________________\n",
            "conv4_block4_2_relu (Activation (None, 20, 20, 256)  0           conv4_block4_2_bn[0][0]          \n",
            "__________________________________________________________________________________________________\n",
            "conv4_block4_3_conv (Conv2D)    (None, 20, 20, 1024) 263168      conv4_block4_2_relu[0][0]        \n",
            "__________________________________________________________________________________________________\n",
            "conv4_block4_3_bn (BatchNormali (None, 20, 20, 1024) 4096        conv4_block4_3_conv[0][0]        \n",
            "__________________________________________________________________________________________________\n",
            "conv4_block4_add (Add)          (None, 20, 20, 1024) 0           conv4_block3_out[0][0]           \n",
            "                                                                 conv4_block4_3_bn[0][0]          \n",
            "__________________________________________________________________________________________________\n",
            "conv4_block4_out (Activation)   (None, 20, 20, 1024) 0           conv4_block4_add[0][0]           \n",
            "__________________________________________________________________________________________________\n",
            "conv4_block5_1_conv (Conv2D)    (None, 20, 20, 256)  262400      conv4_block4_out[0][0]           \n",
            "__________________________________________________________________________________________________\n",
            "conv4_block5_1_bn (BatchNormali (None, 20, 20, 256)  1024        conv4_block5_1_conv[0][0]        \n",
            "__________________________________________________________________________________________________\n",
            "conv4_block5_1_relu (Activation (None, 20, 20, 256)  0           conv4_block5_1_bn[0][0]          \n",
            "__________________________________________________________________________________________________\n",
            "conv4_block5_2_conv (Conv2D)    (None, 20, 20, 256)  590080      conv4_block5_1_relu[0][0]        \n",
            "__________________________________________________________________________________________________\n",
            "conv4_block5_2_bn (BatchNormali (None, 20, 20, 256)  1024        conv4_block5_2_conv[0][0]        \n",
            "__________________________________________________________________________________________________\n",
            "conv4_block5_2_relu (Activation (None, 20, 20, 256)  0           conv4_block5_2_bn[0][0]          \n",
            "__________________________________________________________________________________________________\n",
            "conv4_block5_3_conv (Conv2D)    (None, 20, 20, 1024) 263168      conv4_block5_2_relu[0][0]        \n",
            "__________________________________________________________________________________________________\n",
            "conv4_block5_3_bn (BatchNormali (None, 20, 20, 1024) 4096        conv4_block5_3_conv[0][0]        \n",
            "__________________________________________________________________________________________________\n",
            "conv4_block5_add (Add)          (None, 20, 20, 1024) 0           conv4_block4_out[0][0]           \n",
            "                                                                 conv4_block5_3_bn[0][0]          \n",
            "__________________________________________________________________________________________________\n",
            "conv4_block5_out (Activation)   (None, 20, 20, 1024) 0           conv4_block5_add[0][0]           \n",
            "__________________________________________________________________________________________________\n",
            "conv4_block6_1_conv (Conv2D)    (None, 20, 20, 256)  262400      conv4_block5_out[0][0]           \n",
            "__________________________________________________________________________________________________\n",
            "conv4_block6_1_bn (BatchNormali (None, 20, 20, 256)  1024        conv4_block6_1_conv[0][0]        \n",
            "__________________________________________________________________________________________________\n",
            "conv4_block6_1_relu (Activation (None, 20, 20, 256)  0           conv4_block6_1_bn[0][0]          \n",
            "__________________________________________________________________________________________________\n",
            "conv4_block6_2_conv (Conv2D)    (None, 20, 20, 256)  590080      conv4_block6_1_relu[0][0]        \n",
            "__________________________________________________________________________________________________\n",
            "conv4_block6_2_bn (BatchNormali (None, 20, 20, 256)  1024        conv4_block6_2_conv[0][0]        \n",
            "__________________________________________________________________________________________________\n",
            "conv4_block6_2_relu (Activation (None, 20, 20, 256)  0           conv4_block6_2_bn[0][0]          \n",
            "__________________________________________________________________________________________________\n",
            "conv4_block6_3_conv (Conv2D)    (None, 20, 20, 1024) 263168      conv4_block6_2_relu[0][0]        \n",
            "__________________________________________________________________________________________________\n",
            "conv4_block6_3_bn (BatchNormali (None, 20, 20, 1024) 4096        conv4_block6_3_conv[0][0]        \n",
            "__________________________________________________________________________________________________\n",
            "conv4_block6_add (Add)          (None, 20, 20, 1024) 0           conv4_block5_out[0][0]           \n",
            "                                                                 conv4_block6_3_bn[0][0]          \n",
            "__________________________________________________________________________________________________\n",
            "conv4_block6_out (Activation)   (None, 20, 20, 1024) 0           conv4_block6_add[0][0]           \n",
            "__________________________________________________________________________________________________\n",
            "conv5_block1_1_conv (Conv2D)    (None, 10, 10, 512)  524800      conv4_block6_out[0][0]           \n",
            "__________________________________________________________________________________________________\n",
            "conv5_block1_1_bn (BatchNormali (None, 10, 10, 512)  2048        conv5_block1_1_conv[0][0]        \n",
            "__________________________________________________________________________________________________\n",
            "conv5_block1_1_relu (Activation (None, 10, 10, 512)  0           conv5_block1_1_bn[0][0]          \n",
            "__________________________________________________________________________________________________\n",
            "conv5_block1_2_conv (Conv2D)    (None, 10, 10, 512)  2359808     conv5_block1_1_relu[0][0]        \n",
            "__________________________________________________________________________________________________\n",
            "conv5_block1_2_bn (BatchNormali (None, 10, 10, 512)  2048        conv5_block1_2_conv[0][0]        \n",
            "__________________________________________________________________________________________________\n",
            "conv5_block1_2_relu (Activation (None, 10, 10, 512)  0           conv5_block1_2_bn[0][0]          \n",
            "__________________________________________________________________________________________________\n",
            "conv5_block1_0_conv (Conv2D)    (None, 10, 10, 2048) 2099200     conv4_block6_out[0][0]           \n",
            "__________________________________________________________________________________________________\n",
            "conv5_block1_3_conv (Conv2D)    (None, 10, 10, 2048) 1050624     conv5_block1_2_relu[0][0]        \n",
            "__________________________________________________________________________________________________\n",
            "conv5_block1_0_bn (BatchNormali (None, 10, 10, 2048) 8192        conv5_block1_0_conv[0][0]        \n",
            "__________________________________________________________________________________________________\n",
            "conv5_block1_3_bn (BatchNormali (None, 10, 10, 2048) 8192        conv5_block1_3_conv[0][0]        \n",
            "__________________________________________________________________________________________________\n",
            "conv5_block1_add (Add)          (None, 10, 10, 2048) 0           conv5_block1_0_bn[0][0]          \n",
            "                                                                 conv5_block1_3_bn[0][0]          \n",
            "__________________________________________________________________________________________________\n",
            "conv5_block1_out (Activation)   (None, 10, 10, 2048) 0           conv5_block1_add[0][0]           \n",
            "__________________________________________________________________________________________________\n",
            "conv5_block2_1_conv (Conv2D)    (None, 10, 10, 512)  1049088     conv5_block1_out[0][0]           \n",
            "__________________________________________________________________________________________________\n",
            "conv5_block2_1_bn (BatchNormali (None, 10, 10, 512)  2048        conv5_block2_1_conv[0][0]        \n",
            "__________________________________________________________________________________________________\n",
            "conv5_block2_1_relu (Activation (None, 10, 10, 512)  0           conv5_block2_1_bn[0][0]          \n",
            "__________________________________________________________________________________________________\n",
            "conv5_block2_2_conv (Conv2D)    (None, 10, 10, 512)  2359808     conv5_block2_1_relu[0][0]        \n",
            "__________________________________________________________________________________________________\n",
            "conv5_block2_2_bn (BatchNormali (None, 10, 10, 512)  2048        conv5_block2_2_conv[0][0]        \n",
            "__________________________________________________________________________________________________\n",
            "conv5_block2_2_relu (Activation (None, 10, 10, 512)  0           conv5_block2_2_bn[0][0]          \n",
            "__________________________________________________________________________________________________\n",
            "conv5_block2_3_conv (Conv2D)    (None, 10, 10, 2048) 1050624     conv5_block2_2_relu[0][0]        \n",
            "__________________________________________________________________________________________________\n",
            "conv5_block2_3_bn (BatchNormali (None, 10, 10, 2048) 8192        conv5_block2_3_conv[0][0]        \n",
            "__________________________________________________________________________________________________\n",
            "conv5_block2_add (Add)          (None, 10, 10, 2048) 0           conv5_block1_out[0][0]           \n",
            "                                                                 conv5_block2_3_bn[0][0]          \n",
            "__________________________________________________________________________________________________\n",
            "conv5_block2_out (Activation)   (None, 10, 10, 2048) 0           conv5_block2_add[0][0]           \n",
            "__________________________________________________________________________________________________\n",
            "conv5_block3_1_conv (Conv2D)    (None, 10, 10, 512)  1049088     conv5_block2_out[0][0]           \n",
            "__________________________________________________________________________________________________\n",
            "conv5_block3_1_bn (BatchNormali (None, 10, 10, 512)  2048        conv5_block3_1_conv[0][0]        \n",
            "__________________________________________________________________________________________________\n",
            "conv5_block3_1_relu (Activation (None, 10, 10, 512)  0           conv5_block3_1_bn[0][0]          \n",
            "__________________________________________________________________________________________________\n",
            "conv5_block3_2_conv (Conv2D)    (None, 10, 10, 512)  2359808     conv5_block3_1_relu[0][0]        \n",
            "__________________________________________________________________________________________________\n",
            "conv5_block3_2_bn (BatchNormali (None, 10, 10, 512)  2048        conv5_block3_2_conv[0][0]        \n",
            "__________________________________________________________________________________________________\n",
            "conv5_block3_2_relu (Activation (None, 10, 10, 512)  0           conv5_block3_2_bn[0][0]          \n",
            "__________________________________________________________________________________________________\n",
            "conv5_block3_3_conv (Conv2D)    (None, 10, 10, 2048) 1050624     conv5_block3_2_relu[0][0]        \n",
            "__________________________________________________________________________________________________\n",
            "conv5_block3_3_bn (BatchNormali (None, 10, 10, 2048) 8192        conv5_block3_3_conv[0][0]        \n",
            "__________________________________________________________________________________________________\n",
            "conv5_block3_add (Add)          (None, 10, 10, 2048) 0           conv5_block2_out[0][0]           \n",
            "                                                                 conv5_block3_3_bn[0][0]          \n",
            "__________________________________________________________________________________________________\n",
            "conv5_block3_out (Activation)   (None, 10, 10, 2048) 0           conv5_block3_add[0][0]           \n",
            "__________________________________________________________________________________________________\n",
            "global_average_pooling2d_1 (Glo (None, 2048)         0           conv5_block3_out[0][0]           \n",
            "__________________________________________________________________________________________________\n",
            "global_max_pooling2d_1 (GlobalM (None, 2048)         0           conv5_block3_out[0][0]           \n",
            "__________________________________________________________________________________________________\n",
            "batch_normalization_2 (BatchNor (None, 2048)         8192        global_average_pooling2d_1[0][0] \n",
            "__________________________________________________________________________________________________\n",
            "batch_normalization_3 (BatchNor (None, 2048)         8192        global_max_pooling2d_1[0][0]     \n",
            "__________________________________________________________________________________________________\n",
            "concatenate_1 (Concatenate)     (None, 4096)         0           batch_normalization_2[0][0]      \n",
            "                                                                 batch_normalization_3[0][0]      \n",
            "__________________________________________________________________________________________________\n",
            "dense_3 (Dense)                 (None, 2048)         8390656     concatenate_1[0][0]              \n",
            "__________________________________________________________________________________________________\n",
            "dense_4 (Dense)                 (None, 2048)         8390656     concatenate_1[0][0]              \n",
            "__________________________________________________________________________________________________\n",
            "dense_5 (Dense)                 (None, 2048)         8390656     concatenate_1[0][0]              \n",
            "__________________________________________________________________________________________________\n",
            "dropout_3 (Dropout)             (None, 2048)         0           dense_3[0][0]                    \n",
            "__________________________________________________________________________________________________\n",
            "dropout_4 (Dropout)             (None, 2048)         0           dense_4[0][0]                    \n",
            "__________________________________________________________________________________________________\n",
            "dropout_5 (Dropout)             (None, 2048)         0           dense_5[0][0]                    \n",
            "__________________________________________________________________________________________________\n",
            "regression_output (Dense)       (None, 1)            2049        dropout_3[0][0]                  \n",
            "__________________________________________________________________________________________________\n",
            "classification_output (Dense)   (None, 5)            10245       dropout_4[0][0]                  \n",
            "__________________________________________________________________________________________________\n",
            "ordinal_regression_output (Dens (None, 5)            10245       dropout_5[0][0]                  \n",
            "==================================================================================================\n",
            "Total params: 48,798,603\n",
            "Trainable params: 25,202,699\n",
            "Non-trainable params: 23,595,904\n",
            "__________________________________________________________________________________________________\n"
          ],
          "name": "stdout"
        }
      ]
    },
    {
      "cell_type": "code",
      "metadata": {
        "id": "5dJgeOMnRl3G"
      },
      "source": [
        "# ref - https://github.com/umbertogriffo/focal-loss-keras/blob/master/losses.py\n",
        "\n",
        "'''Below Functions create custom loss functions - Categorical Focal Loss, Binary Focal Loss'''\n",
        "\n",
        "def binary_focal_loss(gamma=2., alpha=.25):\n",
        "    \"\"\"\n",
        "    Binary form of focal loss.\n",
        "      FL(p_t) = -alpha * (1 - p_t)**gamma * log(p_t)\n",
        "      where p = sigmoid(x), p_t = p or 1 - p depending on if the label is 1 or 0, respectively.\n",
        "    References:\n",
        "        https://arxiv.org/pdf/1708.02002.pdf\n",
        "    Usage:\n",
        "     model.compile(loss=[binary_focal_loss(alpha=.25, gamma=2)], metrics=[\"accuracy\"], optimizer=adam)\n",
        "    \"\"\"\n",
        "    def binary_focal_loss_fixed(y_true, y_pred):\n",
        "        \"\"\"\n",
        "        :param y_true: A tensor of the same shape as `y_pred`\n",
        "        :param y_pred:  A tensor resulting from a sigmoid\n",
        "        :return: Output tensor.\n",
        "        \"\"\"\n",
        "        pt_1 = tf.where(tf.equal(y_true, 1), y_pred, tf.ones_like(y_pred))\n",
        "        pt_0 = tf.where(tf.equal(y_true, 0), y_pred, tf.zeros_like(y_pred))\n",
        "\n",
        "        epsilon = K.epsilon()\n",
        "        # clip to prevent NaN's and Inf's\n",
        "        pt_1 = K.clip(pt_1, epsilon, 1. - epsilon)\n",
        "        pt_0 = K.clip(pt_0, epsilon, 1. - epsilon)\n",
        "\n",
        "        return -K.mean(alpha * K.pow(1. - pt_1, gamma) * K.log(pt_1)) \\\n",
        "               -K.mean((1 - alpha) * K.pow(pt_0, gamma) * K.log(1. - pt_0))\n",
        "\n",
        "    return binary_focal_loss_fixed"
      ],
      "execution_count": null,
      "outputs": []
    },
    {
      "cell_type": "code",
      "metadata": {
        "id": "JDC7DXOGtaa-"
      },
      "source": [
        "def categorical_focal_loss(gamma=2., alpha=.25):\n",
        "    \"\"\"\n",
        "    Softmax version of focal loss.\n",
        "           m\n",
        "      FL = ∑  -alpha * (1 - p_o,c)^gamma * y_o,c * log(p_o,c)\n",
        "          c=1\n",
        "      where m = number of classes, c = class and o = observation\n",
        "    Parameters:\n",
        "      alpha -- the same as weighing factor in balanced cross entropy\n",
        "      gamma -- focusing parameter for modulating factor (1-p)\n",
        "    Default value:\n",
        "      gamma -- 2.0 as mentioned in the paper\n",
        "      alpha -- 0.25 as mentioned in the paper\n",
        "    References:\n",
        "        Official paper: https://arxiv.org/pdf/1708.02002.pdf\n",
        "        https://www.tensorflow.org/api_docs/python/tf/keras/backend/categorical_crossentropy\n",
        "    Usage:\n",
        "     model.compile(loss=[categorical_focal_loss(alpha=.25, gamma=2)], metrics=[\"accuracy\"], optimizer=adam)\n",
        "    \"\"\"\n",
        "    def categorical_focal_loss_fixed(y_true, y_pred):\n",
        "        \"\"\"\n",
        "        :param y_true: A tensor of the same shape as `y_pred`\n",
        "        :param y_pred: A tensor resulting from a softmax\n",
        "        :return: Output tensor.\n",
        "        \"\"\"\n",
        "\n",
        "        # Scale predictions so that the class probas of each sample sum to 1\n",
        "        y_pred /= K.sum(y_pred, axis=-1, keepdims=True)\n",
        "\n",
        "        # Clip the prediction value to prevent NaN's and Inf's\n",
        "        epsilon = K.epsilon()\n",
        "        y_pred = K.clip(y_pred, epsilon, 1. - epsilon)\n",
        "\n",
        "        # Calculate Cross Entropy\n",
        "        cross_entropy = -y_true * K.log(y_pred)\n",
        "\n",
        "        # Calculate Focal Loss\n",
        "        loss = alpha * K.pow(1 - y_pred, gamma) * cross_entropy\n",
        "\n",
        "        # Compute mean loss in mini_batch\n",
        "        return K.mean(loss, axis=1)\n",
        "\n",
        "    return categorical_focal_loss_fixed"
      ],
      "execution_count": null,
      "outputs": []
    },
    {
      "cell_type": "code",
      "metadata": {
        "colab": {
          "base_uri": "https://localhost:8080/"
        },
        "id": "tyP6URxCtk_G",
        "outputId": "0972b690-80c7-493f-d03b-fc27e42f46c0"
      },
      "source": [
        "# ref - https://keras.io/getting-started/functional-api-guide/\n",
        "\n",
        "model.compile(optimizer = optimizers.Adam(lr=WARMUP_LEARNING_RATE),\n",
        "              loss={'regression_output': mean_squared_error, \n",
        "                    'classification_output': categorical_focal_loss(alpha=.25, gamma=2) ,\n",
        "                    'ordinal_regression_output' : binary_focal_loss(alpha=.25, gamma=2)\n",
        "                    },\n",
        "              metrics = ['accuracy'])\n",
        "\n",
        "history = model.fit_generator(generator=train_generator,\n",
        "                              steps_per_epoch=STEP_SIZE_TRAIN,\n",
        "                              validation_data=valid_generator,\n",
        "                              validation_steps=STEP_SIZE_VALID,\n",
        "                              epochs=5,\n",
        "                              callbacks = callback_list,\n",
        "                              verbose=1).history\n",
        "\n",
        "model.save(\"model_main_training.h5\")\n",
        "f = open(\"history_main_training\",\"wb\")\n",
        "pickle.dump(history,f)\n",
        "f.close()"
      ],
      "execution_count": null,
      "outputs": [
        {
          "output_type": "stream",
          "text": [
            "/usr/local/lib/python3.7/dist-packages/tensorflow/python/keras/engine/training.py:1844: UserWarning: `Model.fit_generator` is deprecated and will be removed in a future version. Please use `Model.fit`, which supports generators.\n",
            "  warnings.warn('`Model.fit_generator` is deprecated and '\n"
          ],
          "name": "stderr"
        },
        {
          "output_type": "stream",
          "text": [
            "Epoch 1/5\n",
            "91/91 [==============================] - 138s 1s/step - loss: 2.4529 - regression_output_loss: 2.2417 - classification_output_loss: 0.0406 - ordinal_regression_output_loss: 0.1706 - regression_output_accuracy: 0.3671 - classification_output_accuracy: 0.6367 - ordinal_regression_output_accuracy: 0.6834 - val_loss: 1.1624 - val_regression_output_loss: 1.0270 - val_classification_output_loss: 0.0243 - val_ordinal_regression_output_loss: 0.1111 - val_regression_output_accuracy: 0.4276 - val_classification_output_accuracy: 0.7301 - val_ordinal_regression_output_accuracy: 0.8253\n",
            "Epoch 2/5\n",
            "91/91 [==============================] - 130s 1s/step - loss: 2.4724 - regression_output_loss: 2.2720 - classification_output_loss: 0.0391 - ordinal_regression_output_loss: 0.1612 - regression_output_accuracy: 0.3745 - classification_output_accuracy: 0.6582 - ordinal_regression_output_accuracy: 0.6866 - val_loss: 1.0424 - val_regression_output_loss: 0.9039 - val_classification_output_loss: 0.0275 - val_ordinal_regression_output_loss: 0.1110 - val_regression_output_accuracy: 0.4105 - val_classification_output_accuracy: 0.7074 - val_ordinal_regression_output_accuracy: 0.7798\n",
            "Epoch 3/5\n",
            "91/91 [==============================] - 129s 1s/step - loss: 2.4893 - regression_output_loss: 2.2906 - classification_output_loss: 0.0385 - ordinal_regression_output_loss: 0.1601 - regression_output_accuracy: 0.3788 - classification_output_accuracy: 0.6461 - ordinal_regression_output_accuracy: 0.6871 - val_loss: 1.0918 - val_regression_output_loss: 0.9468 - val_classification_output_loss: 0.0295 - val_ordinal_regression_output_loss: 0.1155 - val_regression_output_accuracy: 0.4375 - val_classification_output_accuracy: 0.7145 - val_ordinal_regression_output_accuracy: 0.7827\n",
            "Epoch 4/5\n",
            "91/91 [==============================] - 129s 1s/step - loss: 2.3575 - regression_output_loss: 2.1567 - classification_output_loss: 0.0402 - ordinal_regression_output_loss: 0.1606 - regression_output_accuracy: 0.3557 - classification_output_accuracy: 0.6356 - ordinal_regression_output_accuracy: 0.6849 - val_loss: 1.1127 - val_regression_output_loss: 0.9714 - val_classification_output_loss: 0.0280 - val_ordinal_regression_output_loss: 0.1133 - val_regression_output_accuracy: 0.4261 - val_classification_output_accuracy: 0.7244 - val_ordinal_regression_output_accuracy: 0.8054\n",
            "Epoch 5/5\n",
            "91/91 [==============================] - 129s 1s/step - loss: 2.4540 - regression_output_loss: 2.2582 - classification_output_loss: 0.0388 - ordinal_regression_output_loss: 0.1570 - regression_output_accuracy: 0.3861 - classification_output_accuracy: 0.6517 - ordinal_regression_output_accuracy: 0.6914 - val_loss: 1.1857 - val_regression_output_loss: 1.0416 - val_classification_output_loss: 0.0297 - val_ordinal_regression_output_loss: 0.1145 - val_regression_output_accuracy: 0.4375 - val_classification_output_accuracy: 0.7074 - val_ordinal_regression_output_accuracy: 0.7926\n"
          ],
          "name": "stdout"
        }
      ]
    },
    {
      "cell_type": "code",
      "metadata": {
        "colab": {
          "base_uri": "https://localhost:8080/"
        },
        "id": "HGzThk-2QeP7",
        "outputId": "ee45b697-5ae6-49c3-ada5-0333b67f55a8"
      },
      "source": [
        "# Now Unfreeze all Layers and make all layers as trainable = True (Train for 45 Epochs)\n",
        "\n",
        "for layer in model.layers:\n",
        "    layer.trainable = True\n",
        "model.summary()"
      ],
      "execution_count": null,
      "outputs": [
        {
          "output_type": "stream",
          "text": [
            "Model: \"model_1\"\n",
            "__________________________________________________________________________________________________\n",
            "Layer (type)                    Output Shape         Param #     Connected to                     \n",
            "==================================================================================================\n",
            "input_2 (InputLayer)            [(None, 320, 320, 3) 0                                            \n",
            "__________________________________________________________________________________________________\n",
            "conv1_pad (ZeroPadding2D)       (None, 326, 326, 3)  0           input_2[0][0]                    \n",
            "__________________________________________________________________________________________________\n",
            "conv1_conv (Conv2D)             (None, 160, 160, 64) 9472        conv1_pad[0][0]                  \n",
            "__________________________________________________________________________________________________\n",
            "conv1_bn (BatchNormalization)   (None, 160, 160, 64) 256         conv1_conv[0][0]                 \n",
            "__________________________________________________________________________________________________\n",
            "conv1_relu (Activation)         (None, 160, 160, 64) 0           conv1_bn[0][0]                   \n",
            "__________________________________________________________________________________________________\n",
            "pool1_pad (ZeroPadding2D)       (None, 162, 162, 64) 0           conv1_relu[0][0]                 \n",
            "__________________________________________________________________________________________________\n",
            "pool1_pool (MaxPooling2D)       (None, 80, 80, 64)   0           pool1_pad[0][0]                  \n",
            "__________________________________________________________________________________________________\n",
            "conv2_block1_1_conv (Conv2D)    (None, 80, 80, 64)   4160        pool1_pool[0][0]                 \n",
            "__________________________________________________________________________________________________\n",
            "conv2_block1_1_bn (BatchNormali (None, 80, 80, 64)   256         conv2_block1_1_conv[0][0]        \n",
            "__________________________________________________________________________________________________\n",
            "conv2_block1_1_relu (Activation (None, 80, 80, 64)   0           conv2_block1_1_bn[0][0]          \n",
            "__________________________________________________________________________________________________\n",
            "conv2_block1_2_conv (Conv2D)    (None, 80, 80, 64)   36928       conv2_block1_1_relu[0][0]        \n",
            "__________________________________________________________________________________________________\n",
            "conv2_block1_2_bn (BatchNormali (None, 80, 80, 64)   256         conv2_block1_2_conv[0][0]        \n",
            "__________________________________________________________________________________________________\n",
            "conv2_block1_2_relu (Activation (None, 80, 80, 64)   0           conv2_block1_2_bn[0][0]          \n",
            "__________________________________________________________________________________________________\n",
            "conv2_block1_0_conv (Conv2D)    (None, 80, 80, 256)  16640       pool1_pool[0][0]                 \n",
            "__________________________________________________________________________________________________\n",
            "conv2_block1_3_conv (Conv2D)    (None, 80, 80, 256)  16640       conv2_block1_2_relu[0][0]        \n",
            "__________________________________________________________________________________________________\n",
            "conv2_block1_0_bn (BatchNormali (None, 80, 80, 256)  1024        conv2_block1_0_conv[0][0]        \n",
            "__________________________________________________________________________________________________\n",
            "conv2_block1_3_bn (BatchNormali (None, 80, 80, 256)  1024        conv2_block1_3_conv[0][0]        \n",
            "__________________________________________________________________________________________________\n",
            "conv2_block1_add (Add)          (None, 80, 80, 256)  0           conv2_block1_0_bn[0][0]          \n",
            "                                                                 conv2_block1_3_bn[0][0]          \n",
            "__________________________________________________________________________________________________\n",
            "conv2_block1_out (Activation)   (None, 80, 80, 256)  0           conv2_block1_add[0][0]           \n",
            "__________________________________________________________________________________________________\n",
            "conv2_block2_1_conv (Conv2D)    (None, 80, 80, 64)   16448       conv2_block1_out[0][0]           \n",
            "__________________________________________________________________________________________________\n",
            "conv2_block2_1_bn (BatchNormali (None, 80, 80, 64)   256         conv2_block2_1_conv[0][0]        \n",
            "__________________________________________________________________________________________________\n",
            "conv2_block2_1_relu (Activation (None, 80, 80, 64)   0           conv2_block2_1_bn[0][0]          \n",
            "__________________________________________________________________________________________________\n",
            "conv2_block2_2_conv (Conv2D)    (None, 80, 80, 64)   36928       conv2_block2_1_relu[0][0]        \n",
            "__________________________________________________________________________________________________\n",
            "conv2_block2_2_bn (BatchNormali (None, 80, 80, 64)   256         conv2_block2_2_conv[0][0]        \n",
            "__________________________________________________________________________________________________\n",
            "conv2_block2_2_relu (Activation (None, 80, 80, 64)   0           conv2_block2_2_bn[0][0]          \n",
            "__________________________________________________________________________________________________\n",
            "conv2_block2_3_conv (Conv2D)    (None, 80, 80, 256)  16640       conv2_block2_2_relu[0][0]        \n",
            "__________________________________________________________________________________________________\n",
            "conv2_block2_3_bn (BatchNormali (None, 80, 80, 256)  1024        conv2_block2_3_conv[0][0]        \n",
            "__________________________________________________________________________________________________\n",
            "conv2_block2_add (Add)          (None, 80, 80, 256)  0           conv2_block1_out[0][0]           \n",
            "                                                                 conv2_block2_3_bn[0][0]          \n",
            "__________________________________________________________________________________________________\n",
            "conv2_block2_out (Activation)   (None, 80, 80, 256)  0           conv2_block2_add[0][0]           \n",
            "__________________________________________________________________________________________________\n",
            "conv2_block3_1_conv (Conv2D)    (None, 80, 80, 64)   16448       conv2_block2_out[0][0]           \n",
            "__________________________________________________________________________________________________\n",
            "conv2_block3_1_bn (BatchNormali (None, 80, 80, 64)   256         conv2_block3_1_conv[0][0]        \n",
            "__________________________________________________________________________________________________\n",
            "conv2_block3_1_relu (Activation (None, 80, 80, 64)   0           conv2_block3_1_bn[0][0]          \n",
            "__________________________________________________________________________________________________\n",
            "conv2_block3_2_conv (Conv2D)    (None, 80, 80, 64)   36928       conv2_block3_1_relu[0][0]        \n",
            "__________________________________________________________________________________________________\n",
            "conv2_block3_2_bn (BatchNormali (None, 80, 80, 64)   256         conv2_block3_2_conv[0][0]        \n",
            "__________________________________________________________________________________________________\n",
            "conv2_block3_2_relu (Activation (None, 80, 80, 64)   0           conv2_block3_2_bn[0][0]          \n",
            "__________________________________________________________________________________________________\n",
            "conv2_block3_3_conv (Conv2D)    (None, 80, 80, 256)  16640       conv2_block3_2_relu[0][0]        \n",
            "__________________________________________________________________________________________________\n",
            "conv2_block3_3_bn (BatchNormali (None, 80, 80, 256)  1024        conv2_block3_3_conv[0][0]        \n",
            "__________________________________________________________________________________________________\n",
            "conv2_block3_add (Add)          (None, 80, 80, 256)  0           conv2_block2_out[0][0]           \n",
            "                                                                 conv2_block3_3_bn[0][0]          \n",
            "__________________________________________________________________________________________________\n",
            "conv2_block3_out (Activation)   (None, 80, 80, 256)  0           conv2_block3_add[0][0]           \n",
            "__________________________________________________________________________________________________\n",
            "conv3_block1_1_conv (Conv2D)    (None, 40, 40, 128)  32896       conv2_block3_out[0][0]           \n",
            "__________________________________________________________________________________________________\n",
            "conv3_block1_1_bn (BatchNormali (None, 40, 40, 128)  512         conv3_block1_1_conv[0][0]        \n",
            "__________________________________________________________________________________________________\n",
            "conv3_block1_1_relu (Activation (None, 40, 40, 128)  0           conv3_block1_1_bn[0][0]          \n",
            "__________________________________________________________________________________________________\n",
            "conv3_block1_2_conv (Conv2D)    (None, 40, 40, 128)  147584      conv3_block1_1_relu[0][0]        \n",
            "__________________________________________________________________________________________________\n",
            "conv3_block1_2_bn (BatchNormali (None, 40, 40, 128)  512         conv3_block1_2_conv[0][0]        \n",
            "__________________________________________________________________________________________________\n",
            "conv3_block1_2_relu (Activation (None, 40, 40, 128)  0           conv3_block1_2_bn[0][0]          \n",
            "__________________________________________________________________________________________________\n",
            "conv3_block1_0_conv (Conv2D)    (None, 40, 40, 512)  131584      conv2_block3_out[0][0]           \n",
            "__________________________________________________________________________________________________\n",
            "conv3_block1_3_conv (Conv2D)    (None, 40, 40, 512)  66048       conv3_block1_2_relu[0][0]        \n",
            "__________________________________________________________________________________________________\n",
            "conv3_block1_0_bn (BatchNormali (None, 40, 40, 512)  2048        conv3_block1_0_conv[0][0]        \n",
            "__________________________________________________________________________________________________\n",
            "conv3_block1_3_bn (BatchNormali (None, 40, 40, 512)  2048        conv3_block1_3_conv[0][0]        \n",
            "__________________________________________________________________________________________________\n",
            "conv3_block1_add (Add)          (None, 40, 40, 512)  0           conv3_block1_0_bn[0][0]          \n",
            "                                                                 conv3_block1_3_bn[0][0]          \n",
            "__________________________________________________________________________________________________\n",
            "conv3_block1_out (Activation)   (None, 40, 40, 512)  0           conv3_block1_add[0][0]           \n",
            "__________________________________________________________________________________________________\n",
            "conv3_block2_1_conv (Conv2D)    (None, 40, 40, 128)  65664       conv3_block1_out[0][0]           \n",
            "__________________________________________________________________________________________________\n",
            "conv3_block2_1_bn (BatchNormali (None, 40, 40, 128)  512         conv3_block2_1_conv[0][0]        \n",
            "__________________________________________________________________________________________________\n",
            "conv3_block2_1_relu (Activation (None, 40, 40, 128)  0           conv3_block2_1_bn[0][0]          \n",
            "__________________________________________________________________________________________________\n",
            "conv3_block2_2_conv (Conv2D)    (None, 40, 40, 128)  147584      conv3_block2_1_relu[0][0]        \n",
            "__________________________________________________________________________________________________\n",
            "conv3_block2_2_bn (BatchNormali (None, 40, 40, 128)  512         conv3_block2_2_conv[0][0]        \n",
            "__________________________________________________________________________________________________\n",
            "conv3_block2_2_relu (Activation (None, 40, 40, 128)  0           conv3_block2_2_bn[0][0]          \n",
            "__________________________________________________________________________________________________\n",
            "conv3_block2_3_conv (Conv2D)    (None, 40, 40, 512)  66048       conv3_block2_2_relu[0][0]        \n",
            "__________________________________________________________________________________________________\n",
            "conv3_block2_3_bn (BatchNormali (None, 40, 40, 512)  2048        conv3_block2_3_conv[0][0]        \n",
            "__________________________________________________________________________________________________\n",
            "conv3_block2_add (Add)          (None, 40, 40, 512)  0           conv3_block1_out[0][0]           \n",
            "                                                                 conv3_block2_3_bn[0][0]          \n",
            "__________________________________________________________________________________________________\n",
            "conv3_block2_out (Activation)   (None, 40, 40, 512)  0           conv3_block2_add[0][0]           \n",
            "__________________________________________________________________________________________________\n",
            "conv3_block3_1_conv (Conv2D)    (None, 40, 40, 128)  65664       conv3_block2_out[0][0]           \n",
            "__________________________________________________________________________________________________\n",
            "conv3_block3_1_bn (BatchNormali (None, 40, 40, 128)  512         conv3_block3_1_conv[0][0]        \n",
            "__________________________________________________________________________________________________\n",
            "conv3_block3_1_relu (Activation (None, 40, 40, 128)  0           conv3_block3_1_bn[0][0]          \n",
            "__________________________________________________________________________________________________\n",
            "conv3_block3_2_conv (Conv2D)    (None, 40, 40, 128)  147584      conv3_block3_1_relu[0][0]        \n",
            "__________________________________________________________________________________________________\n",
            "conv3_block3_2_bn (BatchNormali (None, 40, 40, 128)  512         conv3_block3_2_conv[0][0]        \n",
            "__________________________________________________________________________________________________\n",
            "conv3_block3_2_relu (Activation (None, 40, 40, 128)  0           conv3_block3_2_bn[0][0]          \n",
            "__________________________________________________________________________________________________\n",
            "conv3_block3_3_conv (Conv2D)    (None, 40, 40, 512)  66048       conv3_block3_2_relu[0][0]        \n",
            "__________________________________________________________________________________________________\n",
            "conv3_block3_3_bn (BatchNormali (None, 40, 40, 512)  2048        conv3_block3_3_conv[0][0]        \n",
            "__________________________________________________________________________________________________\n",
            "conv3_block3_add (Add)          (None, 40, 40, 512)  0           conv3_block2_out[0][0]           \n",
            "                                                                 conv3_block3_3_bn[0][0]          \n",
            "__________________________________________________________________________________________________\n",
            "conv3_block3_out (Activation)   (None, 40, 40, 512)  0           conv3_block3_add[0][0]           \n",
            "__________________________________________________________________________________________________\n",
            "conv3_block4_1_conv (Conv2D)    (None, 40, 40, 128)  65664       conv3_block3_out[0][0]           \n",
            "__________________________________________________________________________________________________\n",
            "conv3_block4_1_bn (BatchNormali (None, 40, 40, 128)  512         conv3_block4_1_conv[0][0]        \n",
            "__________________________________________________________________________________________________\n",
            "conv3_block4_1_relu (Activation (None, 40, 40, 128)  0           conv3_block4_1_bn[0][0]          \n",
            "__________________________________________________________________________________________________\n",
            "conv3_block4_2_conv (Conv2D)    (None, 40, 40, 128)  147584      conv3_block4_1_relu[0][0]        \n",
            "__________________________________________________________________________________________________\n",
            "conv3_block4_2_bn (BatchNormali (None, 40, 40, 128)  512         conv3_block4_2_conv[0][0]        \n",
            "__________________________________________________________________________________________________\n",
            "conv3_block4_2_relu (Activation (None, 40, 40, 128)  0           conv3_block4_2_bn[0][0]          \n",
            "__________________________________________________________________________________________________\n",
            "conv3_block4_3_conv (Conv2D)    (None, 40, 40, 512)  66048       conv3_block4_2_relu[0][0]        \n",
            "__________________________________________________________________________________________________\n",
            "conv3_block4_3_bn (BatchNormali (None, 40, 40, 512)  2048        conv3_block4_3_conv[0][0]        \n",
            "__________________________________________________________________________________________________\n",
            "conv3_block4_add (Add)          (None, 40, 40, 512)  0           conv3_block3_out[0][0]           \n",
            "                                                                 conv3_block4_3_bn[0][0]          \n",
            "__________________________________________________________________________________________________\n",
            "conv3_block4_out (Activation)   (None, 40, 40, 512)  0           conv3_block4_add[0][0]           \n",
            "__________________________________________________________________________________________________\n",
            "conv4_block1_1_conv (Conv2D)    (None, 20, 20, 256)  131328      conv3_block4_out[0][0]           \n",
            "__________________________________________________________________________________________________\n",
            "conv4_block1_1_bn (BatchNormali (None, 20, 20, 256)  1024        conv4_block1_1_conv[0][0]        \n",
            "__________________________________________________________________________________________________\n",
            "conv4_block1_1_relu (Activation (None, 20, 20, 256)  0           conv4_block1_1_bn[0][0]          \n",
            "__________________________________________________________________________________________________\n",
            "conv4_block1_2_conv (Conv2D)    (None, 20, 20, 256)  590080      conv4_block1_1_relu[0][0]        \n",
            "__________________________________________________________________________________________________\n",
            "conv4_block1_2_bn (BatchNormali (None, 20, 20, 256)  1024        conv4_block1_2_conv[0][0]        \n",
            "__________________________________________________________________________________________________\n",
            "conv4_block1_2_relu (Activation (None, 20, 20, 256)  0           conv4_block1_2_bn[0][0]          \n",
            "__________________________________________________________________________________________________\n",
            "conv4_block1_0_conv (Conv2D)    (None, 20, 20, 1024) 525312      conv3_block4_out[0][0]           \n",
            "__________________________________________________________________________________________________\n",
            "conv4_block1_3_conv (Conv2D)    (None, 20, 20, 1024) 263168      conv4_block1_2_relu[0][0]        \n",
            "__________________________________________________________________________________________________\n",
            "conv4_block1_0_bn (BatchNormali (None, 20, 20, 1024) 4096        conv4_block1_0_conv[0][0]        \n",
            "__________________________________________________________________________________________________\n",
            "conv4_block1_3_bn (BatchNormali (None, 20, 20, 1024) 4096        conv4_block1_3_conv[0][0]        \n",
            "__________________________________________________________________________________________________\n",
            "conv4_block1_add (Add)          (None, 20, 20, 1024) 0           conv4_block1_0_bn[0][0]          \n",
            "                                                                 conv4_block1_3_bn[0][0]          \n",
            "__________________________________________________________________________________________________\n",
            "conv4_block1_out (Activation)   (None, 20, 20, 1024) 0           conv4_block1_add[0][0]           \n",
            "__________________________________________________________________________________________________\n",
            "conv4_block2_1_conv (Conv2D)    (None, 20, 20, 256)  262400      conv4_block1_out[0][0]           \n",
            "__________________________________________________________________________________________________\n",
            "conv4_block2_1_bn (BatchNormali (None, 20, 20, 256)  1024        conv4_block2_1_conv[0][0]        \n",
            "__________________________________________________________________________________________________\n",
            "conv4_block2_1_relu (Activation (None, 20, 20, 256)  0           conv4_block2_1_bn[0][0]          \n",
            "__________________________________________________________________________________________________\n",
            "conv4_block2_2_conv (Conv2D)    (None, 20, 20, 256)  590080      conv4_block2_1_relu[0][0]        \n",
            "__________________________________________________________________________________________________\n",
            "conv4_block2_2_bn (BatchNormali (None, 20, 20, 256)  1024        conv4_block2_2_conv[0][0]        \n",
            "__________________________________________________________________________________________________\n",
            "conv4_block2_2_relu (Activation (None, 20, 20, 256)  0           conv4_block2_2_bn[0][0]          \n",
            "__________________________________________________________________________________________________\n",
            "conv4_block2_3_conv (Conv2D)    (None, 20, 20, 1024) 263168      conv4_block2_2_relu[0][0]        \n",
            "__________________________________________________________________________________________________\n",
            "conv4_block2_3_bn (BatchNormali (None, 20, 20, 1024) 4096        conv4_block2_3_conv[0][0]        \n",
            "__________________________________________________________________________________________________\n",
            "conv4_block2_add (Add)          (None, 20, 20, 1024) 0           conv4_block1_out[0][0]           \n",
            "                                                                 conv4_block2_3_bn[0][0]          \n",
            "__________________________________________________________________________________________________\n",
            "conv4_block2_out (Activation)   (None, 20, 20, 1024) 0           conv4_block2_add[0][0]           \n",
            "__________________________________________________________________________________________________\n",
            "conv4_block3_1_conv (Conv2D)    (None, 20, 20, 256)  262400      conv4_block2_out[0][0]           \n",
            "__________________________________________________________________________________________________\n",
            "conv4_block3_1_bn (BatchNormali (None, 20, 20, 256)  1024        conv4_block3_1_conv[0][0]        \n",
            "__________________________________________________________________________________________________\n",
            "conv4_block3_1_relu (Activation (None, 20, 20, 256)  0           conv4_block3_1_bn[0][0]          \n",
            "__________________________________________________________________________________________________\n",
            "conv4_block3_2_conv (Conv2D)    (None, 20, 20, 256)  590080      conv4_block3_1_relu[0][0]        \n",
            "__________________________________________________________________________________________________\n",
            "conv4_block3_2_bn (BatchNormali (None, 20, 20, 256)  1024        conv4_block3_2_conv[0][0]        \n",
            "__________________________________________________________________________________________________\n",
            "conv4_block3_2_relu (Activation (None, 20, 20, 256)  0           conv4_block3_2_bn[0][0]          \n",
            "__________________________________________________________________________________________________\n",
            "conv4_block3_3_conv (Conv2D)    (None, 20, 20, 1024) 263168      conv4_block3_2_relu[0][0]        \n",
            "__________________________________________________________________________________________________\n",
            "conv4_block3_3_bn (BatchNormali (None, 20, 20, 1024) 4096        conv4_block3_3_conv[0][0]        \n",
            "__________________________________________________________________________________________________\n",
            "conv4_block3_add (Add)          (None, 20, 20, 1024) 0           conv4_block2_out[0][0]           \n",
            "                                                                 conv4_block3_3_bn[0][0]          \n",
            "__________________________________________________________________________________________________\n",
            "conv4_block3_out (Activation)   (None, 20, 20, 1024) 0           conv4_block3_add[0][0]           \n",
            "__________________________________________________________________________________________________\n",
            "conv4_block4_1_conv (Conv2D)    (None, 20, 20, 256)  262400      conv4_block3_out[0][0]           \n",
            "__________________________________________________________________________________________________\n",
            "conv4_block4_1_bn (BatchNormali (None, 20, 20, 256)  1024        conv4_block4_1_conv[0][0]        \n",
            "__________________________________________________________________________________________________\n",
            "conv4_block4_1_relu (Activation (None, 20, 20, 256)  0           conv4_block4_1_bn[0][0]          \n",
            "__________________________________________________________________________________________________\n",
            "conv4_block4_2_conv (Conv2D)    (None, 20, 20, 256)  590080      conv4_block4_1_relu[0][0]        \n",
            "__________________________________________________________________________________________________\n",
            "conv4_block4_2_bn (BatchNormali (None, 20, 20, 256)  1024        conv4_block4_2_conv[0][0]        \n",
            "__________________________________________________________________________________________________\n",
            "conv4_block4_2_relu (Activation (None, 20, 20, 256)  0           conv4_block4_2_bn[0][0]          \n",
            "__________________________________________________________________________________________________\n",
            "conv4_block4_3_conv (Conv2D)    (None, 20, 20, 1024) 263168      conv4_block4_2_relu[0][0]        \n",
            "__________________________________________________________________________________________________\n",
            "conv4_block4_3_bn (BatchNormali (None, 20, 20, 1024) 4096        conv4_block4_3_conv[0][0]        \n",
            "__________________________________________________________________________________________________\n",
            "conv4_block4_add (Add)          (None, 20, 20, 1024) 0           conv4_block3_out[0][0]           \n",
            "                                                                 conv4_block4_3_bn[0][0]          \n",
            "__________________________________________________________________________________________________\n",
            "conv4_block4_out (Activation)   (None, 20, 20, 1024) 0           conv4_block4_add[0][0]           \n",
            "__________________________________________________________________________________________________\n",
            "conv4_block5_1_conv (Conv2D)    (None, 20, 20, 256)  262400      conv4_block4_out[0][0]           \n",
            "__________________________________________________________________________________________________\n",
            "conv4_block5_1_bn (BatchNormali (None, 20, 20, 256)  1024        conv4_block5_1_conv[0][0]        \n",
            "__________________________________________________________________________________________________\n",
            "conv4_block5_1_relu (Activation (None, 20, 20, 256)  0           conv4_block5_1_bn[0][0]          \n",
            "__________________________________________________________________________________________________\n",
            "conv4_block5_2_conv (Conv2D)    (None, 20, 20, 256)  590080      conv4_block5_1_relu[0][0]        \n",
            "__________________________________________________________________________________________________\n",
            "conv4_block5_2_bn (BatchNormali (None, 20, 20, 256)  1024        conv4_block5_2_conv[0][0]        \n",
            "__________________________________________________________________________________________________\n",
            "conv4_block5_2_relu (Activation (None, 20, 20, 256)  0           conv4_block5_2_bn[0][0]          \n",
            "__________________________________________________________________________________________________\n",
            "conv4_block5_3_conv (Conv2D)    (None, 20, 20, 1024) 263168      conv4_block5_2_relu[0][0]        \n",
            "__________________________________________________________________________________________________\n",
            "conv4_block5_3_bn (BatchNormali (None, 20, 20, 1024) 4096        conv4_block5_3_conv[0][0]        \n",
            "__________________________________________________________________________________________________\n",
            "conv4_block5_add (Add)          (None, 20, 20, 1024) 0           conv4_block4_out[0][0]           \n",
            "                                                                 conv4_block5_3_bn[0][0]          \n",
            "__________________________________________________________________________________________________\n",
            "conv4_block5_out (Activation)   (None, 20, 20, 1024) 0           conv4_block5_add[0][0]           \n",
            "__________________________________________________________________________________________________\n",
            "conv4_block6_1_conv (Conv2D)    (None, 20, 20, 256)  262400      conv4_block5_out[0][0]           \n",
            "__________________________________________________________________________________________________\n",
            "conv4_block6_1_bn (BatchNormali (None, 20, 20, 256)  1024        conv4_block6_1_conv[0][0]        \n",
            "__________________________________________________________________________________________________\n",
            "conv4_block6_1_relu (Activation (None, 20, 20, 256)  0           conv4_block6_1_bn[0][0]          \n",
            "__________________________________________________________________________________________________\n",
            "conv4_block6_2_conv (Conv2D)    (None, 20, 20, 256)  590080      conv4_block6_1_relu[0][0]        \n",
            "__________________________________________________________________________________________________\n",
            "conv4_block6_2_bn (BatchNormali (None, 20, 20, 256)  1024        conv4_block6_2_conv[0][0]        \n",
            "__________________________________________________________________________________________________\n",
            "conv4_block6_2_relu (Activation (None, 20, 20, 256)  0           conv4_block6_2_bn[0][0]          \n",
            "__________________________________________________________________________________________________\n",
            "conv4_block6_3_conv (Conv2D)    (None, 20, 20, 1024) 263168      conv4_block6_2_relu[0][0]        \n",
            "__________________________________________________________________________________________________\n",
            "conv4_block6_3_bn (BatchNormali (None, 20, 20, 1024) 4096        conv4_block6_3_conv[0][0]        \n",
            "__________________________________________________________________________________________________\n",
            "conv4_block6_add (Add)          (None, 20, 20, 1024) 0           conv4_block5_out[0][0]           \n",
            "                                                                 conv4_block6_3_bn[0][0]          \n",
            "__________________________________________________________________________________________________\n",
            "conv4_block6_out (Activation)   (None, 20, 20, 1024) 0           conv4_block6_add[0][0]           \n",
            "__________________________________________________________________________________________________\n",
            "conv5_block1_1_conv (Conv2D)    (None, 10, 10, 512)  524800      conv4_block6_out[0][0]           \n",
            "__________________________________________________________________________________________________\n",
            "conv5_block1_1_bn (BatchNormali (None, 10, 10, 512)  2048        conv5_block1_1_conv[0][0]        \n",
            "__________________________________________________________________________________________________\n",
            "conv5_block1_1_relu (Activation (None, 10, 10, 512)  0           conv5_block1_1_bn[0][0]          \n",
            "__________________________________________________________________________________________________\n",
            "conv5_block1_2_conv (Conv2D)    (None, 10, 10, 512)  2359808     conv5_block1_1_relu[0][0]        \n",
            "__________________________________________________________________________________________________\n",
            "conv5_block1_2_bn (BatchNormali (None, 10, 10, 512)  2048        conv5_block1_2_conv[0][0]        \n",
            "__________________________________________________________________________________________________\n",
            "conv5_block1_2_relu (Activation (None, 10, 10, 512)  0           conv5_block1_2_bn[0][0]          \n",
            "__________________________________________________________________________________________________\n",
            "conv5_block1_0_conv (Conv2D)    (None, 10, 10, 2048) 2099200     conv4_block6_out[0][0]           \n",
            "__________________________________________________________________________________________________\n",
            "conv5_block1_3_conv (Conv2D)    (None, 10, 10, 2048) 1050624     conv5_block1_2_relu[0][0]        \n",
            "__________________________________________________________________________________________________\n",
            "conv5_block1_0_bn (BatchNormali (None, 10, 10, 2048) 8192        conv5_block1_0_conv[0][0]        \n",
            "__________________________________________________________________________________________________\n",
            "conv5_block1_3_bn (BatchNormali (None, 10, 10, 2048) 8192        conv5_block1_3_conv[0][0]        \n",
            "__________________________________________________________________________________________________\n",
            "conv5_block1_add (Add)          (None, 10, 10, 2048) 0           conv5_block1_0_bn[0][0]          \n",
            "                                                                 conv5_block1_3_bn[0][0]          \n",
            "__________________________________________________________________________________________________\n",
            "conv5_block1_out (Activation)   (None, 10, 10, 2048) 0           conv5_block1_add[0][0]           \n",
            "__________________________________________________________________________________________________\n",
            "conv5_block2_1_conv (Conv2D)    (None, 10, 10, 512)  1049088     conv5_block1_out[0][0]           \n",
            "__________________________________________________________________________________________________\n",
            "conv5_block2_1_bn (BatchNormali (None, 10, 10, 512)  2048        conv5_block2_1_conv[0][0]        \n",
            "__________________________________________________________________________________________________\n",
            "conv5_block2_1_relu (Activation (None, 10, 10, 512)  0           conv5_block2_1_bn[0][0]          \n",
            "__________________________________________________________________________________________________\n",
            "conv5_block2_2_conv (Conv2D)    (None, 10, 10, 512)  2359808     conv5_block2_1_relu[0][0]        \n",
            "__________________________________________________________________________________________________\n",
            "conv5_block2_2_bn (BatchNormali (None, 10, 10, 512)  2048        conv5_block2_2_conv[0][0]        \n",
            "__________________________________________________________________________________________________\n",
            "conv5_block2_2_relu (Activation (None, 10, 10, 512)  0           conv5_block2_2_bn[0][0]          \n",
            "__________________________________________________________________________________________________\n",
            "conv5_block2_3_conv (Conv2D)    (None, 10, 10, 2048) 1050624     conv5_block2_2_relu[0][0]        \n",
            "__________________________________________________________________________________________________\n",
            "conv5_block2_3_bn (BatchNormali (None, 10, 10, 2048) 8192        conv5_block2_3_conv[0][0]        \n",
            "__________________________________________________________________________________________________\n",
            "conv5_block2_add (Add)          (None, 10, 10, 2048) 0           conv5_block1_out[0][0]           \n",
            "                                                                 conv5_block2_3_bn[0][0]          \n",
            "__________________________________________________________________________________________________\n",
            "conv5_block2_out (Activation)   (None, 10, 10, 2048) 0           conv5_block2_add[0][0]           \n",
            "__________________________________________________________________________________________________\n",
            "conv5_block3_1_conv (Conv2D)    (None, 10, 10, 512)  1049088     conv5_block2_out[0][0]           \n",
            "__________________________________________________________________________________________________\n",
            "conv5_block3_1_bn (BatchNormali (None, 10, 10, 512)  2048        conv5_block3_1_conv[0][0]        \n",
            "__________________________________________________________________________________________________\n",
            "conv5_block3_1_relu (Activation (None, 10, 10, 512)  0           conv5_block3_1_bn[0][0]          \n",
            "__________________________________________________________________________________________________\n",
            "conv5_block3_2_conv (Conv2D)    (None, 10, 10, 512)  2359808     conv5_block3_1_relu[0][0]        \n",
            "__________________________________________________________________________________________________\n",
            "conv5_block3_2_bn (BatchNormali (None, 10, 10, 512)  2048        conv5_block3_2_conv[0][0]        \n",
            "__________________________________________________________________________________________________\n",
            "conv5_block3_2_relu (Activation (None, 10, 10, 512)  0           conv5_block3_2_bn[0][0]          \n",
            "__________________________________________________________________________________________________\n",
            "conv5_block3_3_conv (Conv2D)    (None, 10, 10, 2048) 1050624     conv5_block3_2_relu[0][0]        \n",
            "__________________________________________________________________________________________________\n",
            "conv5_block3_3_bn (BatchNormali (None, 10, 10, 2048) 8192        conv5_block3_3_conv[0][0]        \n",
            "__________________________________________________________________________________________________\n",
            "conv5_block3_add (Add)          (None, 10, 10, 2048) 0           conv5_block2_out[0][0]           \n",
            "                                                                 conv5_block3_3_bn[0][0]          \n",
            "__________________________________________________________________________________________________\n",
            "conv5_block3_out (Activation)   (None, 10, 10, 2048) 0           conv5_block3_add[0][0]           \n",
            "__________________________________________________________________________________________________\n",
            "global_average_pooling2d_1 (Glo (None, 2048)         0           conv5_block3_out[0][0]           \n",
            "__________________________________________________________________________________________________\n",
            "global_max_pooling2d_1 (GlobalM (None, 2048)         0           conv5_block3_out[0][0]           \n",
            "__________________________________________________________________________________________________\n",
            "batch_normalization_2 (BatchNor (None, 2048)         8192        global_average_pooling2d_1[0][0] \n",
            "__________________________________________________________________________________________________\n",
            "batch_normalization_3 (BatchNor (None, 2048)         8192        global_max_pooling2d_1[0][0]     \n",
            "__________________________________________________________________________________________________\n",
            "concatenate_1 (Concatenate)     (None, 4096)         0           batch_normalization_2[0][0]      \n",
            "                                                                 batch_normalization_3[0][0]      \n",
            "__________________________________________________________________________________________________\n",
            "dense_3 (Dense)                 (None, 2048)         8390656     concatenate_1[0][0]              \n",
            "__________________________________________________________________________________________________\n",
            "dense_4 (Dense)                 (None, 2048)         8390656     concatenate_1[0][0]              \n",
            "__________________________________________________________________________________________________\n",
            "dense_5 (Dense)                 (None, 2048)         8390656     concatenate_1[0][0]              \n",
            "__________________________________________________________________________________________________\n",
            "dropout_3 (Dropout)             (None, 2048)         0           dense_3[0][0]                    \n",
            "__________________________________________________________________________________________________\n",
            "dropout_4 (Dropout)             (None, 2048)         0           dense_4[0][0]                    \n",
            "__________________________________________________________________________________________________\n",
            "dropout_5 (Dropout)             (None, 2048)         0           dense_5[0][0]                    \n",
            "__________________________________________________________________________________________________\n",
            "regression_output (Dense)       (None, 1)            2049        dropout_3[0][0]                  \n",
            "__________________________________________________________________________________________________\n",
            "classification_output (Dense)   (None, 5)            10245       dropout_4[0][0]                  \n",
            "__________________________________________________________________________________________________\n",
            "ordinal_regression_output (Dens (None, 5)            10245       dropout_5[0][0]                  \n",
            "==================================================================================================\n",
            "Total params: 48,798,603\n",
            "Trainable params: 48,737,291\n",
            "Non-trainable params: 61,312\n",
            "__________________________________________________________________________________________________\n"
          ],
          "name": "stdout"
        }
      ]
    },
    {
      "cell_type": "code",
      "metadata": {
        "colab": {
          "base_uri": "https://localhost:8080/"
        },
        "id": "qpmGwpjCQec9",
        "outputId": "eaedb334-7ea2-4318-b438-de1a60a90257"
      },
      "source": [
        "# ref - https://keras.io/getting-started/functional-api-guide/\n",
        "\n",
        "model.compile(optimizer = optimizers.Adam(lr=LEARNING_RATE),\n",
        "              loss={'regression_output': mean_squared_error, \n",
        "                    'classification_output': categorical_focal_loss(alpha=.25, gamma=2) ,\n",
        "                    'ordinal_regression_output' : binary_focal_loss(alpha=.25, gamma=2)\n",
        "                    },\n",
        "              metrics = ['accuracy'])\n",
        "\n",
        "history = model.fit_generator(generator=train_generator,\n",
        "                              steps_per_epoch=STEP_SIZE_TRAIN,\n",
        "                              validation_data=valid_generator,\n",
        "                              validation_steps=STEP_SIZE_VALID,\n",
        "                              epochs=45,\n",
        "                              callbacks = callback_list,\n",
        "                              verbose=1).history\n",
        "\n",
        "model.save(\"model_main_training.h5\")\n",
        "f = open(\"history_main_training\",\"wb\")\n",
        "pickle.dump(history,f)\n",
        "f.close()"
      ],
      "execution_count": null,
      "outputs": [
        {
          "output_type": "stream",
          "text": [
            "/usr/local/lib/python3.7/dist-packages/tensorflow/python/keras/engine/training.py:1844: UserWarning: `Model.fit_generator` is deprecated and will be removed in a future version. Please use `Model.fit`, which supports generators.\n",
            "  warnings.warn('`Model.fit_generator` is deprecated and '\n"
          ],
          "name": "stderr"
        },
        {
          "output_type": "stream",
          "text": [
            "Epoch 1/45\n",
            " 6/91 [>.............................] - ETA: 2:04 - loss: 2.3700 - regression_output_loss: 2.1161 - classification_output_loss: 0.0466 - ordinal_regression_output_loss: 0.2072 - regression_output_accuracy: 0.2983 - classification_output_accuracy: 0.5465 - ordinal_regression_output_accuracy: 0.7249WARNING:tensorflow:Callback method `on_train_batch_end` is slow compared to the batch time (batch time: 0.6032s vs `on_train_batch_end` time: 0.8608s). Check your callbacks.\n",
            "91/91 [==============================] - 170s 2s/step - loss: 2.3004 - regression_output_loss: 2.0875 - classification_output_loss: 0.0420 - ordinal_regression_output_loss: 0.1709 - regression_output_accuracy: 0.3618 - classification_output_accuracy: 0.6275 - ordinal_regression_output_accuracy: 0.7025 - val_loss: 1.1089 - val_regression_output_loss: 0.9655 - val_classification_output_loss: 0.0286 - val_ordinal_regression_output_loss: 0.1148 - val_regression_output_accuracy: 0.4190 - val_classification_output_accuracy: 0.7116 - val_ordinal_regression_output_accuracy: 0.8040\n",
            "Epoch 2/45\n",
            "91/91 [==============================] - 162s 2s/step - loss: 2.4692 - regression_output_loss: 2.2669 - classification_output_loss: 0.0413 - ordinal_regression_output_loss: 0.1611 - regression_output_accuracy: 0.3818 - classification_output_accuracy: 0.6355 - ordinal_regression_output_accuracy: 0.6888 - val_loss: 1.1272 - val_regression_output_loss: 0.9884 - val_classification_output_loss: 0.0290 - val_ordinal_regression_output_loss: 0.1098 - val_regression_output_accuracy: 0.4432 - val_classification_output_accuracy: 0.7173 - val_ordinal_regression_output_accuracy: 0.8210\n",
            "Epoch 3/45\n",
            "91/91 [==============================] - 160s 2s/step - loss: 2.3793 - regression_output_loss: 2.1857 - classification_output_loss: 0.0381 - ordinal_regression_output_loss: 0.1555 - regression_output_accuracy: 0.3574 - classification_output_accuracy: 0.6624 - ordinal_regression_output_accuracy: 0.7065 - val_loss: 1.1914 - val_regression_output_loss: 1.0506 - val_classification_output_loss: 0.0273 - val_ordinal_regression_output_loss: 0.1135 - val_regression_output_accuracy: 0.4318 - val_classification_output_accuracy: 0.7173 - val_ordinal_regression_output_accuracy: 0.7827\n",
            "Epoch 4/45\n",
            "91/91 [==============================] - 159s 2s/step - loss: 2.4317 - regression_output_loss: 2.2322 - classification_output_loss: 0.0367 - ordinal_regression_output_loss: 0.1628 - regression_output_accuracy: 0.3720 - classification_output_accuracy: 0.6640 - ordinal_regression_output_accuracy: 0.7001 - val_loss: 1.1588 - val_regression_output_loss: 1.0144 - val_classification_output_loss: 0.0282 - val_ordinal_regression_output_loss: 0.1162 - val_regression_output_accuracy: 0.4489 - val_classification_output_accuracy: 0.7159 - val_ordinal_regression_output_accuracy: 0.7784\n",
            "Epoch 5/45\n",
            "91/91 [==============================] - 161s 2s/step - loss: 2.3917 - regression_output_loss: 2.1951 - classification_output_loss: 0.0388 - ordinal_regression_output_loss: 0.1578 - regression_output_accuracy: 0.3792 - classification_output_accuracy: 0.6451 - ordinal_regression_output_accuracy: 0.6929 - val_loss: 1.0843 - val_regression_output_loss: 0.9445 - val_classification_output_loss: 0.0284 - val_ordinal_regression_output_loss: 0.1114 - val_regression_output_accuracy: 0.4474 - val_classification_output_accuracy: 0.7173 - val_ordinal_regression_output_accuracy: 0.7812\n",
            "Epoch 6/45\n",
            "91/91 [==============================] - 164s 2s/step - loss: 2.4923 - regression_output_loss: 2.2866 - classification_output_loss: 0.0418 - ordinal_regression_output_loss: 0.1640 - regression_output_accuracy: 0.3710 - classification_output_accuracy: 0.6412 - ordinal_regression_output_accuracy: 0.6822 - val_loss: 1.1478 - val_regression_output_loss: 1.0078 - val_classification_output_loss: 0.0289 - val_ordinal_regression_output_loss: 0.1111 - val_regression_output_accuracy: 0.4560 - val_classification_output_accuracy: 0.7102 - val_ordinal_regression_output_accuracy: 0.7827\n",
            "Epoch 7/45\n",
            "91/91 [==============================] - 164s 2s/step - loss: 2.4590 - regression_output_loss: 2.2482 - classification_output_loss: 0.0413 - ordinal_regression_output_loss: 0.1695 - regression_output_accuracy: 0.3648 - classification_output_accuracy: 0.6205 - ordinal_regression_output_accuracy: 0.6941 - val_loss: 1.1135 - val_regression_output_loss: 0.9786 - val_classification_output_loss: 0.0272 - val_ordinal_regression_output_loss: 0.1077 - val_regression_output_accuracy: 0.4347 - val_classification_output_accuracy: 0.7216 - val_ordinal_regression_output_accuracy: 0.7741\n",
            "Epoch 8/45\n",
            "91/91 [==============================] - 161s 2s/step - loss: 2.5812 - regression_output_loss: 2.3814 - classification_output_loss: 0.0377 - ordinal_regression_output_loss: 0.1621 - regression_output_accuracy: 0.3458 - classification_output_accuracy: 0.6441 - ordinal_regression_output_accuracy: 0.6972 - val_loss: 1.1060 - val_regression_output_loss: 0.9633 - val_classification_output_loss: 0.0262 - val_ordinal_regression_output_loss: 0.1165 - val_regression_output_accuracy: 0.4077 - val_classification_output_accuracy: 0.7188 - val_ordinal_regression_output_accuracy: 0.8082\n",
            "Epoch 9/45\n",
            "91/91 [==============================] - 160s 2s/step - loss: 2.4749 - regression_output_loss: 2.2795 - classification_output_loss: 0.0398 - ordinal_regression_output_loss: 0.1556 - regression_output_accuracy: 0.3794 - classification_output_accuracy: 0.6457 - ordinal_regression_output_accuracy: 0.6805 - val_loss: 1.2386 - val_regression_output_loss: 1.0993 - val_classification_output_loss: 0.0269 - val_ordinal_regression_output_loss: 0.1124 - val_regression_output_accuracy: 0.4148 - val_classification_output_accuracy: 0.7045 - val_ordinal_regression_output_accuracy: 0.7784\n",
            "Epoch 10/45\n",
            "91/91 [==============================] - 162s 2s/step - loss: 2.5000 - regression_output_loss: 2.2909 - classification_output_loss: 0.0424 - ordinal_regression_output_loss: 0.1666 - regression_output_accuracy: 0.3650 - classification_output_accuracy: 0.6127 - ordinal_regression_output_accuracy: 0.6998 - val_loss: 1.2261 - val_regression_output_loss: 1.0875 - val_classification_output_loss: 0.0259 - val_ordinal_regression_output_loss: 0.1127 - val_regression_output_accuracy: 0.4020 - val_classification_output_accuracy: 0.7131 - val_ordinal_regression_output_accuracy: 0.7827\n",
            "Epoch 11/45\n",
            "91/91 [==============================] - 165s 2s/step - loss: 2.5257 - regression_output_loss: 2.3129 - classification_output_loss: 0.0440 - ordinal_regression_output_loss: 0.1688 - regression_output_accuracy: 0.3718 - classification_output_accuracy: 0.6364 - ordinal_regression_output_accuracy: 0.6977 - val_loss: 1.1233 - val_regression_output_loss: 0.9785 - val_classification_output_loss: 0.0286 - val_ordinal_regression_output_loss: 0.1163 - val_regression_output_accuracy: 0.4389 - val_classification_output_accuracy: 0.7173 - val_ordinal_regression_output_accuracy: 0.7926\n",
            "Epoch 12/45\n",
            "91/91 [==============================] - 164s 2s/step - loss: 2.3928 - regression_output_loss: 2.1969 - classification_output_loss: 0.0370 - ordinal_regression_output_loss: 0.1590 - regression_output_accuracy: 0.3825 - classification_output_accuracy: 0.6519 - ordinal_regression_output_accuracy: 0.6861 - val_loss: 1.1556 - val_regression_output_loss: 1.0112 - val_classification_output_loss: 0.0276 - val_ordinal_regression_output_loss: 0.1168 - val_regression_output_accuracy: 0.4332 - val_classification_output_accuracy: 0.7131 - val_ordinal_regression_output_accuracy: 0.7884\n",
            "Epoch 13/45\n",
            "91/91 [==============================] - 161s 2s/step - loss: 2.3996 - regression_output_loss: 2.1952 - classification_output_loss: 0.0416 - ordinal_regression_output_loss: 0.1628 - regression_output_accuracy: 0.3550 - classification_output_accuracy: 0.6437 - ordinal_regression_output_accuracy: 0.7089 - val_loss: 1.1865 - val_regression_output_loss: 1.0487 - val_classification_output_loss: 0.0266 - val_ordinal_regression_output_loss: 0.1112 - val_regression_output_accuracy: 0.4361 - val_classification_output_accuracy: 0.7230 - val_ordinal_regression_output_accuracy: 0.8011\n",
            "Epoch 14/45\n",
            "91/91 [==============================] - 162s 2s/step - loss: 2.5232 - regression_output_loss: 2.3177 - classification_output_loss: 0.0394 - ordinal_regression_output_loss: 0.1661 - regression_output_accuracy: 0.3727 - classification_output_accuracy: 0.6532 - ordinal_regression_output_accuracy: 0.7009 - val_loss: 1.2114 - val_regression_output_loss: 1.0670 - val_classification_output_loss: 0.0280 - val_ordinal_regression_output_loss: 0.1163 - val_regression_output_accuracy: 0.4176 - val_classification_output_accuracy: 0.7188 - val_ordinal_regression_output_accuracy: 0.8054\n",
            "Epoch 15/45\n",
            "91/91 [==============================] - 165s 2s/step - loss: 2.6058 - regression_output_loss: 2.4019 - classification_output_loss: 0.0415 - ordinal_regression_output_loss: 0.1623 - regression_output_accuracy: 0.3640 - classification_output_accuracy: 0.6437 - ordinal_regression_output_accuracy: 0.7055 - val_loss: 1.0882 - val_regression_output_loss: 0.9441 - val_classification_output_loss: 0.0288 - val_ordinal_regression_output_loss: 0.1153 - val_regression_output_accuracy: 0.4460 - val_classification_output_accuracy: 0.7131 - val_ordinal_regression_output_accuracy: 0.7955\n",
            "Epoch 16/45\n",
            "91/91 [==============================] - 164s 2s/step - loss: 2.5273 - regression_output_loss: 2.3261 - classification_output_loss: 0.0404 - ordinal_regression_output_loss: 0.1608 - regression_output_accuracy: 0.3658 - classification_output_accuracy: 0.6432 - ordinal_regression_output_accuracy: 0.6979 - val_loss: 1.0455 - val_regression_output_loss: 0.9018 - val_classification_output_loss: 0.0279 - val_ordinal_regression_output_loss: 0.1157 - val_regression_output_accuracy: 0.4389 - val_classification_output_accuracy: 0.7131 - val_ordinal_regression_output_accuracy: 0.7713\n",
            "Epoch 17/45\n",
            "91/91 [==============================] - 162s 2s/step - loss: 2.5311 - regression_output_loss: 2.3258 - classification_output_loss: 0.0386 - ordinal_regression_output_loss: 0.1667 - regression_output_accuracy: 0.3740 - classification_output_accuracy: 0.6565 - ordinal_regression_output_accuracy: 0.6851 - val_loss: 1.2193 - val_regression_output_loss: 1.0753 - val_classification_output_loss: 0.0271 - val_ordinal_regression_output_loss: 0.1169 - val_regression_output_accuracy: 0.4205 - val_classification_output_accuracy: 0.7159 - val_ordinal_regression_output_accuracy: 0.7514\n",
            "Epoch 18/45\n",
            "91/91 [==============================] - 164s 2s/step - loss: 2.4949 - regression_output_loss: 2.2890 - classification_output_loss: 0.0390 - ordinal_regression_output_loss: 0.1669 - regression_output_accuracy: 0.3554 - classification_output_accuracy: 0.6559 - ordinal_regression_output_accuracy: 0.7017 - val_loss: 1.1690 - val_regression_output_loss: 1.0254 - val_classification_output_loss: 0.0272 - val_ordinal_regression_output_loss: 0.1164 - val_regression_output_accuracy: 0.4332 - val_classification_output_accuracy: 0.7102 - val_ordinal_regression_output_accuracy: 0.7898\n",
            "Epoch 19/45\n",
            "91/91 [==============================] - 163s 2s/step - loss: 2.5170 - regression_output_loss: 2.3189 - classification_output_loss: 0.0402 - ordinal_regression_output_loss: 0.1580 - regression_output_accuracy: 0.3699 - classification_output_accuracy: 0.6335 - ordinal_regression_output_accuracy: 0.6930 - val_loss: 1.1327 - val_regression_output_loss: 0.9948 - val_classification_output_loss: 0.0247 - val_ordinal_regression_output_loss: 0.1131 - val_regression_output_accuracy: 0.4418 - val_classification_output_accuracy: 0.7344 - val_ordinal_regression_output_accuracy: 0.7926\n",
            "Epoch 20/45\n",
            "91/91 [==============================] - 162s 2s/step - loss: 2.4378 - regression_output_loss: 2.2430 - classification_output_loss: 0.0413 - ordinal_regression_output_loss: 0.1536 - regression_output_accuracy: 0.3787 - classification_output_accuracy: 0.6335 - ordinal_regression_output_accuracy: 0.6976 - val_loss: 1.1310 - val_regression_output_loss: 0.9896 - val_classification_output_loss: 0.0301 - val_ordinal_regression_output_loss: 0.1112 - val_regression_output_accuracy: 0.4318 - val_classification_output_accuracy: 0.7145 - val_ordinal_regression_output_accuracy: 0.8239\n",
            "Epoch 21/45\n",
            "91/91 [==============================] - 165s 2s/step - loss: 2.4764 - regression_output_loss: 2.2713 - classification_output_loss: 0.0412 - ordinal_regression_output_loss: 0.1639 - regression_output_accuracy: 0.3678 - classification_output_accuracy: 0.6314 - ordinal_regression_output_accuracy: 0.6799 - val_loss: 1.1272 - val_regression_output_loss: 0.9837 - val_classification_output_loss: 0.0283 - val_ordinal_regression_output_loss: 0.1153 - val_regression_output_accuracy: 0.4375 - val_classification_output_accuracy: 0.7116 - val_ordinal_regression_output_accuracy: 0.7812\n",
            "Epoch 22/45\n",
            "91/91 [==============================] - 165s 2s/step - loss: 2.5009 - regression_output_loss: 2.2972 - classification_output_loss: 0.0403 - ordinal_regression_output_loss: 0.1634 - regression_output_accuracy: 0.3825 - classification_output_accuracy: 0.6413 - ordinal_regression_output_accuracy: 0.6887 - val_loss: 1.1756 - val_regression_output_loss: 1.0337 - val_classification_output_loss: 0.0271 - val_ordinal_regression_output_loss: 0.1148 - val_regression_output_accuracy: 0.4460 - val_classification_output_accuracy: 0.7287 - val_ordinal_regression_output_accuracy: 0.7713\n",
            "Epoch 23/45\n",
            "91/91 [==============================] - 163s 2s/step - loss: 2.4907 - regression_output_loss: 2.2901 - classification_output_loss: 0.0408 - ordinal_regression_output_loss: 0.1598 - regression_output_accuracy: 0.3625 - classification_output_accuracy: 0.6354 - ordinal_regression_output_accuracy: 0.6923 - val_loss: 1.1878 - val_regression_output_loss: 1.0488 - val_classification_output_loss: 0.0276 - val_ordinal_regression_output_loss: 0.1114 - val_regression_output_accuracy: 0.4290 - val_classification_output_accuracy: 0.7159 - val_ordinal_regression_output_accuracy: 0.7798\n",
            "Epoch 24/45\n",
            "91/91 [==============================] - 165s 2s/step - loss: 2.4029 - regression_output_loss: 2.2076 - classification_output_loss: 0.0397 - ordinal_regression_output_loss: 0.1555 - regression_output_accuracy: 0.3707 - classification_output_accuracy: 0.6504 - ordinal_regression_output_accuracy: 0.7029 - val_loss: 1.1562 - val_regression_output_loss: 1.0176 - val_classification_output_loss: 0.0269 - val_ordinal_regression_output_loss: 0.1117 - val_regression_output_accuracy: 0.4261 - val_classification_output_accuracy: 0.7131 - val_ordinal_regression_output_accuracy: 0.7656\n",
            "Epoch 25/45\n",
            "91/91 [==============================] - 164s 2s/step - loss: 2.4103 - regression_output_loss: 2.2070 - classification_output_loss: 0.0421 - ordinal_regression_output_loss: 0.1611 - regression_output_accuracy: 0.3665 - classification_output_accuracy: 0.6490 - ordinal_regression_output_accuracy: 0.6896 - val_loss: 1.1721 - val_regression_output_loss: 1.0290 - val_classification_output_loss: 0.0281 - val_ordinal_regression_output_loss: 0.1149 - val_regression_output_accuracy: 0.4290 - val_classification_output_accuracy: 0.7273 - val_ordinal_regression_output_accuracy: 0.7983\n",
            "Epoch 26/45\n",
            "91/91 [==============================] - 165s 2s/step - loss: 2.4957 - regression_output_loss: 2.2816 - classification_output_loss: 0.0427 - ordinal_regression_output_loss: 0.1713 - regression_output_accuracy: 0.3882 - classification_output_accuracy: 0.6265 - ordinal_regression_output_accuracy: 0.6816 - val_loss: 1.1909 - val_regression_output_loss: 1.0464 - val_classification_output_loss: 0.0278 - val_ordinal_regression_output_loss: 0.1168 - val_regression_output_accuracy: 0.4233 - val_classification_output_accuracy: 0.7173 - val_ordinal_regression_output_accuracy: 0.8253\n",
            "Epoch 27/45\n",
            "91/91 [==============================] - 161s 2s/step - loss: 2.4066 - regression_output_loss: 2.2094 - classification_output_loss: 0.0386 - ordinal_regression_output_loss: 0.1585 - regression_output_accuracy: 0.3585 - classification_output_accuracy: 0.6505 - ordinal_regression_output_accuracy: 0.6757 - val_loss: 1.0635 - val_regression_output_loss: 0.9264 - val_classification_output_loss: 0.0265 - val_ordinal_regression_output_loss: 0.1107 - val_regression_output_accuracy: 0.4134 - val_classification_output_accuracy: 0.7259 - val_ordinal_regression_output_accuracy: 0.8040\n",
            "Epoch 28/45\n",
            "91/91 [==============================] - 161s 2s/step - loss: 2.5272 - regression_output_loss: 2.3240 - classification_output_loss: 0.0393 - ordinal_regression_output_loss: 0.1638 - regression_output_accuracy: 0.3643 - classification_output_accuracy: 0.6520 - ordinal_regression_output_accuracy: 0.6886 - val_loss: 1.2891 - val_regression_output_loss: 1.1436 - val_classification_output_loss: 0.0278 - val_ordinal_regression_output_loss: 0.1177 - val_regression_output_accuracy: 0.4446 - val_classification_output_accuracy: 0.7131 - val_ordinal_regression_output_accuracy: 0.7841\n",
            "Epoch 29/45\n",
            "91/91 [==============================] - 161s 2s/step - loss: 2.4409 - regression_output_loss: 2.2330 - classification_output_loss: 0.0421 - ordinal_regression_output_loss: 0.1657 - regression_output_accuracy: 0.3689 - classification_output_accuracy: 0.6482 - ordinal_regression_output_accuracy: 0.6882 - val_loss: 1.1073 - val_regression_output_loss: 0.9648 - val_classification_output_loss: 0.0273 - val_ordinal_regression_output_loss: 0.1152 - val_regression_output_accuracy: 0.4318 - val_classification_output_accuracy: 0.7344 - val_ordinal_regression_output_accuracy: 0.7955\n",
            "Epoch 30/45\n",
            "91/91 [==============================] - 161s 2s/step - loss: 2.5230 - regression_output_loss: 2.3223 - classification_output_loss: 0.0383 - ordinal_regression_output_loss: 0.1625 - regression_output_accuracy: 0.3813 - classification_output_accuracy: 0.6525 - ordinal_regression_output_accuracy: 0.6981 - val_loss: 1.1580 - val_regression_output_loss: 1.0156 - val_classification_output_loss: 0.0281 - val_ordinal_regression_output_loss: 0.1144 - val_regression_output_accuracy: 0.4304 - val_classification_output_accuracy: 0.7102 - val_ordinal_regression_output_accuracy: 0.8068\n",
            "Epoch 31/45\n",
            "91/91 [==============================] - 161s 2s/step - loss: 2.6678 - regression_output_loss: 2.4574 - classification_output_loss: 0.0401 - ordinal_regression_output_loss: 0.1703 - regression_output_accuracy: 0.3647 - classification_output_accuracy: 0.6419 - ordinal_regression_output_accuracy: 0.6998 - val_loss: 1.0953 - val_regression_output_loss: 0.9545 - val_classification_output_loss: 0.0256 - val_ordinal_regression_output_loss: 0.1152 - val_regression_output_accuracy: 0.4290 - val_classification_output_accuracy: 0.7102 - val_ordinal_regression_output_accuracy: 0.7798\n",
            "Epoch 32/45\n",
            "91/91 [==============================] - 160s 2s/step - loss: 2.4313 - regression_output_loss: 2.2274 - classification_output_loss: 0.0400 - ordinal_regression_output_loss: 0.1639 - regression_output_accuracy: 0.3559 - classification_output_accuracy: 0.6437 - ordinal_regression_output_accuracy: 0.6925 - val_loss: 1.1934 - val_regression_output_loss: 1.0480 - val_classification_output_loss: 0.0292 - val_ordinal_regression_output_loss: 0.1162 - val_regression_output_accuracy: 0.4077 - val_classification_output_accuracy: 0.7003 - val_ordinal_regression_output_accuracy: 0.7926\n",
            "Epoch 33/45\n",
            "91/91 [==============================] - 161s 2s/step - loss: 2.3704 - regression_output_loss: 2.1733 - classification_output_loss: 0.0409 - ordinal_regression_output_loss: 0.1562 - regression_output_accuracy: 0.3558 - classification_output_accuracy: 0.6301 - ordinal_regression_output_accuracy: 0.7097 - val_loss: 1.1317 - val_regression_output_loss: 0.9933 - val_classification_output_loss: 0.0268 - val_ordinal_regression_output_loss: 0.1116 - val_regression_output_accuracy: 0.4219 - val_classification_output_accuracy: 0.7202 - val_ordinal_regression_output_accuracy: 0.7898\n",
            "Epoch 34/45\n",
            "91/91 [==============================] - 162s 2s/step - loss: 2.2863 - regression_output_loss: 2.0864 - classification_output_loss: 0.0392 - ordinal_regression_output_loss: 0.1607 - regression_output_accuracy: 0.3616 - classification_output_accuracy: 0.6589 - ordinal_regression_output_accuracy: 0.6816 - val_loss: 1.0979 - val_regression_output_loss: 0.9568 - val_classification_output_loss: 0.0279 - val_ordinal_regression_output_loss: 0.1132 - val_regression_output_accuracy: 0.4418 - val_classification_output_accuracy: 0.7344 - val_ordinal_regression_output_accuracy: 0.7912\n",
            "Epoch 35/45\n",
            "91/91 [==============================] - 161s 2s/step - loss: 2.3865 - regression_output_loss: 2.1874 - classification_output_loss: 0.0404 - ordinal_regression_output_loss: 0.1587 - regression_output_accuracy: 0.3814 - classification_output_accuracy: 0.6492 - ordinal_regression_output_accuracy: 0.6965 - val_loss: 1.1614 - val_regression_output_loss: 1.0226 - val_classification_output_loss: 0.0276 - val_ordinal_regression_output_loss: 0.1112 - val_regression_output_accuracy: 0.4304 - val_classification_output_accuracy: 0.7230 - val_ordinal_regression_output_accuracy: 0.7912\n",
            "Epoch 36/45\n",
            "91/91 [==============================] - 165s 2s/step - loss: 2.4652 - regression_output_loss: 2.2546 - classification_output_loss: 0.0425 - ordinal_regression_output_loss: 0.1682 - regression_output_accuracy: 0.3566 - classification_output_accuracy: 0.6326 - ordinal_regression_output_accuracy: 0.7007 - val_loss: 1.1709 - val_regression_output_loss: 1.0270 - val_classification_output_loss: 0.0270 - val_ordinal_regression_output_loss: 0.1169 - val_regression_output_accuracy: 0.4418 - val_classification_output_accuracy: 0.7202 - val_ordinal_regression_output_accuracy: 0.7926\n",
            "Epoch 37/45\n",
            "91/91 [==============================] - 165s 2s/step - loss: 2.4206 - regression_output_loss: 2.2204 - classification_output_loss: 0.0413 - ordinal_regression_output_loss: 0.1589 - regression_output_accuracy: 0.3812 - classification_output_accuracy: 0.6439 - ordinal_regression_output_accuracy: 0.6919 - val_loss: 1.2165 - val_regression_output_loss: 1.0742 - val_classification_output_loss: 0.0270 - val_ordinal_regression_output_loss: 0.1153 - val_regression_output_accuracy: 0.4318 - val_classification_output_accuracy: 0.7116 - val_ordinal_regression_output_accuracy: 0.8097\n",
            "Epoch 38/45\n",
            "91/91 [==============================] - 165s 2s/step - loss: 2.4006 - regression_output_loss: 2.2009 - classification_output_loss: 0.0375 - ordinal_regression_output_loss: 0.1622 - regression_output_accuracy: 0.3637 - classification_output_accuracy: 0.6476 - ordinal_regression_output_accuracy: 0.7033 - val_loss: 1.1850 - val_regression_output_loss: 1.0409 - val_classification_output_loss: 0.0284 - val_ordinal_regression_output_loss: 0.1158 - val_regression_output_accuracy: 0.4304 - val_classification_output_accuracy: 0.7159 - val_ordinal_regression_output_accuracy: 0.7770\n",
            "Epoch 39/45\n",
            "91/91 [==============================] - 166s 2s/step - loss: 2.4958 - regression_output_loss: 2.2902 - classification_output_loss: 0.0399 - ordinal_regression_output_loss: 0.1656 - regression_output_accuracy: 0.3631 - classification_output_accuracy: 0.6496 - ordinal_regression_output_accuracy: 0.6977 - val_loss: 1.1027 - val_regression_output_loss: 0.9586 - val_classification_output_loss: 0.0278 - val_ordinal_regression_output_loss: 0.1163 - val_regression_output_accuracy: 0.4162 - val_classification_output_accuracy: 0.7074 - val_ordinal_regression_output_accuracy: 0.7983\n",
            "Epoch 40/45\n",
            "91/91 [==============================] - 165s 2s/step - loss: 2.5166 - regression_output_loss: 2.3050 - classification_output_loss: 0.0411 - ordinal_regression_output_loss: 0.1705 - regression_output_accuracy: 0.3707 - classification_output_accuracy: 0.6442 - ordinal_regression_output_accuracy: 0.7061 - val_loss: 1.1866 - val_regression_output_loss: 1.0427 - val_classification_output_loss: 0.0288 - val_ordinal_regression_output_loss: 0.1150 - val_regression_output_accuracy: 0.4261 - val_classification_output_accuracy: 0.7230 - val_ordinal_regression_output_accuracy: 0.8366\n",
            "Epoch 41/45\n",
            "91/91 [==============================] - 166s 2s/step - loss: 2.4921 - regression_output_loss: 2.2868 - classification_output_loss: 0.0411 - ordinal_regression_output_loss: 0.1642 - regression_output_accuracy: 0.3688 - classification_output_accuracy: 0.6408 - ordinal_regression_output_accuracy: 0.6785 - val_loss: 1.1505 - val_regression_output_loss: 1.0093 - val_classification_output_loss: 0.0279 - val_ordinal_regression_output_loss: 0.1133 - val_regression_output_accuracy: 0.4403 - val_classification_output_accuracy: 0.7131 - val_ordinal_regression_output_accuracy: 0.8125\n",
            "Epoch 42/45\n",
            "91/91 [==============================] - 166s 2s/step - loss: 2.3491 - regression_output_loss: 2.1453 - classification_output_loss: 0.0393 - ordinal_regression_output_loss: 0.1645 - regression_output_accuracy: 0.3636 - classification_output_accuracy: 0.6494 - ordinal_regression_output_accuracy: 0.6763 - val_loss: 1.2174 - val_regression_output_loss: 1.0719 - val_classification_output_loss: 0.0282 - val_ordinal_regression_output_loss: 0.1174 - val_regression_output_accuracy: 0.4432 - val_classification_output_accuracy: 0.7145 - val_ordinal_regression_output_accuracy: 0.7798\n",
            "Epoch 43/45\n",
            "91/91 [==============================] - 168s 2s/step - loss: 2.4681 - regression_output_loss: 2.2623 - classification_output_loss: 0.0412 - ordinal_regression_output_loss: 0.1647 - regression_output_accuracy: 0.3778 - classification_output_accuracy: 0.6355 - ordinal_regression_output_accuracy: 0.6759 - val_loss: 1.1368 - val_regression_output_loss: 0.9962 - val_classification_output_loss: 0.0274 - val_ordinal_regression_output_loss: 0.1133 - val_regression_output_accuracy: 0.4730 - val_classification_output_accuracy: 0.7116 - val_ordinal_regression_output_accuracy: 0.8011\n",
            "Epoch 44/45\n",
            "91/91 [==============================] - 166s 2s/step - loss: 2.3691 - regression_output_loss: 2.1689 - classification_output_loss: 0.0391 - ordinal_regression_output_loss: 0.1611 - regression_output_accuracy: 0.3669 - classification_output_accuracy: 0.6306 - ordinal_regression_output_accuracy: 0.7048 - val_loss: 1.1045 - val_regression_output_loss: 0.9661 - val_classification_output_loss: 0.0259 - val_ordinal_regression_output_loss: 0.1125 - val_regression_output_accuracy: 0.4545 - val_classification_output_accuracy: 0.7401 - val_ordinal_regression_output_accuracy: 0.8139\n",
            "Epoch 45/45\n",
            "91/91 [==============================] - 167s 2s/step - loss: 2.3279 - regression_output_loss: 2.1268 - classification_output_loss: 0.0390 - ordinal_regression_output_loss: 0.1621 - regression_output_accuracy: 0.3432 - classification_output_accuracy: 0.6443 - ordinal_regression_output_accuracy: 0.6994 - val_loss: 1.1098 - val_regression_output_loss: 0.9673 - val_classification_output_loss: 0.0264 - val_ordinal_regression_output_loss: 0.1161 - val_regression_output_accuracy: 0.4673 - val_classification_output_accuracy: 0.7273 - val_ordinal_regression_output_accuracy: 0.7784\n"
          ],
          "name": "stdout"
        }
      ]
    },
    {
      "cell_type": "code",
      "metadata": {
        "colab": {
          "base_uri": "https://localhost:8080/",
          "height": 350
        },
        "id": "PBIobuYSNDbu",
        "outputId": "3b469b9f-0421-4b1b-d272-67a3f45ea90f"
      },
      "source": [
        "plt.figure(figsize=(15,5))\n",
        "plt.plot(history['regression_output_loss'])\n",
        "plt.plot(history['val_regression_output_loss'])\n",
        "plt.title('Regression Model Loss - Main Training')\n",
        "plt.ylabel('Loss (MSE)')\n",
        "plt.xlabel('Epoch')\n",
        "plt.legend(['Train', 'Validation'], loc='best')\n",
        "plt.xticks(range(1,46))\n",
        "plt.gca().ticklabel_format(axis='both', style='plain', useOffset=False)\n",
        "plt.show()"
      ],
      "execution_count": null,
      "outputs": [
        {
          "output_type": "display_data",
          "data": {
            "image/png": "[encoded data removed]",
            "text/plain": [
              "<Figure size 1080x360 with 1 Axes>"
            ]
          },
          "metadata": {
            "tags": [],
            "needs_background": "light"
          }
        }
      ]
    },
    {
      "cell_type": "code",
      "metadata": {
        "colab": {
          "base_uri": "https://localhost:8080/",
          "height": 350
        },
        "id": "XQlUK5u8NDjt",
        "outputId": "6d9223d5-27d2-4c69-e202-51cdaefefe4b"
      },
      "source": [
        "plt.figure(figsize=(15,5))\n",
        "plt.plot(history['classification_output_loss'])\n",
        "plt.plot(history['val_classification_output_loss'])\n",
        "plt.title('Classification Model Loss - Main Training')\n",
        "plt.ylabel('Loss (Categorical Focal Loss)')\n",
        "plt.xlabel('Epoch')\n",
        "plt.legend(['Train', 'Validation'], loc='best')\n",
        "plt.xticks(range(1,46))\n",
        "plt.gca().ticklabel_format(axis='both', style='plain', useOffset=False)\n",
        "plt.show()"
      ],
      "execution_count": null,
      "outputs": [
        {
          "output_type": "display_data",
          "data": {
            "image/png": "[encoded data removed]",
            "text/plain": [
              "<Figure size 1080x360 with 1 Axes>"
            ]
          },
          "metadata": {
            "tags": [],
            "needs_background": "light"
          }
        }
      ]
    },
    {
      "cell_type": "code",
      "metadata": {
        "colab": {
          "base_uri": "https://localhost:8080/",
          "height": 350
        },
        "id": "tgYxfJGxNDqi",
        "outputId": "1e7a8e85-79f1-4856-832f-0d7d64288cfb"
      },
      "source": [
        "plt.figure(figsize=(15,5))\n",
        "plt.plot(history['ordinal_regression_output_loss'])\n",
        "plt.plot(history['val_ordinal_regression_output_loss'])\n",
        "plt.title('Ordinal Regression Model Loss - Main Training')\n",
        "plt.ylabel('Loss (Binary Focal Loss)')\n",
        "plt.xlabel('Epoch')\n",
        "plt.legend(['Train', 'Validation'], loc='best')\n",
        "plt.xticks(range(1,46))\n",
        "plt.gca().ticklabel_format(axis='both', style='plain', useOffset=False)\n",
        "plt.show()"
      ],
      "execution_count": null,
      "outputs": [
        {
          "output_type": "display_data",
          "data": {
            "image/png": "[encoded data removed]",
            "text/plain": [
              "<Figure size 1080x360 with 1 Axes>"
            ]
          },
          "metadata": {
            "tags": [],
            "needs_background": "light"
          }
        }
      ]
    },
    {
      "cell_type": "markdown",
      "metadata": {
        "id": "pOZFyljJRnMS"
      },
      "source": [
        "## **Stage 3 (Post Training)**\n"
      ]
    },
    {
      "cell_type": "code",
      "metadata": {
        "colab": {
          "base_uri": "https://localhost:8080/"
        },
        "id": "TPItySzSb_de",
        "outputId": "847e2c52-fc51-4068-f627-a6254eac226c"
      },
      "source": [
        "'''\n",
        "Get the Outputs from the 3 Heads - (Classification,Regression,Ordinal Regression) to pass the outputs to a new Model\n",
        "'''\n",
        "\n",
        "complete_datagen = ImageDataGenerator(rescale=1./255, rotation_range=360,brightness_range=[0.5, 1.5],\n",
        "                                     zoom_range=[1, 1.2],zca_whitening=True,horizontal_flip=True,\n",
        "                                     vertical_flip=True,fill_mode='constant')\n",
        "complete_generator = complete_datagen.flow_from_dataframe(dataframe=df_train_train,\n",
        "                                                          directory = \"./train_images_resized_preprocessed/\",\n",
        "                                                          x_col=\"file_name\",\n",
        "                                                          target_size=(HEIGHT, WIDTH),\n",
        "                                                          batch_size=1,\n",
        "                                                          shuffle=False,\n",
        "                                                          class_mode=None)\n",
        "STEP_SIZE_COMPLETE = complete_generator.n//complete_generator.batch_size\n",
        "print(complete_generator.n)\n",
        "\n",
        "new_train_datagen=ImageDataGenerator(rescale=1./255, rotation_range=360,brightness_range=[0.5, 1.5],\n",
        "                                     zoom_range=[1, 1.2],zca_whitening=True,horizontal_flip=True,\n",
        "                                     vertical_flip=True,fill_mode='constant')\n",
        "\n",
        "new_train_generator = new_train_datagen.flow_from_dataframe(dataframe=df_train_new_train,\n",
        "                                                          directory = \"./train_images_resized_preprocessed/\",\n",
        "                                                          x_col=\"file_name\",\n",
        "                                                          target_size=(HEIGHT, WIDTH),\n",
        "                                                          batch_size=1,\n",
        "                                                          class_mode=None,\n",
        "                                                          shuffle=False\n",
        "                                                          )\n",
        "\n",
        "print(new_train_generator.n)\n",
        "\n",
        "new_valid_generator = new_train_datagen.flow_from_dataframe(dataframe=df_train_valid,\n",
        "                                                          directory = \"./train_images_resized_preprocessed/\",\n",
        "                                                          x_col=\"file_name\",\n",
        "                                                          target_size=(HEIGHT, WIDTH),\n",
        "                                                          batch_size=1,\n",
        "                                                          shuffle=False,\n",
        "                                                          class_mode=None\n",
        "                                                          )\n",
        "print(new_valid_generator.n)"
      ],
      "execution_count": null,
      "outputs": [
        {
          "output_type": "stream",
          "text": [
            "/usr/local/lib/python3.7/dist-packages/keras_preprocessing/image/image_data_generator.py:337: UserWarning: This ImageDataGenerator specifies `zca_whitening`, which overrides setting of `featurewise_center`.\n",
            "  warnings.warn('This ImageDataGenerator specifies '\n"
          ],
          "name": "stderr"
        },
        {
          "output_type": "stream",
          "text": [
            "Found 2929 validated image filenames.\n",
            "2929\n",
            "Found 2343 validated image filenames.\n",
            "2343\n",
            "Found 586 validated image filenames.\n",
            "586\n"
          ],
          "name": "stdout"
        }
      ]
    },
    {
      "cell_type": "code",
      "metadata": {
        "colab": {
          "base_uri": "https://localhost:8080/"
        },
        "id": "5S3C2x2Hwo8-",
        "outputId": "c52a8ac0-3b92-408e-93cd-956211c88fec"
      },
      "source": [
        "test_generator = complete_datagen.flow_from_dataframe(dataframe=df_train_test,\n",
        "                                                          directory = \"./test_images_resized_preprocessed/\",\n",
        "                                                          x_col=\"file_name\",\n",
        "                                                          target_size=(HEIGHT, WIDTH),\n",
        "                                                          batch_size=1,\n",
        "                                                          shuffle=False,\n",
        "                                                          class_mode=None)\n",
        "STEP_SIZE_TEST = test_generator.n//test_generator.batch_size\n",
        "print(test_generator.n)"
      ],
      "execution_count": null,
      "outputs": [
        {
          "output_type": "stream",
          "text": [
            "Found 733 validated image filenames.\n",
            "733\n"
          ],
          "name": "stdout"
        }
      ]
    },
    {
      "cell_type": "code",
      "metadata": {
        "colab": {
          "base_uri": "https://localhost:8080/"
        },
        "id": "jPydELR1b_gF",
        "outputId": "c85f55a4-7113-4d9f-cec6-ea4690463980"
      },
      "source": [
        "model = load_model(\"model_main_training.h5\",custom_objects={'categorical_focal_loss_fixed':categorical_focal_loss(alpha=.25, gamma=2),\n",
        "                                                            'binary_focal_loss_fixed' : binary_focal_loss(alpha=.25, gamma=2)})\n",
        "complete_preds = model.predict_generator(complete_generator, steps=STEP_SIZE_COMPLETE,verbose = 1)\n",
        "\n",
        "f = open(\"complete_preds\",\"wb\")\n",
        "pickle.dump(complete_preds,f)\n",
        "f.close()"
      ],
      "execution_count": null,
      "outputs": [
        {
          "output_type": "stream",
          "text": [
            "/usr/local/lib/python3.7/dist-packages/tensorflow/python/keras/engine/training.py:1905: UserWarning: `Model.predict_generator` is deprecated and will be removed in a future version. Please use `Model.predict`, which supports generators.\n",
            "  warnings.warn('`Model.predict_generator` is deprecated and '\n",
            "/usr/local/lib/python3.7/dist-packages/keras_preprocessing/image/image_data_generator.py:720: UserWarning: This ImageDataGenerator specifies `featurewise_center`, but it hasn't been fit on any training data. Fit it first by calling `.fit(numpy_data)`.\n",
            "  warnings.warn('This ImageDataGenerator specifies '\n",
            "/usr/local/lib/python3.7/dist-packages/keras_preprocessing/image/image_data_generator.py:739: UserWarning: This ImageDataGenerator specifies `zca_whitening`, but it hasn't been fit on any training data. Fit it first by calling `.fit(numpy_data)`.\n",
            "  warnings.warn('This ImageDataGenerator specifies '\n"
          ],
          "name": "stderr"
        },
        {
          "output_type": "stream",
          "text": [
            "2929/2929 [==============================] - 2219s 757ms/step\n"
          ],
          "name": "stdout"
        }
      ]
    },
    {
      "cell_type": "code",
      "metadata": {
        "colab": {
          "base_uri": "https://localhost:8080/"
        },
        "id": "oykmjcylYRk6",
        "outputId": "3d5f8fd8-8df6-4499-9810-c7d5df87c791"
      },
      "source": [
        "STEP_SIZE_NEW_TRAIN = new_train_generator.n//new_train_generator.batch_size\n",
        "new_train_preds = model.predict_generator(new_train_generator, steps=STEP_SIZE_NEW_TRAIN,verbose = 1)\n",
        "\n",
        "f = open(\"new_train_preds\",\"wb\")\n",
        "pickle.dump(new_train_preds,f)\n",
        "f.close()"
      ],
      "execution_count": null,
      "outputs": [
        {
          "output_type": "stream",
          "text": [
            "   3/2343 [..............................] - ETA: 1:32"
          ],
          "name": "stdout"
        },
        {
          "output_type": "stream",
          "text": [
            "/usr/local/lib/python3.7/dist-packages/tensorflow/python/keras/engine/training.py:1905: UserWarning: `Model.predict_generator` is deprecated and will be removed in a future version. Please use `Model.predict`, which supports generators.\n",
            "  warnings.warn('`Model.predict_generator` is deprecated and '\n",
            "/usr/local/lib/python3.7/dist-packages/keras_preprocessing/image/image_data_generator.py:720: UserWarning: This ImageDataGenerator specifies `featurewise_center`, but it hasn't been fit on any training data. Fit it first by calling `.fit(numpy_data)`.\n",
            "  warnings.warn('This ImageDataGenerator specifies '\n",
            "/usr/local/lib/python3.7/dist-packages/keras_preprocessing/image/image_data_generator.py:739: UserWarning: This ImageDataGenerator specifies `zca_whitening`, but it hasn't been fit on any training data. Fit it first by calling `.fit(numpy_data)`.\n",
            "  warnings.warn('This ImageDataGenerator specifies '\n"
          ],
          "name": "stderr"
        },
        {
          "output_type": "stream",
          "text": [
            "2343/2343 [==============================] - 84s 36ms/step\n"
          ],
          "name": "stdout"
        }
      ]
    },
    {
      "cell_type": "code",
      "metadata": {
        "colab": {
          "base_uri": "https://localhost:8080/"
        },
        "id": "Vjb-wmPlYkR1",
        "outputId": "e41ebf6f-263f-4a99-ccab-a7b38305f4cb"
      },
      "source": [
        "STEP_SIZE_NEW_VALID = new_valid_generator.n//new_valid_generator.batch_size\n",
        "new_valid_preds = model.predict_generator(new_valid_generator, steps=STEP_SIZE_NEW_VALID,verbose = 1)\n",
        "\n",
        "f = open(\"new_valid_preds\",\"wb\")\n",
        "pickle.dump(new_valid_preds,f)\n",
        "f.close()"
      ],
      "execution_count": null,
      "outputs": [
        {
          "output_type": "stream",
          "text": [
            "  3/586 [..............................] - ETA: 21s"
          ],
          "name": "stdout"
        },
        {
          "output_type": "stream",
          "text": [
            "/usr/local/lib/python3.7/dist-packages/tensorflow/python/keras/engine/training.py:1905: UserWarning: `Model.predict_generator` is deprecated and will be removed in a future version. Please use `Model.predict`, which supports generators.\n",
            "  warnings.warn('`Model.predict_generator` is deprecated and '\n",
            "/usr/local/lib/python3.7/dist-packages/keras_preprocessing/image/image_data_generator.py:720: UserWarning: This ImageDataGenerator specifies `featurewise_center`, but it hasn't been fit on any training data. Fit it first by calling `.fit(numpy_data)`.\n",
            "  warnings.warn('This ImageDataGenerator specifies '\n",
            "/usr/local/lib/python3.7/dist-packages/keras_preprocessing/image/image_data_generator.py:739: UserWarning: This ImageDataGenerator specifies `zca_whitening`, but it hasn't been fit on any training data. Fit it first by calling `.fit(numpy_data)`.\n",
            "  warnings.warn('This ImageDataGenerator specifies '\n"
          ],
          "name": "stderr"
        },
        {
          "output_type": "stream",
          "text": [
            "586/586 [==============================] - 21s 36ms/step\n"
          ],
          "name": "stdout"
        }
      ]
    },
    {
      "cell_type": "code",
      "metadata": {
        "colab": {
          "base_uri": "https://localhost:8080/"
        },
        "id": "Snsubop3wzXg",
        "outputId": "b8988e44-265c-4a89-e4fd-a58bf2c76351"
      },
      "source": [
        "test_preds = model.predict_generator(test_generator, steps=STEP_SIZE_TEST,verbose = 1)\n",
        "\n",
        "f = open(\"test_preds\",\"wb\")\n",
        "pickle.dump(test_preds,f)\n",
        "f.close()"
      ],
      "execution_count": null,
      "outputs": [
        {
          "output_type": "stream",
          "text": [
            "/usr/local/lib/python3.7/dist-packages/tensorflow/python/keras/engine/training.py:1905: UserWarning: `Model.predict_generator` is deprecated and will be removed in a future version. Please use `Model.predict`, which supports generators.\n",
            "  warnings.warn('`Model.predict_generator` is deprecated and '\n",
            "/usr/local/lib/python3.7/dist-packages/keras_preprocessing/image/image_data_generator.py:720: UserWarning: This ImageDataGenerator specifies `featurewise_center`, but it hasn't been fit on any training data. Fit it first by calling `.fit(numpy_data)`.\n",
            "  warnings.warn('This ImageDataGenerator specifies '\n",
            "/usr/local/lib/python3.7/dist-packages/keras_preprocessing/image/image_data_generator.py:739: UserWarning: This ImageDataGenerator specifies `zca_whitening`, but it hasn't been fit on any training data. Fit it first by calling `.fit(numpy_data)`.\n",
            "  warnings.warn('This ImageDataGenerator specifies '\n"
          ],
          "name": "stderr"
        },
        {
          "output_type": "stream",
          "text": [
            "733/733 [==============================] - 562s 767ms/step\n"
          ],
          "name": "stdout"
        }
      ]
    },
    {
      "cell_type": "code",
      "metadata": {
        "colab": {
          "base_uri": "https://localhost:8080/"
        },
        "id": "bxeKrZirDmg9",
        "outputId": "fa29a05c-c3f5-4189-f1d7-0b031dc5e31b"
      },
      "source": [
        "print(complete_preds[0].shape,complete_preds[1].shape,complete_preds[2].shape)\n",
        "\n",
        "complete_output_regression = np.array(complete_preds[0]).reshape(-1,1)\n",
        "complete_output_classification = np.array(np.argmax(complete_preds[1],axis = -1)).reshape(-1,1)\n",
        "complete_output_ordinal_regression = np.array(np.sum(complete_preds[2],axis = -1)).reshape(-1,1)\n",
        "\n",
        "print(complete_output_regression.shape,complete_output_classification.shape,complete_output_ordinal_regression.shape)\n",
        "X_complete = np.hstack((complete_output_regression,complete_output_classification,complete_output_ordinal_regression))\n",
        "print(X_complete.shape)"
      ],
      "execution_count": null,
      "outputs": [
        {
          "output_type": "stream",
          "text": [
            "(2929, 1) (2929, 5) (2929, 5)\n",
            "(2929, 1) (2929, 1) (2929, 1)\n",
            "(2929, 3)\n"
          ],
          "name": "stdout"
        }
      ]
    },
    {
      "cell_type": "code",
      "metadata": {
        "colab": {
          "base_uri": "https://localhost:8080/"
        },
        "id": "mCPQGqWJqrIX",
        "outputId": "07d7ed65-79ba-4e92-ed72-2480ec06b4c5"
      },
      "source": [
        "print(new_train_preds[0].shape,new_train_preds[1].shape,new_train_preds[2].shape)\n",
        "\n",
        "new_train_output_regression = np.array(new_train_preds[0]).reshape(-1,1)\n",
        "new_train_output_classification = np.array(np.argmax(new_train_preds[1],axis = -1)).reshape(-1,1)\n",
        "new_train_output_ordinal_regression = np.array(np.sum(new_train_preds[2],axis = -1)).reshape(-1,1)\n",
        "\n",
        "print(new_train_output_regression.shape,new_train_output_classification.shape,new_train_output_ordinal_regression.shape)\n",
        "X_train = np.hstack((new_train_output_regression,new_train_output_classification,new_train_output_ordinal_regression))\n",
        "print(X_train.shape)"
      ],
      "execution_count": null,
      "outputs": [
        {
          "output_type": "stream",
          "text": [
            "(2343, 1) (2343, 5) (2343, 5)\n",
            "(2343, 1) (2343, 1) (2343, 1)\n",
            "(2343, 3)\n"
          ],
          "name": "stdout"
        }
      ]
    },
    {
      "cell_type": "code",
      "metadata": {
        "colab": {
          "base_uri": "https://localhost:8080/"
        },
        "id": "3__PcQWcakFQ",
        "outputId": "073bc355-6d28-42c2-89cd-b2862c3f48af"
      },
      "source": [
        "print(new_valid_preds[0].shape,new_valid_preds[1].shape,new_valid_preds[2].shape)\n",
        "\n",
        "new_valid_output_regression = np.array(new_valid_preds[0]).reshape(-1,1)\n",
        "new_valid_output_classification = np.array(np.argmax(new_valid_preds[1],axis = -1)).reshape(-1,1)\n",
        "new_valid_output_ordinal_regression = np.array(np.sum(new_valid_preds[2],axis = -1)).reshape(-1,1)\n",
        "\n",
        "print(new_valid_output_regression.shape,new_valid_output_classification.shape,new_valid_output_ordinal_regression.shape)\n",
        "X_valid = np.hstack((new_valid_output_regression,new_valid_output_classification,new_valid_output_ordinal_regression))\n",
        "print(X_valid.shape)"
      ],
      "execution_count": null,
      "outputs": [
        {
          "output_type": "stream",
          "text": [
            "(586, 1) (586, 5) (586, 5)\n",
            "(586, 1) (586, 1) (586, 1)\n",
            "(586, 3)\n"
          ],
          "name": "stdout"
        }
      ]
    },
    {
      "cell_type": "code",
      "metadata": {
        "colab": {
          "base_uri": "https://localhost:8080/"
        },
        "id": "MDQmh3iaw68C",
        "outputId": "45e854d3-99d8-4745-ab88-6659a9df9cc1"
      },
      "source": [
        "print(test_preds[0].shape,test_preds[1].shape,test_preds[2].shape)\n",
        "\n",
        "test_output_regression = np.array(test_preds[0]).reshape(-1,1)\n",
        "test_output_classification = np.array(np.argmax(test_preds[1],axis = -1)).reshape(-1,1)\n",
        "test_output_ordinal_regression = np.array(np.sum(test_preds[2],axis = -1)).reshape(-1,1)\n",
        "\n",
        "print(test_output_regression.shape,test_output_classification.shape,test_output_ordinal_regression.shape)\n",
        "X_test = np.hstack((test_output_regression,test_output_classification,test_output_ordinal_regression))\n",
        "print(X_test.shape)"
      ],
      "execution_count": null,
      "outputs": [
        {
          "output_type": "stream",
          "text": [
            "(733, 1) (733, 5) (733, 5)\n",
            "(733, 1) (733, 1) (733, 1)\n",
            "(733, 3)\n"
          ],
          "name": "stdout"
        }
      ]
    },
    {
      "cell_type": "code",
      "metadata": {
        "colab": {
          "base_uri": "https://localhost:8080/"
        },
        "id": "woVkwW_2Oicp",
        "outputId": "04c4f6fa-e6df-4e98-e9e0-24a067130452"
      },
      "source": [
        "model_post = Sequential()\n",
        "model_post.add(Dense(1, activation='linear', input_shape=(3,)))\n",
        "model_post.compile(optimizer=optimizers.SGD(lr=LEARNING_RATE), loss='mean_squared_error', metrics=['mean_squared_error'])\n",
        "model_post.summary()"
      ],
      "execution_count": null,
      "outputs": [
        {
          "output_type": "stream",
          "text": [
            "Model: \"sequential\"\n",
            "_________________________________________________________________\n",
            "Layer (type)                 Output Shape              Param #   \n",
            "=================================================================\n",
            "dense_6 (Dense)              (None, 1)                 4         \n",
            "=================================================================\n",
            "Total params: 4\n",
            "Trainable params: 4\n",
            "Non-trainable params: 0\n",
            "_________________________________________________________________\n"
          ],
          "name": "stdout"
        }
      ]
    },
    {
      "cell_type": "code",
      "metadata": {
        "id": "_Wf3fclXmC38"
      },
      "source": [
        "print(df_train_valid.diagnosis.values.astype(int))"
      ],
      "execution_count": null,
      "outputs": []
    },
    {
      "cell_type": "code",
      "metadata": {
        "colab": {
          "base_uri": "https://localhost:8080/"
        },
        "id": "c8Tnmh0FVWKV",
        "outputId": "0eeba1d5-2db1-47bd-9a74-cdaa8c1210fa"
      },
      "source": [
        "\n",
        "history = model_post.fit(X_complete,np.array(df_train_train.diagnosis.values.astype(int)),\n",
        "                         batch_size=BATCH_SIZE,\n",
        "                         epochs=50,\n",
        "                         verbose=1,\n",
        "                         validation_data = (X_test,np.array(df_train_test.diagnosis.values.astype(int))))\n",
        "\n",
        "model_post.save(\"model_post_training.h5\")\n",
        "f = open(\"history_post_training\",\"wb\")\n",
        "#pickle.dump(history,f)\n",
        "f.close()"
      ],
      "execution_count": null,
      "outputs": [
        {
          "output_type": "stream",
          "text": [
            "Epoch 1/50\n",
            "92/92 [==============================] - 1s 5ms/step - loss: 9.3968 - mean_squared_error: 9.3968 - val_loss: 5.4347 - val_mean_squared_error: 5.4347\n",
            "Epoch 2/50\n",
            "92/92 [==============================] - 0s 3ms/step - loss: 4.8607 - mean_squared_error: 4.8607 - val_loss: 2.8638 - val_mean_squared_error: 2.8638\n",
            "Epoch 3/50\n",
            "92/92 [==============================] - 0s 3ms/step - loss: 2.7798 - mean_squared_error: 2.7798 - val_loss: 1.6986 - val_mean_squared_error: 1.6986\n",
            "Epoch 4/50\n",
            "92/92 [==============================] - 0s 3ms/step - loss: 1.6371 - mean_squared_error: 1.6371 - val_loss: 1.1651 - val_mean_squared_error: 1.1651\n",
            "Epoch 5/50\n",
            "92/92 [==============================] - 0s 3ms/step - loss: 1.1293 - mean_squared_error: 1.1293 - val_loss: 0.9294 - val_mean_squared_error: 0.9294\n",
            "Epoch 6/50\n",
            "92/92 [==============================] - 0s 3ms/step - loss: 0.9611 - mean_squared_error: 0.9611 - val_loss: 0.8222 - val_mean_squared_error: 0.8222\n",
            "Epoch 7/50\n",
            "92/92 [==============================] - 0s 3ms/step - loss: 0.8812 - mean_squared_error: 0.8812 - val_loss: 0.7726 - val_mean_squared_error: 0.7726\n",
            "Epoch 8/50\n",
            "92/92 [==============================] - 0s 3ms/step - loss: 0.8740 - mean_squared_error: 0.8740 - val_loss: 0.7496 - val_mean_squared_error: 0.7496\n",
            "Epoch 9/50\n",
            "92/92 [==============================] - 0s 3ms/step - loss: 0.8107 - mean_squared_error: 0.8107 - val_loss: 0.7372 - val_mean_squared_error: 0.7372\n",
            "Epoch 10/50\n",
            "92/92 [==============================] - 0s 3ms/step - loss: 0.7532 - mean_squared_error: 0.7532 - val_loss: 0.7295 - val_mean_squared_error: 0.7295\n",
            "Epoch 11/50\n",
            "92/92 [==============================] - 0s 3ms/step - loss: 0.7426 - mean_squared_error: 0.7426 - val_loss: 0.7238 - val_mean_squared_error: 0.7238\n",
            "Epoch 12/50\n",
            "92/92 [==============================] - 0s 3ms/step - loss: 0.7475 - mean_squared_error: 0.7475 - val_loss: 0.7189 - val_mean_squared_error: 0.7189\n",
            "Epoch 13/50\n",
            "92/92 [==============================] - 0s 3ms/step - loss: 0.7728 - mean_squared_error: 0.7728 - val_loss: 0.7144 - val_mean_squared_error: 0.7144\n",
            "Epoch 14/50\n",
            "92/92 [==============================] - 0s 4ms/step - loss: 0.7437 - mean_squared_error: 0.7437 - val_loss: 0.7100 - val_mean_squared_error: 0.7100\n",
            "Epoch 15/50\n",
            "92/92 [==============================] - 0s 3ms/step - loss: 0.7300 - mean_squared_error: 0.7300 - val_loss: 0.7059 - val_mean_squared_error: 0.7059\n",
            "Epoch 16/50\n",
            "92/92 [==============================] - 0s 3ms/step - loss: 0.7586 - mean_squared_error: 0.7586 - val_loss: 0.7019 - val_mean_squared_error: 0.7019\n",
            "Epoch 17/50\n",
            "92/92 [==============================] - 0s 3ms/step - loss: 0.7926 - mean_squared_error: 0.7926 - val_loss: 0.6981 - val_mean_squared_error: 0.6981\n",
            "Epoch 18/50\n",
            "92/92 [==============================] - 0s 3ms/step - loss: 0.7313 - mean_squared_error: 0.7313 - val_loss: 0.6945 - val_mean_squared_error: 0.6945\n",
            "Epoch 19/50\n",
            "92/92 [==============================] - 0s 3ms/step - loss: 0.7491 - mean_squared_error: 0.7491 - val_loss: 0.6909 - val_mean_squared_error: 0.6909\n",
            "Epoch 20/50\n",
            "92/92 [==============================] - 0s 3ms/step - loss: 0.7596 - mean_squared_error: 0.7596 - val_loss: 0.6876 - val_mean_squared_error: 0.6876\n",
            "Epoch 21/50\n",
            "92/92 [==============================] - 0s 3ms/step - loss: 0.7080 - mean_squared_error: 0.7080 - val_loss: 0.6845 - val_mean_squared_error: 0.6845\n",
            "Epoch 22/50\n",
            "92/92 [==============================] - 0s 3ms/step - loss: 0.7227 - mean_squared_error: 0.7227 - val_loss: 0.6817 - val_mean_squared_error: 0.6817\n",
            "Epoch 23/50\n",
            "92/92 [==============================] - 0s 3ms/step - loss: 0.6862 - mean_squared_error: 0.6862 - val_loss: 0.6790 - val_mean_squared_error: 0.6790\n",
            "Epoch 24/50\n",
            "92/92 [==============================] - 0s 3ms/step - loss: 0.7615 - mean_squared_error: 0.7615 - val_loss: 0.6763 - val_mean_squared_error: 0.6763\n",
            "Epoch 25/50\n",
            "92/92 [==============================] - 0s 3ms/step - loss: 0.7230 - mean_squared_error: 0.7230 - val_loss: 0.6738 - val_mean_squared_error: 0.6738\n",
            "Epoch 26/50\n",
            "92/92 [==============================] - 0s 3ms/step - loss: 0.7065 - mean_squared_error: 0.7065 - val_loss: 0.6715 - val_mean_squared_error: 0.6715\n",
            "Epoch 27/50\n",
            "92/92 [==============================] - 0s 3ms/step - loss: 0.6996 - mean_squared_error: 0.6996 - val_loss: 0.6692 - val_mean_squared_error: 0.6692\n",
            "Epoch 28/50\n",
            "92/92 [==============================] - 0s 3ms/step - loss: 0.7617 - mean_squared_error: 0.7617 - val_loss: 0.6670 - val_mean_squared_error: 0.6670\n",
            "Epoch 29/50\n",
            "92/92 [==============================] - 0s 3ms/step - loss: 0.7423 - mean_squared_error: 0.7423 - val_loss: 0.6650 - val_mean_squared_error: 0.6650\n",
            "Epoch 30/50\n",
            "92/92 [==============================] - 0s 3ms/step - loss: 0.7043 - mean_squared_error: 0.7043 - val_loss: 0.6634 - val_mean_squared_error: 0.6634\n",
            "Epoch 31/50\n",
            "92/92 [==============================] - 0s 3ms/step - loss: 0.6746 - mean_squared_error: 0.6746 - val_loss: 0.6615 - val_mean_squared_error: 0.6615\n",
            "Epoch 32/50\n",
            "92/92 [==============================] - 0s 3ms/step - loss: 0.6892 - mean_squared_error: 0.6892 - val_loss: 0.6598 - val_mean_squared_error: 0.6598\n",
            "Epoch 33/50\n",
            "92/92 [==============================] - 0s 3ms/step - loss: 0.6879 - mean_squared_error: 0.6879 - val_loss: 0.6582 - val_mean_squared_error: 0.6582\n",
            "Epoch 34/50\n",
            "92/92 [==============================] - 0s 3ms/step - loss: 0.7014 - mean_squared_error: 0.7014 - val_loss: 0.6568 - val_mean_squared_error: 0.6568\n",
            "Epoch 35/50\n",
            "92/92 [==============================] - 0s 3ms/step - loss: 0.7427 - mean_squared_error: 0.7427 - val_loss: 0.6553 - val_mean_squared_error: 0.6553\n",
            "Epoch 36/50\n",
            "92/92 [==============================] - 0s 3ms/step - loss: 0.6464 - mean_squared_error: 0.6464 - val_loss: 0.6540 - val_mean_squared_error: 0.6540\n",
            "Epoch 37/50\n",
            "92/92 [==============================] - 0s 3ms/step - loss: 0.7074 - mean_squared_error: 0.7074 - val_loss: 0.6528 - val_mean_squared_error: 0.6528\n",
            "Epoch 38/50\n",
            "92/92 [==============================] - 0s 3ms/step - loss: 0.6938 - mean_squared_error: 0.6938 - val_loss: 0.6515 - val_mean_squared_error: 0.6515\n",
            "Epoch 39/50\n",
            "92/92 [==============================] - 0s 4ms/step - loss: 0.6912 - mean_squared_error: 0.6912 - val_loss: 0.6504 - val_mean_squared_error: 0.6504\n",
            "Epoch 40/50\n",
            "92/92 [==============================] - 0s 3ms/step - loss: 0.6810 - mean_squared_error: 0.6810 - val_loss: 0.6494 - val_mean_squared_error: 0.6494\n",
            "Epoch 41/50\n",
            "92/92 [==============================] - 0s 3ms/step - loss: 0.6782 - mean_squared_error: 0.6782 - val_loss: 0.6485 - val_mean_squared_error: 0.6485\n",
            "Epoch 42/50\n",
            "92/92 [==============================] - 0s 3ms/step - loss: 0.7204 - mean_squared_error: 0.7204 - val_loss: 0.6475 - val_mean_squared_error: 0.6475\n",
            "Epoch 43/50\n",
            "92/92 [==============================] - 0s 3ms/step - loss: 0.6772 - mean_squared_error: 0.6772 - val_loss: 0.6466 - val_mean_squared_error: 0.6466\n",
            "Epoch 44/50\n",
            "92/92 [==============================] - 0s 3ms/step - loss: 0.7044 - mean_squared_error: 0.7044 - val_loss: 0.6457 - val_mean_squared_error: 0.6457\n",
            "Epoch 45/50\n",
            "92/92 [==============================] - 0s 3ms/step - loss: 0.6565 - mean_squared_error: 0.6565 - val_loss: 0.6449 - val_mean_squared_error: 0.6449\n",
            "Epoch 46/50\n",
            "92/92 [==============================] - 0s 3ms/step - loss: 0.7023 - mean_squared_error: 0.7023 - val_loss: 0.6442 - val_mean_squared_error: 0.6442\n",
            "Epoch 47/50\n",
            "92/92 [==============================] - 0s 3ms/step - loss: 0.6669 - mean_squared_error: 0.6669 - val_loss: 0.6434 - val_mean_squared_error: 0.6434\n",
            "Epoch 48/50\n",
            "92/92 [==============================] - 0s 3ms/step - loss: 0.6553 - mean_squared_error: 0.6553 - val_loss: 0.6429 - val_mean_squared_error: 0.6429\n",
            "Epoch 49/50\n",
            "92/92 [==============================] - 0s 3ms/step - loss: 0.7006 - mean_squared_error: 0.7006 - val_loss: 0.6424 - val_mean_squared_error: 0.6424\n",
            "Epoch 50/50\n",
            "92/92 [==============================] - 0s 3ms/step - loss: 0.6780 - mean_squared_error: 0.6780 - val_loss: 0.6418 - val_mean_squared_error: 0.6418\n"
          ],
          "name": "stdout"
        }
      ]
    },
    {
      "cell_type": "code",
      "metadata": {
        "colab": {
          "base_uri": "https://localhost:8080/",
          "height": 370
        },
        "id": "FtrJDNeCVWMo",
        "outputId": "39a9ad7b-07c5-4b5d-a018-b3b36c311714"
      },
      "source": [
        "plt.figure(figsize=(25,5))\n",
        "plt.plot(history.history['loss'])\n",
        "plt.plot(history.history['val_loss'])\n",
        "plt.title('Linear Regression Model Loss - Post Training (50 epochs)')\n",
        "plt.ylabel('Loss (MSE)')\n",
        "plt.xlabel('Epoch')\n",
        "plt.legend(['Train', 'Validation'], loc='best')\n",
        "plt.xticks(range(1,51))\n",
        "plt.gca().ticklabel_format(axis='both', style='plain', useOffset=False)\n",
        "plt.show()"
      ],
      "execution_count": null,
      "outputs": [
        {
          "output_type": "display_data",
          "data": {
            "image/png": "[encoded data removed]",
            "text/plain": [
              "<Figure size 1800x360 with 1 Axes>"
            ]
          },
          "metadata": {
            "tags": [],
            "needs_background": "light"
          }
        }
      ]
    },
    {
      "cell_type": "markdown",
      "metadata": {
        "id": "UnpWnUyW4nuA"
      },
      "source": [
        "##**Evaluate Model performance (Test data)**"
      ]
    },
    {
      "cell_type": "code",
      "metadata": {
        "id": "Tb0PBdUbVWPJ"
      },
      "source": [
        "# ref- https://github.com/dimitreOliveira/APTOS2019BlindnessDetection/blob/master/Model%20backlog/ResNet50/63%20-%20ResNet50%20-%20Regression%20-%20RGB%20scale.ipynb\n",
        "'''This Function does nearest integer rounding for regression output from the post training model'''\n",
        "\n",
        "def classify(x):\n",
        "    if x < 0.5:\n",
        "        return 0\n",
        "    elif x < 1.5:\n",
        "        return 1\n",
        "    elif x < 2.5:\n",
        "        return 2\n",
        "    elif x < 3.5:\n",
        "        return 3\n",
        "    return 4"
      ],
      "execution_count": null,
      "outputs": []
    },
    {
      "cell_type": "code",
      "metadata": {
        "colab": {
          "base_uri": "https://localhost:8080/"
        },
        "id": "qySwX-6dVWRT",
        "outputId": "39d9e7b1-2e5b-4d77-ceef-1bba17d13427"
      },
      "source": [
        "train_labels = model_post.predict(X_complete,batch_size=1,verbose = 1)\n",
        "train_labels = np.apply_along_axis(classify, 1, train_labels)"
      ],
      "execution_count": null,
      "outputs": [
        {
          "output_type": "stream",
          "text": [
            "2929/2929 [==============================] - 4s 1ms/step\n"
          ],
          "name": "stdout"
        }
      ]
    },
    {
      "cell_type": "code",
      "metadata": {
        "colab": {
          "base_uri": "https://localhost:8080/"
        },
        "id": "JGVHhia6VWT2",
        "outputId": "84358163-1857-4e6e-c56d-871e26347620"
      },
      "source": [
        "test_labels = model_post.predict(X_test,batch_size=1,verbose = 1)\n",
        "test_labels = np.apply_along_axis(classify, 1, test_labels)"
      ],
      "execution_count": null,
      "outputs": [
        {
          "output_type": "stream",
          "text": [
            "733/733 [==============================] - 1s 1ms/step\n"
          ],
          "name": "stdout"
        }
      ]
    },
    {
      "cell_type": "code",
      "metadata": {
        "id": "iiQE5CcB4LSF"
      },
      "source": [
        "# Plot Confusion Matrix..\n",
        "\n",
        "def plot_conf_matrix(true,pred,classes):\n",
        "    cf = confusion_matrix(true, pred)\n",
        "    \n",
        "    df_cm = pd.DataFrame(cf, range(len(classes)), range(len(classes)))\n",
        "    plt.figure(figsize=(8,5.5))\n",
        "    sns.set(font_scale=1.4)\n",
        "    sns.heatmap(df_cm, annot=True, annot_kws={\"size\": 16},xticklabels = classes ,yticklabels = classes,fmt='g')\n",
        "    #sns.heatmap(df_cm, annot=True, annot_kws={\"size\": 16})\n",
        "    plt.show()"
      ],
      "execution_count": null,
      "outputs": []
    },
    {
      "cell_type": "code",
      "metadata": {
        "colab": {
          "base_uri": "https://localhost:8080/",
          "height": 485
        },
        "id": "G-BTE9Cn4LVy",
        "outputId": "dafcf2e2-5e09-4c2c-d495-8a442f5dd0cc"
      },
      "source": [
        "labels = ['0 - No DR', '1 - Mild', '2 - Moderate', '3 - Severe', '4 - Proliferative DR']\n",
        "plot_conf_matrix(list(df_train_test['diagnosis'].astype(int)),test_labels,labels)"
      ],
      "execution_count": null,
      "outputs": [
        {
          "output_type": "display_data",
          "data": {
            "image/png": "[encoded data removed]",
            "text/plain": [
              "<Figure size 576x396 with 2 Axes>"
            ]
          },
          "metadata": {
            "tags": [],
            "needs_background": "light"
          }
        }
      ]
    },
    {
      "cell_type": "code",
      "metadata": {
        "colab": {
          "base_uri": "https://localhost:8080/",
          "height": 420
        },
        "id": "d70ssg2u4sZ2",
        "outputId": "c6e4c199-584b-4a1f-ac49-8575e3393138"
      },
      "source": [
        "cnf_matrix = confusion_matrix(df_train_test['diagnosis'].astype('int'), test_labels)\n",
        "cnf_matrix_norm = cnf_matrix.astype('float') / cnf_matrix.sum(axis=1)[:, np.newaxis]\n",
        "df_cm = pd.DataFrame(cnf_matrix_norm, index=labels, columns=labels)\n",
        "plt.figure(figsize=(16, 7))\n",
        "sns.heatmap(df_cm, annot=True, fmt='.2f', cmap=\"Blues\")\n",
        "plt.show()"
      ],
      "execution_count": null,
      "outputs": [
        {
          "output_type": "display_data",
          "data": {
            "image/png": "[encoded data removed]",
            "text/plain": [
              "<Figure size 1152x504 with 2 Axes>"
            ]
          },
          "metadata": {
            "tags": []
          }
        }
      ]
    },
    {
      "cell_type": "code",
      "metadata": {
        "colab": {
          "base_uri": "https://localhost:8080/"
        },
        "id": "l7c3uhJK432J",
        "outputId": "62c0156d-b9e2-4f3d-fc38-d43d8879738e"
      },
      "source": [
        "print(\"Train Cohen Kappa score: %.3f\" % cohen_kappa_score(train_labels, df_train_train['diagnosis'].astype('int'), weights='quadratic'))\n",
        "print(\"Train Accuracy score : %.3f\" % accuracy_score(df_train_train['diagnosis'].astype('int'),train_labels))"
      ],
      "execution_count": null,
      "outputs": [
        {
          "output_type": "stream",
          "text": [
            "Train Cohen Kappa score: 0.730\n",
            "Train Accuracy score : 0.571\n"
          ],
          "name": "stdout"
        }
      ]
    },
    {
      "cell_type": "code",
      "metadata": {
        "colab": {
          "base_uri": "https://localhost:8080/"
        },
        "id": "KjckvWfv4sc-",
        "outputId": "4020dc32-7e9a-4d61-a997-28b93a856e6a"
      },
      "source": [
        "print(\"Test Cohen Kappa score: %.3f\" % cohen_kappa_score(test_labels, df_train_test['diagnosis'].astype('int'), weights='quadratic'))\n",
        "print(\"Test Accuracy score : %.3f\" % accuracy_score(df_train_test['diagnosis'].astype('int'),test_labels))"
      ],
      "execution_count": null,
      "outputs": [
        {
          "output_type": "stream",
          "text": [
            "Test Cohen Kappa score: 0.733\n",
            "Test Accuracy score : 0.589\n"
          ],
          "name": "stdout"
        }
      ]
    }
  ]
}